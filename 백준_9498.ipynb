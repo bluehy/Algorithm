{
  "nbformat": 4,
  "nbformat_minor": 0,
  "metadata": {
    "colab": {
      "name": "백준 9498.ipynb",
      "provenance": [],
      "collapsed_sections": [],
      "authorship_tag": "ABX9TyNyUNnYjc93u3rD3k4SKf2X",
      "include_colab_link": true
    },
    "kernelspec": {
      "name": "python3",
      "display_name": "Python 3"
    },
    "language_info": {
      "name": "python"
    }
  },
  "cells": [
    {
      "cell_type": "markdown",
      "metadata": {
        "id": "view-in-github",
        "colab_type": "text"
      },
      "source": [
        "<a href=\"https://colab.research.google.com/github/bluehy/Algorithm/blob/main/%EB%B0%B1%EC%A4%80_9498.ipynb\" target=\"_parent\"><img src=\"https://colab.research.google.com/assets/colab-badge.svg\" alt=\"Open In Colab\"/></a>"
      ]
    },
    {
      "cell_type": "markdown",
      "source": [
        "# 알고리즘 스터디\n",
        "2022.08.23\n",
        "\n",
        "#### 📌백준 9498 파이썬"
      ],
      "metadata": {
        "id": "XhesGIAZDZcS"
      }
    },
    {
      "cell_type": "markdown",
      "source": [
        "시험 점수를 입력받아 90 ~ 100점은 A, 80 ~ 89점은 B, 70 ~ 79점은 C, 60 ~ 69점은 D, 나머지 점수는 F를 출력하는 프로그램을 작성하시오."
      ],
      "metadata": {
        "id": "A9yQEsGUDdrg"
      }
    },
    {
      "cell_type": "markdown",
      "source": [
        "#### <입력>\n",
        "첫째 줄에 시험 점수가 주어진다. 시험 점수는 0보다 크거나 같고, 100보다 작거나 같은 정수이다.\n",
        "```\n",
        "100\n",
        "```\n",
        "---\n",
        "#### <출력>\n",
        "시험 성적을 출력한다.\n",
        "```\n",
        "A\n",
        "```"
      ],
      "metadata": {
        "id": "KMWmA7jVDgC0"
      }
    },
    {
      "cell_type": "markdown",
      "source": [
        "### 🐣 내 풀이"
      ],
      "metadata": {
        "id": "lo4adEwkEFg8"
      }
    },
    {
      "cell_type": "code",
      "execution_count": 11,
      "metadata": {
        "colab": {
          "base_uri": "https://localhost:8080/"
        },
        "id": "xCJJUwGsCirf",
        "outputId": "fb7926ed-f737-4f76-d537-81fa94199f23"
      },
      "outputs": [
        {
          "output_type": "stream",
          "name": "stdout",
          "text": [
            "69\n",
            "D\n"
          ]
        }
      ],
      "source": [
        "score = int(input(''))\n",
        "if score > 89 :\n",
        "  print(\"A\")\n",
        "elif score > 79  :\n",
        "  print(\"B\")\n",
        "elif score > 69 :\n",
        "  print(\"C\")\n",
        "elif score > 59 :\n",
        "  print(\"D\")\n",
        "else :\n",
        "  print(\"F\")"
      ]
    },
    {
      "cell_type": "markdown",
      "source": [
        "### 👩‍💻 다른 풀이"
      ],
      "metadata": {
        "id": "TTiYCc_uFZw3"
      }
    },
    {
      "cell_type": "code",
      "source": [
        "# 삼항연산자\n",
        "score = int(input(\"\"))\n",
        "print('A') if score >= 90 else print('B') if score >= 80 else print('C') if score >= 70 else print('D') if score >= 60 else print('F')\n",
        "\n",
        "# 숏코딩 : 10으로 나눈 몫을 인덱스값으로 활용하기\n",
        "print('FFFFFFDCBAA'[int(input(\"\"))//10])"
      ],
      "metadata": {
        "colab": {
          "base_uri": "https://localhost:8080/"
        },
        "id": "dtpspq6IFdIA",
        "outputId": "d52d2631-ac4d-47c4-c882-8b3323ebe10b"
      },
      "execution_count": 19,
      "outputs": [
        {
          "output_type": "stream",
          "name": "stdout",
          "text": [
            "86\n",
            "B\n",
            "69\n",
            "D\n"
          ]
        }
      ]
    },
    {
      "cell_type": "markdown",
      "source": [
        "#### 🔍 참고사이트\n",
        "- [파이썬 if문](https://wikidocs.net/20)\n",
        "- [9498 문제 풀이 1](https://ooyoung.tistory.com/25)\n",
        "- [파이썬 삼항연산자](https://ooyoung.tistory.com/116)\n",
        "- [인덱스 활용하기](https://official-hacademi.tistory.com/entry/22-%EB%B0%B1%EC%A4%80-9498-%EC%8B%9C%ED%97%98-%EC%84%B1%EC%A0%81-%ED%8C%8C%EC%9D%B4%EC%8D%AC)"
      ],
      "metadata": {
        "id": "CJdhAggqFfGQ"
      }
    }
  ]
}