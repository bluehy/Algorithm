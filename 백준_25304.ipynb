{
  "nbformat": 4,
  "nbformat_minor": 0,
  "metadata": {
    "colab": {
      "provenance": [],
      "collapsed_sections": [],
      "authorship_tag": "ABX9TyOfXLP73i3gF44IXdz7lm7z",
      "include_colab_link": true
    },
    "kernelspec": {
      "name": "python3",
      "display_name": "Python 3"
    },
    "language_info": {
      "name": "python"
    }
  },
  "cells": [
    {
      "cell_type": "markdown",
      "metadata": {
        "id": "view-in-github",
        "colab_type": "text"
      },
      "source": [
        "<a href=\"https://colab.research.google.com/github/bluehy/Algorithm/blob/main/%EB%B0%B1%EC%A4%80_25304.ipynb\" target=\"_parent\"><img src=\"https://colab.research.google.com/assets/colab-badge.svg\" alt=\"Open In Colab\"/></a>"
      ]
    },
    {
      "cell_type": "markdown",
      "source": [
        "# 알고리즘\n",
        "2022.09.14\n",
        "\n",
        "#### 📌백준 25304 파이썬"
      ],
      "metadata": {
        "id": "INO7zA_SUvBA"
      }
    },
    {
      "cell_type": "markdown",
      "source": [
        "준원이는 저번 주에 살면서 처음으로 코스트코를 가 봤다. 정말 멋졌다. 그런데, 몇 개 담지도 않았는데 수상하게 높은 금액이 나오는 것이다! 준원이는 영수증을 보면서 정확하게 계산된 것이 맞는지 확인해보려 한다.\n",
        "\n",
        "영수증에 적힌,\n",
        "\n",
        "- 구매한 각 물건의 가격과 개수\n",
        "- 구매한 물건들의 총 금액\n",
        "\n",
        "을 보고, 구매한 물건의 가격과 개수로 계산한 총 금액이 영수증에 적힌 총 금액과 일치하는지 검사해보자."
      ],
      "metadata": {
        "id": "GvZ-nUtMU2Gi"
      }
    },
    {
      "cell_type": "markdown",
      "source": [
        "#### <입력>\n",
        "첫째 줄에는 영수증에 적힌 총 금액 $X$가 주어진다.\n",
        "\n",
        "둘째 줄에는 영수증에 적힌 구매한 물건의 종류의 수 $N$이 주어진다.\n",
        "\n",
        "이후 $N$개의 줄에는 각 물건의 가격 $a$와 개수 $b$가 공백을 사이에 두고 주어진다.\n",
        "```\n",
        "260000\n",
        "4\n",
        "20000 5\n",
        "30000 2\n",
        "10000 6\n",
        "5000 8\n",
        "```\n",
        "\n",
        "---\n",
        "#### <출력>\n",
        "구매한 물건의 가격과 개수로 계산한 총 금액이 영수증에 적힌 총 금액과 일치하면 Yes를 출력한다. 일치하지 않는다면 No를 출력한다.\n",
        "```\n",
        "Yes\n",
        "```\n",
        "영수증에 적힌 구매할 물건들의 목록으로 계산한 총 금액은 20000 × 5 + 30000 × 2 + 10000 × 6 + 5000 × 8 = 260000원이다. 이는 영수증에 적힌 총 금액인 260000원과 일치한다. \n",
        "\n",
        "---\n",
        "#### <제한>\n",
        "-  $1 ≤ X ≤ 1\\,000\\,000\\,000$ \n",
        "-  $1 ≤ N ≤ 100$ \n",
        "-  $1 ≤ a ≤ 1\\,000\\,000$ \n",
        " - $1 ≤ b ≤ 10$ "
      ],
      "metadata": {
        "id": "jey61NaqVTW5"
      }
    },
    {
      "cell_type": "markdown",
      "source": [
        "### 🐣 내 풀이"
      ],
      "metadata": {
        "id": "UNXlkzWYViOp"
      }
    },
    {
      "cell_type": "code",
      "execution_count": 2,
      "metadata": {
        "id": "Pw9pOQuiUuTO",
        "colab": {
          "base_uri": "https://localhost:8080/"
        },
        "outputId": "6bcdfd3f-e35f-489e-f331-7352bf4bef8a"
      },
      "outputs": [
        {
          "output_type": "stream",
          "name": "stdout",
          "text": [
            "250000\n",
            "4\n",
            "20000 5\n",
            "30000 2\n",
            "10000 6\n",
            "5000 8\n",
            "No\n"
          ]
        }
      ],
      "source": [
        "total = int(input())\n",
        "ea = int(input())\n",
        "result = 0\n",
        "\n",
        "for i in range(ea):\n",
        "  a, b = map(int, input().split())\n",
        "  result += a * b\n",
        "\n",
        "if total == result:\n",
        "  print(\"Yes\")\n",
        "else:\n",
        "  print(\"No\")"
      ]
    },
    {
      "cell_type": "markdown",
      "source": [
        "### 👩‍💻 다른 풀이"
      ],
      "metadata": {
        "id": "l4tdzTXjVley"
      }
    },
    {
      "cell_type": "code",
      "source": [
        "total_amount = int(input())\n",
        "times = int(input())\n",
        "\n",
        "for i in range(times):\n",
        "  amount, units = input().split()\n",
        "  amount, units = int(amount), int(units)\n",
        "\n",
        "  total_amount -= amount * units\n",
        "\n",
        "print(\"Yes\" if total_amount == 0 else \"No\")"
      ],
      "metadata": {
        "id": "kd12OEibVo17",
        "colab": {
          "base_uri": "https://localhost:8080/"
        },
        "outputId": "8514edfd-d990-4c5c-a3e9-c173636b06d0"
      },
      "execution_count": 3,
      "outputs": [
        {
          "output_type": "stream",
          "name": "stdout",
          "text": [
            "260000\n",
            "4\n",
            "20000 5\n",
            "30000 2\n",
            "10000 6\n",
            "5000 8\n",
            "Yes\n"
          ]
        }
      ]
    },
    {
      "cell_type": "code",
      "source": [
        "# 가격 * 갯수로 값을 구하는 함수\n",
        "def calculate(value):\n",
        "    return value[0] * value[1]\n",
        "\n",
        "# 총 가격을 구하고, 처음 제시된 값과 비교하는 함수\n",
        "def receipt(X, receipt_list):\n",
        "    answer = \"No\"\n",
        "    calculate_value = sum([calculate(value) for value in receipt_list])\n",
        "    \n",
        "    if X == calculate_value:\n",
        "        answer = \"Yes\"\n",
        "        \n",
        "    return answer\n",
        "    \n",
        "# 메인 함수의 시작\n",
        "if __name__ == \"__main__\":\n",
        "    X = int(input())\n",
        "    \n",
        "    receipt_list = []\n",
        "    \n",
        "    for _ in range(int(input())):\n",
        "        money, num = map(int, input().split())\n",
        "        \n",
        "        receipt_list.append((money, num))\n",
        "        \n",
        "    print(receipt(X, receipt_list))"
      ],
      "metadata": {
        "id": "1utgCnYpX0BF"
      },
      "execution_count": null,
      "outputs": []
    },
    {
      "cell_type": "markdown",
      "source": [
        "#### 🔍 참고사이트\n",
        "- [25304 문제 풀이 1](https://gogetem.tistory.com/entry/%EB%B0%B1%EC%A4%80-25304%EB%B2%88-%EC%98%81%EC%88%98%EC%A6%9D-Python3)\n",
        "- [25304 문제 풀이 2](https://somjang.tistory.com/entry/BaekJoon-25304%EB%B2%88-%EC%98%81%EC%88%98%EC%A6%9D-Python)\n",
        "- [if __name__ == \"__main__\": 구문에 대하여 1](https://medium.com/@chullino/if-name-main-%EC%9D%80-%EC%99%9C-%ED%95%84%EC%9A%94%ED%95%A0%EA%B9%8C-bc48cba7f720)\n",
        "- [if __name__ == \"__main__\": 구문에 대하여2](https://madplay.github.io/post/python-main-function)"
      ],
      "metadata": {
        "id": "X6qeTCkjVpLJ"
      }
    }
  ]
}