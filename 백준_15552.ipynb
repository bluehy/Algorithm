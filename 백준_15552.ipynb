{
  "nbformat": 4,
  "nbformat_minor": 0,
  "metadata": {
    "colab": {
      "provenance": [],
      "collapsed_sections": [],
      "authorship_tag": "ABX9TyMSJTUqj4Dy5TUUNUJF/JE7",
      "include_colab_link": true
    },
    "kernelspec": {
      "name": "python3",
      "display_name": "Python 3"
    },
    "language_info": {
      "name": "python"
    }
  },
  "cells": [
    {
      "cell_type": "markdown",
      "metadata": {
        "id": "view-in-github",
        "colab_type": "text"
      },
      "source": [
        "<a href=\"https://colab.research.google.com/github/bluehy/Algorithm/blob/main/%EB%B0%B1%EC%A4%80_15552.ipynb\" target=\"_parent\"><img src=\"https://colab.research.google.com/assets/colab-badge.svg\" alt=\"Open In Colab\"/></a>"
      ]
    },
    {
      "cell_type": "markdown",
      "source": [
        "# 알고리즘\n",
        "2022.09.15\n",
        "\n",
        "#### 📌백준 15552 파이썬"
      ],
      "metadata": {
        "id": "INO7zA_SUvBA"
      }
    },
    {
      "cell_type": "markdown",
      "source": [
        "본격적으로 for문 문제를 풀기 전에 주의해야 할 점이 있다. 입출력 방식이 느리면 여러 줄을 입력받거나 출력할 때 시간초과가 날 수 있다는 점이다.\n",
        "\n",
        "- C++을 사용하고 있고 cin/cout을 사용하고자 한다면, cin.tie(NULL)과 sync_with_stdio(false)를 둘 다 적용해 주고, endl 대신 개행문자(\\n)를 쓰자. 단, 이렇게 하면 더 이상 scanf/printf/puts/getchar/putchar 등 C의 입출력 방식을 사용하면 안 된다.\n",
        "\n",
        "- Java를 사용하고 있다면, Scanner와 System.out.println 대신 BufferedReader와 BufferedWriter를 사용할 수 있다. BufferedWriter.flush는 맨 마지막에 한 번만 하면 된다.\n",
        "\n",
        "- Python을 사용하고 있다면, input 대신 sys.stdin.readline을 사용할 수 있다. 단, 이때는 맨 끝의 개행문자까지 같이 입력받기 때문에 문자열을 저장하고 싶을 경우 .rstrip()을 추가로 해 주는 것이 좋다.\n",
        "\n",
        "또한 입력과 출력 스트림은 별개이므로, 테스트케이스를 전부 입력받아서 저장한 뒤 전부 출력할 필요는 없다. 테스트케이스를 하나 받은 뒤 하나 출력해도 된다.\n",
        "\n",
        "자세한 설명 및 다른 언어의 경우는 이 글에 설명되어 있다.\n",
        "\n",
        "[이 블로그 글](https://www.acmicpc.net/blog/view/55)에서 BOJ의 기타 여러 가지 팁을 볼 수 있다."
      ],
      "metadata": {
        "id": "GvZ-nUtMU2Gi"
      }
    },
    {
      "cell_type": "markdown",
      "source": [
        "#### <입력>\n",
        "첫 줄에 테스트케이스의 개수 T가 주어진다. T는 최대 1,000,000이다. 다음 T줄에는 각각 두 정수 A와 B가 주어진다. A와 B는 1 이상, 1,000 이하이다.\n",
        "```\n",
        "5\n",
        "1 1\n",
        "12 34\n",
        "5 500\n",
        "40 60\n",
        "1000 1000\n",
        "```\n",
        "\n",
        "---\n",
        "#### <출력>\n",
        "각 테스트케이스마다 A+B를 한 줄에 하나씩 순서대로 출력한다.\n",
        "```\n",
        "2\n",
        "46\n",
        "505\n",
        "100\n",
        "2000\n",
        "```"
      ],
      "metadata": {
        "id": "jey61NaqVTW5"
      }
    },
    {
      "cell_type": "markdown",
      "source": [
        "### 🐣 내 풀이"
      ],
      "metadata": {
        "id": "UNXlkzWYViOp"
      }
    },
    {
      "cell_type": "code",
      "source": [
        "T = int(input())\n",
        "\n",
        "for i in range(T):\n",
        "  a, b = map(int, input().split())\n",
        "  print(a + b)"
      ],
      "metadata": {
        "colab": {
          "base_uri": "https://localhost:8080/"
        },
        "id": "wRsrwHzUhc5s",
        "outputId": "094905e9-269f-41b8-bd29-a355493289d5"
      },
      "execution_count": 8,
      "outputs": [
        {
          "output_type": "stream",
          "name": "stdout",
          "text": [
            "5\n",
            "1 1\n",
            "2\n",
            "12 34\n",
            "46\n",
            "5 500\n",
            "505\n",
            "40 60\n",
            "100\n",
            "1000 1000\n",
            "2000\n"
          ]
        }
      ]
    },
    {
      "cell_type": "code",
      "execution_count": 13,
      "metadata": {
        "id": "Pw9pOQuiUuTO",
        "colab": {
          "base_uri": "https://localhost:8080/",
          "height": 248
        },
        "outputId": "6952a043-e1cc-42bb-e5f7-95f82ff60967"
      },
      "outputs": [
        {
          "name": "stdout",
          "output_type": "stream",
          "text": [
            "5\n"
          ]
        },
        {
          "output_type": "error",
          "ename": "TypeError",
          "evalue": "ignored",
          "traceback": [
            "\u001b[0;31m---------------------------------------------------------------------------\u001b[0m",
            "\u001b[0;31mTypeError\u001b[0m                                 Traceback (most recent call last)",
            "\u001b[0;32m<ipython-input-13-3ae2b5d5c871>\u001b[0m in \u001b[0;36m<module>\u001b[0;34m\u001b[0m\n\u001b[1;32m      8\u001b[0m \u001b[0;34m\u001b[0m\u001b[0m\n\u001b[1;32m      9\u001b[0m \u001b[0;32mfor\u001b[0m \u001b[0mi\u001b[0m \u001b[0;32min\u001b[0m \u001b[0mrange\u001b[0m\u001b[0;34m(\u001b[0m\u001b[0mT\u001b[0m\u001b[0;34m)\u001b[0m\u001b[0;34m:\u001b[0m\u001b[0;34m\u001b[0m\u001b[0;34m\u001b[0m\u001b[0m\n\u001b[0;32m---> 10\u001b[0;31m   \u001b[0ma\u001b[0m\u001b[0;34m,\u001b[0m \u001b[0mb\u001b[0m \u001b[0;34m=\u001b[0m \u001b[0mmap\u001b[0m\u001b[0;34m(\u001b[0m\u001b[0mint\u001b[0m\u001b[0;34m,\u001b[0m \u001b[0msys\u001b[0m\u001b[0;34m.\u001b[0m\u001b[0mstdin\u001b[0m\u001b[0;34m.\u001b[0m\u001b[0mreadline\u001b[0m\u001b[0;34m(\u001b[0m\u001b[0minput_value\u001b[0m\u001b[0;34m[\u001b[0m\u001b[0mi\u001b[0m\u001b[0;34m]\u001b[0m\u001b[0;34m)\u001b[0m\u001b[0;34m.\u001b[0m\u001b[0msplit\u001b[0m\u001b[0;34m(\u001b[0m\u001b[0;34m)\u001b[0m\u001b[0;34m)\u001b[0m\u001b[0;34m\u001b[0m\u001b[0;34m\u001b[0m\u001b[0m\n\u001b[0m\u001b[1;32m     11\u001b[0m   \u001b[0mprint\u001b[0m\u001b[0;34m(\u001b[0m\u001b[0ma\u001b[0m \u001b[0;34m+\u001b[0m \u001b[0mb\u001b[0m\u001b[0;34m)\u001b[0m\u001b[0;34m\u001b[0m\u001b[0;34m\u001b[0m\u001b[0m\n",
            "\u001b[0;31mTypeError\u001b[0m: 'str' object cannot be interpreted as an integer"
          ]
        }
      ],
      "source": [
        "# sys 사용\n",
        "import sys\n",
        "## sys란? sys 모듈은 파이썬 인터프리터가 제공하는 변수와 함수를 직접 제어할 수 있게 해주는 모듈.\n",
        "\n",
        "# input_value = [1 1, 12 34, 5 500, 40 60, 1000 1000]\n",
        "\n",
        "T = int(input())\n",
        "\n",
        "for i in range(T):\n",
        "  a, b = map(int, sys.stdin.readline(input_value[i]).split())\n",
        "  print(a + b)"
      ]
    },
    {
      "cell_type": "markdown",
      "source": [
        "### 👩‍💻 다른 풀이"
      ],
      "metadata": {
        "id": "l4tdzTXjVley"
      }
    },
    {
      "cell_type": "code",
      "source": [
        "import sys  # sys모듈 읽어들이기\n",
        "\n",
        "t = int(sys.stdin.readline())\n",
        "\n",
        "for _ in range(t):\n",
        "    a,b = map(int, sys.stdin.readline().split())\n",
        "    print(a+b)"
      ],
      "metadata": {
        "id": "kd12OEibVo17"
      },
      "execution_count": null,
      "outputs": []
    },
    {
      "cell_type": "markdown",
      "source": [
        "#### 🔍 참고사이트\n",
        "- [파이썬 입력받기](https://velog.io/@yeseolee/Python-%ED%8C%8C%EC%9D%B4%EC%8D%AC-%EC%9E%85%EB%A0%A5-%EC%A0%95%EB%A6%ACsys.stdin.readline)\n",
        "- [input() vs sys.stdin.readline](https://growingarchive.tistory.com/157)\n",
        "- [15552 문제 풀이 1](https://ooyoung.tistory.com/34)\n",
        "- [코랩 내 sys.sydin.readline 오류](https://www.acmicpc.net/board/view/38043)\n",
        "- [코랩 내 sys.sydin.readline 오류](https://www.acmicpc.net/board/view/65241)"
      ],
      "metadata": {
        "id": "X6qeTCkjVpLJ"
      }
    }
  ]
}