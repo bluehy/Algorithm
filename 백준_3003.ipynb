{
  "nbformat": 4,
  "nbformat_minor": 0,
  "metadata": {
    "colab": {
      "name": "백준 3003.ipynb",
      "provenance": [],
      "collapsed_sections": [],
      "authorship_tag": "ABX9TyNiPFe2JftwzysTBbjt1yrQ",
      "include_colab_link": true
    },
    "kernelspec": {
      "name": "python3",
      "display_name": "Python 3"
    },
    "language_info": {
      "name": "python"
    }
  },
  "cells": [
    {
      "cell_type": "markdown",
      "metadata": {
        "id": "view-in-github",
        "colab_type": "text"
      },
      "source": [
        "<a href=\"https://colab.research.google.com/github/bluehy/Algorithm/blob/main/%EB%B0%B1%EC%A4%80_3003.ipynb\" target=\"_parent\"><img src=\"https://colab.research.google.com/assets/colab-badge.svg\" alt=\"Open In Colab\"/></a>"
      ]
    },
    {
      "cell_type": "markdown",
      "source": [
        "# 알고리즘 스터디\n",
        "2022.08.10\n",
        "\n",
        "#### 📌백준 3003 파이썬"
      ],
      "metadata": {
        "id": "ZvLteLnSWRnG"
      }
    },
    {
      "cell_type": "markdown",
      "source": [
        "동혁이는 오래된 창고를 뒤지다가 낡은 체스판과 피스를 발견했다.\n",
        "\n",
        "체스판의 먼지를 털어내고 걸레로 닦으니 그럭저럭 쓸만한 체스판이 되었다. 하지만, 검정색 피스는 모두 있었으나, 흰색 피스는 개수가 올바르지 않았다.\n",
        "\n",
        "체스는 총 16개의 피스를 사용하며, 킹 1개, 퀸 1개, 룩 2개, 비숍 2개, 나이트 2개, 폰 8개로 구성되어 있다.\n",
        "\n",
        "동혁이가 발견한 흰색 피스의 개수가 주어졌을 때, 몇 개를 더하거나 빼야 올바른 세트가 되는지 구하는 프로그램을 작성하시오."
      ],
      "metadata": {
        "id": "NH8pIxo1WyMF"
      }
    },
    {
      "cell_type": "markdown",
      "source": [
        "#### <입력>\n",
        "첫째 줄에 동혁이가 찾은 흰색 킹, 퀸, 룩, 비숍, 나이트, 폰의 개수가 주어진다. 이 값은 0보다 크거나 같고 10보다 작거나 같은 정수이다.\n",
        "```\n",
        "0 1 2 2 2 7\n",
        "```\n",
        "---\n",
        "#### <출력>\n",
        "첫째 줄에 입력에서 주어진 순서대로 몇 개의 피스를 더하거나 빼야 되는지를 출력한다. 만약 수가 양수라면 동혁이는 그 개수 만큼 피스를 더해야 하는 것이고, 음수라면 제거해야 하는 것이다.\n",
        "```\n",
        "1 0 0 0 0 1\n",
        "```"
      ],
      "metadata": {
        "id": "iKYV2D3MWzON"
      }
    },
    {
      "cell_type": "markdown",
      "source": [
        "### 🐣 내 풀이"
      ],
      "metadata": {
        "id": "noRLZxs3U4iY"
      }
    },
    {
      "cell_type": "code",
      "source": [
        "chess = [1, 1, 2, 2, 2, 8]\n",
        "# list(map())의 활용 연습\n",
        "myP = list(map(int, input().split()))\n",
        "print(myP)"
      ],
      "metadata": {
        "id": "B4ztXGuFNUfL",
        "colab": {
          "base_uri": "https://localhost:8080/"
        },
        "outputId": "d37aaf8a-132b-4366-ef14-b35646e498c1"
      },
      "execution_count": 1,
      "outputs": [
        {
          "output_type": "stream",
          "name": "stdout",
          "text": [
            "1 84723 3 4 5\n",
            "[1, 84723, 3, 4, 5]\n"
          ]
        }
      ]
    },
    {
      "cell_type": "code",
      "source": [
        "# 필요한 갯수 리스트화\n",
        "chess = [1, 1, 2, 2, 2, 8]\n",
        "\n",
        "# input 받아오기\n",
        "check = \"0 1 2 2 2 7\"\n",
        "\n",
        "# 리스트화\n",
        "myP = list(map(int, check.split()))\n",
        "print(myP)\n",
        "\n",
        "# 각 요소별로 연산\n",
        "for i in range(len(chess)):\n",
        "  print(chess[i] - myP[i], end=\" \")"
      ],
      "metadata": {
        "colab": {
          "base_uri": "https://localhost:8080/"
        },
        "id": "hJxhTZejNdx6",
        "outputId": "3a27493a-e05a-4735-e987-21c5f89777f5"
      },
      "execution_count": null,
      "outputs": [
        {
          "output_type": "stream",
          "name": "stdout",
          "text": [
            "[0, 1, 2, 2, 2, 7]\n",
            "1 0 0 0 0 1 "
          ]
        }
      ]
    },
    {
      "cell_type": "markdown",
      "source": [
        "### 👩‍💻 다른 풀이"
      ],
      "metadata": {
        "id": "XxZL8ypoVCK7"
      }
    },
    {
      "cell_type": "code",
      "source": [
        "cp = [1, 1, 2, 2, 2, 8]\n",
        "li = list(map(int, input().split()))\n",
        "for i in range(6):\n",
        "    print(cp[i]-li[i], end=' ')"
      ],
      "metadata": {
        "id": "_w4KmAv4Vm11"
      },
      "execution_count": null,
      "outputs": []
    },
    {
      "cell_type": "markdown",
      "source": [
        "#### 🔍 참고사이트\n",
        "\n",
        "- [3003 문제 풀이 1](https://jinho-study.tistory.com/316)\n",
        "- [list와 map활용](https://dojang.io/mod/page/view.php?id=2286)\n",
        "```\n",
        "a = [1.2, 2.5, 3.7, 4.6]\n",
        "a = list(map(int, a))\n",
        "print(a)\n",
        "# [1, 2, 3, 4]\n",
        "```\n",
        "- [list 자료형](https://wikidocs.net/14)\n",
        "- [colab에서 발생한 오류 해결: 변수명을 잘못 사용한 경우](https://stackoverflow.com/questions/62731735/typeerror-list-object-is-not-callable-in-google-colab)"
      ],
      "metadata": {
        "id": "vcraRuy3TvG-"
      }
    }
  ]
}