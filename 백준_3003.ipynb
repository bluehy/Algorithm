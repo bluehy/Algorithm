{
  "nbformat": 4,
  "nbformat_minor": 0,
  "metadata": {
    "colab": {
      "name": "백준 3003.ipynb",
      "provenance": [],
      "collapsed_sections": [],
      "authorship_tag": "ABX9TyOy9M3e3UiZS8SGk2nonWuB",
      "include_colab_link": true
    },
    "kernelspec": {
      "name": "python3",
      "display_name": "Python 3"
    },
    "language_info": {
      "name": "python"
    }
  },
  "cells": [
    {
      "cell_type": "markdown",
      "metadata": {
        "id": "view-in-github",
        "colab_type": "text"
      },
      "source": [
        "<a href=\"https://colab.research.google.com/github/bluehy/Algorithm/blob/main/%EB%B0%B1%EC%A4%80_3003.ipynb\" target=\"_parent\"><img src=\"https://colab.research.google.com/assets/colab-badge.svg\" alt=\"Open In Colab\"/></a>"
      ]
    },
    {
      "cell_type": "markdown",
      "source": [
        "### 🐣 내 풀이"
      ],
      "metadata": {
        "id": "noRLZxs3U4iY"
      }
    },
    {
      "cell_type": "code",
      "source": [
        "chess = [1, 1, 2, 2, 2, 8]\n",
        "# list(map())의 활용 연습\n",
        "myP = list(map(int, input().split()))\n",
        "print(myP)"
      ],
      "metadata": {
        "id": "B4ztXGuFNUfL",
        "colab": {
          "base_uri": "https://localhost:8080/"
        },
        "outputId": "d37aaf8a-132b-4366-ef14-b35646e498c1"
      },
      "execution_count": 1,
      "outputs": [
        {
          "output_type": "stream",
          "name": "stdout",
          "text": [
            "1 84723 3 4 5\n",
            "[1, 84723, 3, 4, 5]\n"
          ]
        }
      ]
    },
    {
      "cell_type": "code",
      "source": [
        "# \n",
        "chess = [1, 1, 2, 2, 2, 8]\n",
        "\n",
        "# input 받아오기\n",
        "check = \"0 1 2 2 2 7\"\n",
        "myP = list(map(int, check.split()))\n",
        "print(myP)\n",
        "for i in range(len(chess)):\n",
        "  print(chess[i] - myP[i], end=\" \")"
      ],
      "metadata": {
        "colab": {
          "base_uri": "https://localhost:8080/"
        },
        "id": "hJxhTZejNdx6",
        "outputId": "3a27493a-e05a-4735-e987-21c5f89777f5"
      },
      "execution_count": null,
      "outputs": [
        {
          "output_type": "stream",
          "name": "stdout",
          "text": [
            "[0, 1, 2, 2, 2, 7]\n",
            "1 0 0 0 0 1 "
          ]
        }
      ]
    },
    {
      "cell_type": "markdown",
      "source": [
        "### 👩‍💻 다른 풀이"
      ],
      "metadata": {
        "id": "XxZL8ypoVCK7"
      }
    },
    {
      "cell_type": "markdown",
      "source": [
        "#### 🔍 참고사이트\n",
        "\n",
        "- [list와 map활용](https://dojang.io/mod/page/view.php?id=2286)\n",
        "\n",
        "- [list 자료형](https://wikidocs.net/14)\n",
        "\n",
        "- [colab에서 발생한 오류 해결: 변수명을 잘못 사용한 경우](https://stackoverflow.com/questions/62731735/typeerror-list-object-is-not-callable-in-google-colab)"
      ],
      "metadata": {
        "id": "vcraRuy3TvG-"
      }
    },
    {
      "cell_type": "code",
      "execution_count": null,
      "metadata": {
        "colab": {
          "base_uri": "https://localhost:8080/"
        },
        "id": "g_IeOrahNFZd",
        "outputId": "71e28b46-eed5-439f-f7ba-479a147e9d71"
      },
      "outputs": [
        {
          "output_type": "stream",
          "name": "stdout",
          "text": [
            "[1, 2, 3, 4]\n"
          ]
        }
      ],
      "source": [
        "a = [1.2, 2.5, 3.7, 4.6]\n",
        "a = list(map(int, a))\n",
        "print(a)"
      ]
    }
  ]
}