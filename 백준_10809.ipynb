{
  "nbformat": 4,
  "nbformat_minor": 0,
  "metadata": {
    "colab": {
      "provenance": [],
      "authorship_tag": "ABX9TyN0GL5bzlxv7Rz95QgmpJj2",
      "include_colab_link": true
    },
    "kernelspec": {
      "name": "python3",
      "display_name": "Python 3"
    },
    "language_info": {
      "name": "python"
    }
  },
  "cells": [
    {
      "cell_type": "markdown",
      "metadata": {
        "id": "view-in-github",
        "colab_type": "text"
      },
      "source": [
        "<a href=\"https://colab.research.google.com/github/bluehy/Algorithm/blob/main/%EB%B0%B1%EC%A4%80_10809.ipynb\" target=\"_parent\"><img src=\"https://colab.research.google.com/assets/colab-badge.svg\" alt=\"Open In Colab\"/></a>"
      ]
    },
    {
      "cell_type": "markdown",
      "source": [
        "# 알고리즘\n",
        "2022.11.16\n",
        "\n",
        "#### 📌백준 10809 파이썬"
      ],
      "metadata": {
        "id": "INO7zA_SUvBA"
      }
    },
    {
      "cell_type": "markdown",
      "source": [
        "알파벳 소문자로만 이루어진 단어 S가 주어진다. 각각의 알파벳에 대해서, 단어에 포함되어 있는 경우에는 처음 등장하는 위치를, 포함되어 있지 않은 경우에는 -1을 출력하는 프로그램을 작성하시오."
      ],
      "metadata": {
        "id": "GvZ-nUtMU2Gi"
      }
    },
    {
      "cell_type": "markdown",
      "source": [
        "#### <입력>\n",
        "첫째 줄에 단어 S가 주어진다. 단어의 길이는 100을 넘지 않으며, 알파벳 소문자로만 이루어져 있다.\n",
        "```\n",
        "baekjoon\n",
        "```\n",
        "\n",
        "---\n",
        "#### <출력>\n",
        "각각의 알파벳에 대해서, a가 처음 등장하는 위치, b가 처음 등장하는 위치, ... z가 처음 등장하는 위치를 공백으로 구분해서 출력한다.\n",
        "\n",
        "만약, 어떤 알파벳이 단어에 포함되어 있지 않다면 -1을 출력한다. 단어의 첫 번째 글자는 0번째 위치이고, 두 번째 글자는 1번째 위치이다.\n",
        "```\n",
        "1 0 -1 -1 2 -1 -1 -1 -1 4 3 -1 -1 7 5 -1 -1 -1 -1 -1 -1 -1 -1 -1 -1 -1\n",
        "```"
      ],
      "metadata": {
        "id": "jey61NaqVTW5"
      }
    },
    {
      "cell_type": "markdown",
      "source": [
        "### 🐣 내 풀이"
      ],
      "metadata": {
        "id": "UNXlkzWYViOp"
      }
    },
    {
      "cell_type": "code",
      "execution_count": 13,
      "metadata": {
        "id": "Pw9pOQuiUuTO",
        "colab": {
          "base_uri": "https://localhost:8080/"
        },
        "outputId": "3a02231f-1dcf-4b9d-e7ba-d4b968c8d258"
      },
      "outputs": [
        {
          "output_type": "stream",
          "name": "stdout",
          "text": [
            "baekjoon\n",
            "1\n",
            "0\n",
            "-1\n",
            "-1\n",
            "2\n",
            "-1\n",
            "-1\n",
            "-1\n",
            "-1\n",
            "4\n",
            "3\n",
            "-1\n",
            "-1\n",
            "7\n",
            "5\n",
            "-1\n",
            "-1\n",
            "-1\n",
            "-1\n",
            "-1\n",
            "-1\n",
            "-1\n",
            "-1\n",
            "-1\n",
            "-1\n",
            "-1\n"
          ]
        }
      ],
      "source": [
        "S = input()\n",
        "alp = ['a','b','c','d','e','f','g','h','i','j','k','l','m','n','o','p','q','r','s','t','u','v','w','x','y','z']\n",
        "\n",
        "for i in alp:\n",
        "  if i in S:\n",
        "    print(S.find(i))\n",
        "  else:\n",
        "    print(-1)"
      ]
    },
    {
      "cell_type": "markdown",
      "source": [
        "### 👩‍💻 다른 풀이"
      ],
      "metadata": {
        "id": "l4tdzTXjVley"
      }
    },
    {
      "cell_type": "code",
      "source": [
        "word = input()\n",
        "alphabet = list(range(97,123))  # 아스키코드 숫자 범위\n",
        "\n",
        "for x in alphabet :\n",
        "    print(word.find(chr(x))) "
      ],
      "metadata": {
        "id": "kd12OEibVo17"
      },
      "execution_count": null,
      "outputs": []
    },
    {
      "cell_type": "code",
      "source": [
        "S = input()\n",
        "abc ='abcdefghijklmnopqrstuvwxyz'\n",
        "\n",
        "for i in abc:\n",
        "    if i in S:\n",
        "        print(S.index(i), end= ' ')\n",
        "    else:\n",
        "        print( -1, end =' ')"
      ],
      "metadata": {
        "id": "3aOKxPsu2NSN"
      },
      "execution_count": null,
      "outputs": []
    },
    {
      "cell_type": "code",
      "source": [
        "n = list(map(str, input()))\n",
        "for i in range (97,123):\n",
        "    for j in range(0, len(n)):\n",
        "        a = -1\n",
        "        if chr(i) == n[j]:\n",
        "            a = j\n",
        "            break\n",
        "    print(a, end=' ')"
      ],
      "metadata": {
        "id": "wJD2wqFW2ykb"
      },
      "execution_count": null,
      "outputs": []
    },
    {
      "cell_type": "markdown",
      "source": [
        "#### 🔍 참고사이트\n",
        "- [5 Ways to Find the Index of a Substring in Python](https://betterprogramming.pub/5-ways-to-find-the-index-of-a-substring-in-python-13d5293fc76d)\n",
        "- [특정문자열 포함 유무 확인 방법](https://asecurity.dev/entry/Python-%ED%8A%B9%EC%A0%95-%EB%AC%B8%EC%9E%90%EC%97%B4str-%ED%8F%AC%ED%95%A8-%EC%9C%A0%EB%AC%B4contains-%ED%99%95%EC%9D%B8-%EB%B0%A9%EB%B2%95)\n",
        "- [10809 문제 풀이 1](https://ooyoung.tistory.com/68)\n",
        "- [10809 문제 풀이 2](https://gururuglasses.tistory.com/88)\n",
        "- [10809 문제 풀이 3](https://one-hour.tistory.com/20)\n",
        "- 아스키 코드\n",
        "  \n",
        "  ![아스키 코드](https://k.kakaocdn.net/dn/A4T4y/btrr16lYzsu/vwjX5lwqwDCouCQsjalCT0/img.png)"
      ],
      "metadata": {
        "id": "X6qeTCkjVpLJ"
      }
    }
  ]
}