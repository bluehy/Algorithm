{
  "nbformat": 4,
  "nbformat_minor": 0,
  "metadata": {
    "colab": {
      "provenance": [],
      "authorship_tag": "ABX9TyPlGshoOTacYxSSttNYfVZn",
      "include_colab_link": true
    },
    "kernelspec": {
      "name": "python3",
      "display_name": "Python 3"
    },
    "language_info": {
      "name": "python"
    }
  },
  "cells": [
    {
      "cell_type": "markdown",
      "metadata": {
        "id": "view-in-github",
        "colab_type": "text"
      },
      "source": [
        "<a href=\"https://colab.research.google.com/github/bluehy/Algorithm/blob/main/%EB%B0%B1%EC%A4%80_2941.ipynb\" target=\"_parent\"><img src=\"https://colab.research.google.com/assets/colab-badge.svg\" alt=\"Open In Colab\"/></a>"
      ]
    },
    {
      "cell_type": "markdown",
      "source": [
        "# 알고리즘\n",
        "2022.12.01\n",
        "\n",
        "#### 📌백준 2941 파이썬"
      ],
      "metadata": {
        "id": "INO7zA_SUvBA"
      }
    },
    {
      "cell_type": "markdown",
      "source": [
        "예전에는 운영체제에서 크로아티아 알파벳을 입력할 수가 없었다. 따라서, 다음과 같이 크로아티아 알파벳을 변경해서 입력했다.\n",
        "\n",
        "![image.png](data:image/png;base64,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)\n",
        "\n",
        "예를 들어, ljes=njak은 크로아티아 알파벳 6개(lj, e, š, nj, a, k)로 이루어져 있다. 단어가 주어졌을 때, 몇 개의 크로아티아 알파벳으로 이루어져 있는지 출력한다.\n",
        "\n",
        "dž는 무조건 하나의 알파벳으로 쓰이고, d와 ž가 분리된 것으로 보지 않는다. lj와 nj도 마찬가지이다. 위 목록에 없는 알파벳은 한 글자씩 센다."
      ],
      "metadata": {
        "id": "GvZ-nUtMU2Gi"
      }
    },
    {
      "cell_type": "markdown",
      "source": [
        "#### <입력>\n",
        "첫째 줄에 최대 100글자의 단어가 주어진다. 알파벳 소문자와 '-', '='로만 이루어져 있다.\n",
        "\n",
        "단어는 크로아티아 알파벳으로 이루어져 있다. 문제 설명의 표에 나와있는 알파벳은 변경된 형태로 입력된다.\n",
        "```\n",
        "ljes=njak\n",
        "```\n",
        "\n",
        "---\n",
        "#### <출력>\n",
        "입력으로 주어진 단어가 몇 개의 크로아티아 알파벳으로 이루어져 있는지 출력한다.\n",
        "```\n",
        "6\n",
        "```"
      ],
      "metadata": {
        "id": "jey61NaqVTW5"
      }
    },
    {
      "cell_type": "markdown",
      "source": [
        "### 🐣 내 풀이"
      ],
      "metadata": {
        "id": "UNXlkzWYViOp"
      }
    },
    {
      "cell_type": "code",
      "execution_count": 8,
      "metadata": {
        "id": "Pw9pOQuiUuTO",
        "colab": {
          "base_uri": "https://localhost:8080/"
        },
        "outputId": "28add8ad-661a-433a-9e59-913a2261f9b8"
      },
      "outputs": [
        {
          "output_type": "stream",
          "name": "stdout",
          "text": [
            "dz=ak\n",
            "3\n"
          ]
        }
      ],
      "source": [
        "croatian = [\"c=\",\"c-\",\"dz=\",\"d-\",\"lj\",\"nj\",\"s=\",\"z=\"]\n",
        "alpha = input()\n",
        "length = len(alpha)\n",
        "\n",
        "for i in croatian:\n",
        "  length -= alpha.count(i)\n",
        "\n",
        "print(length)"
      ]
    },
    {
      "cell_type": "markdown",
      "source": [
        "### 👩‍💻 다른 풀이"
      ],
      "metadata": {
        "id": "l4tdzTXjVley"
      }
    },
    {
      "cell_type": "code",
      "source": [
        "croatia = ['c=', 'c-', 'dz=', 'd-', 'lj', 'nj', 's=', 'z=']\n",
        "word = input()\n",
        "\n",
        "for i in croatia :\n",
        "    word = word.replace(i, '*')  # input 변수와 동일한 이름의 변수\n",
        "print(len(word))"
      ],
      "metadata": {
        "id": "kd12OEibVo17"
      },
      "execution_count": null,
      "outputs": []
    },
    {
      "cell_type": "code",
      "source": [
        "x = input()\n",
        "y = len(x)\n",
        "cro_al = ['c=','c-','dz=','d-','lj','nj','s=','z=']\n",
        "for i in range(0, len(x)):\n",
        "    if len(x) < 2:  # 문자가 2개보다 작으면 문자열의 길이를 출력한다.\n",
        "        y = len(x)\n",
        "    elif len(x) == 2:  # 문자가 2개일때 크로아티아 알파벳이라면 1을 출력한다.\n",
        "        if (x[i-2] + x[i-1]) in cro_al: \n",
        "            y = 1\n",
        "    elif (x[i-3]+x[i-2]+x[i-1]) in cro_al:  # 연달아 있는 문자가 3개를 더했을 때 크로아티아 알파벳이라면 길이에서 -2를 해준다.\n",
        "        y -= 2\n",
        "    elif (x[i-2] + x[i-1]) in cro_al:  # 연달아 있는 문자가 2개를 더했을 때 크로아티아 알파벳이라면 길이에서 -1을 해준다.\n",
        "        y -= 1\n",
        "print(y)"
      ],
      "metadata": {
        "id": "aab-zoxKGMTk"
      },
      "execution_count": null,
      "outputs": []
    },
    {
      "cell_type": "code",
      "source": [
        "arr = ['c=', 'c-', 'dz=', 'd-', 'lj', 'nj', 's=', 'z=']\n",
        "s = input()\n",
        "a = len(s)\n",
        "b = 0\n",
        "\n",
        "for i in arr:\n",
        "  if i == \"z=\" :\n",
        "    n = s.count(i) - s.count(\"dz=\")\n",
        "    a -= n*len(i)\n",
        "    b += n\n",
        "  else:\n",
        "    a -= s.count(i) * len(i)\n",
        "    b += s.count(i)\n",
        "print(a+b)"
      ],
      "metadata": {
        "id": "rD77ELd4Gysq"
      },
      "execution_count": null,
      "outputs": []
    },
    {
      "cell_type": "markdown",
      "source": [
        "#### 🔍 참고사이트\n",
        "- [포함하는 문자열 개수 세기](https://www.everdevel.com/Python/string-count/)\n",
        "- [2941 문제 풀이 1](https://ooyoung.tistory.com/74)\n",
        "- [2941 문제 풀이 2](https://one-hour.tistory.com/25)\n",
        "- [2941 문제 풀이 3](https://codingpractices.tistory.com/entry/%EB%B0%B1%EC%A4%80-2941%EB%B2%88-%ED%81%AC%EB%A1%9C%EC%95%84%ED%8B%B0%EC%95%84-%EC%95%8C%ED%8C%8C%EB%B2%B3-%ED%8C%8C%EC%9D%B4%EC%8D%AC-python)\n",
        "- [이번 문제의 핵심 메서드: replace()](https://codechacha.com/ko/python-replace-string-in-string/)"
      ],
      "metadata": {
        "id": "X6qeTCkjVpLJ"
      }
    }
  ]
}