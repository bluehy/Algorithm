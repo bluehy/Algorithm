{
  "nbformat": 4,
  "nbformat_minor": 0,
  "metadata": {
    "colab": {
      "provenance": [],
      "collapsed_sections": [],
      "authorship_tag": "ABX9TyPz0Bus5YE9A1mf8s1QXLYl",
      "include_colab_link": true
    },
    "kernelspec": {
      "name": "python3",
      "display_name": "Python 3"
    },
    "language_info": {
      "name": "python"
    }
  },
  "cells": [
    {
      "cell_type": "markdown",
      "metadata": {
        "id": "view-in-github",
        "colab_type": "text"
      },
      "source": [
        "<a href=\"https://colab.research.google.com/github/bluehy/Algorithm/blob/main/%EB%B0%B1%EC%A4%80_2439.ipynb\" target=\"_parent\"><img src=\"https://colab.research.google.com/assets/colab-badge.svg\" alt=\"Open In Colab\"/></a>"
      ]
    },
    {
      "cell_type": "markdown",
      "source": [
        "# 알고리즘\n",
        "2022.09.19\n",
        "\n",
        "#### 📌백준 2439 파이썬"
      ],
      "metadata": {
        "id": "INO7zA_SUvBA"
      }
    },
    {
      "cell_type": "markdown",
      "source": [
        "첫째 줄에는 별 1개, 둘째 줄에는 별 2개, N번째 줄에는 별 N개를 찍는 문제\n",
        "\n",
        "하지만, 오른쪽을 기준으로 정렬한 별(예제 참고)을 출력하시오."
      ],
      "metadata": {
        "id": "GvZ-nUtMU2Gi"
      }
    },
    {
      "cell_type": "markdown",
      "source": [
        "#### <입력>\n",
        "첫째 줄에 N(1 ≤ N ≤ 100)이 주어진다.\n",
        "```\n",
        "5\n",
        "```\n",
        "\n",
        "---\n",
        "#### <출력>\n",
        "첫째 줄부터 N번째 줄까지 차례대로 별을 출력한다.\n",
        "```\n",
        "    *\n",
        "   **\n",
        "  ***\n",
        " ****\n",
        "*****\n",
        "```"
      ],
      "metadata": {
        "id": "jey61NaqVTW5"
      }
    },
    {
      "cell_type": "markdown",
      "source": [
        "### 🐣 내 풀이"
      ],
      "metadata": {
        "id": "UNXlkzWYViOp"
      }
    },
    {
      "cell_type": "code",
      "execution_count": 11,
      "metadata": {
        "id": "Pw9pOQuiUuTO",
        "colab": {
          "base_uri": "https://localhost:8080/"
        },
        "outputId": "0b441ff8-7a2a-467b-adc1-9262c3609649"
      },
      "outputs": [
        {
          "output_type": "stream",
          "name": "stdout",
          "text": [
            "5\n",
            "    *\n",
            "   **\n",
            "  ***\n",
            " ****\n",
            "*****\n"
          ]
        }
      ],
      "source": [
        "T = int(input())\n",
        "\n",
        "for i in range(T):\n",
        "  i += 1\n",
        "  print(\"%s%s\" % (\" \"*(T-i),\"*\"*(i)))"
      ]
    },
    {
      "cell_type": "markdown",
      "source": [
        "### 👩‍💻 다른 풀이"
      ],
      "metadata": {
        "id": "l4tdzTXjVley"
      }
    },
    {
      "cell_type": "code",
      "source": [
        "a=int(input())\n",
        "for i in range(1,a+1):\n",
        "    print(\" \"*(a-i) + \"*\"*i)"
      ],
      "metadata": {
        "id": "kd12OEibVo17"
      },
      "execution_count": null,
      "outputs": []
    },
    {
      "cell_type": "code",
      "source": [
        "# rjust 사용\n",
        "n=int(input())\n",
        "for i in range(1, n+1):\n",
        "    print((i*'*').rjust(n,' '))"
      ],
      "metadata": {
        "id": "ilJAFZQmM-Zz"
      },
      "execution_count": null,
      "outputs": []
    },
    {
      "cell_type": "code",
      "source": [
        "# ljust 사용\n",
        "n=int(input())\n",
        "for i in reversed(range(n)):\n",
        "    print((i*' ').ljust(n,'*'))"
      ],
      "metadata": {
        "id": "M_cToBM2NMCt"
      },
      "execution_count": null,
      "outputs": []
    },
    {
      "cell_type": "markdown",
      "source": [
        "#### 🔍 참고사이트\n",
        "- [문자열 포매팅](https://wikidocs.net/13#_15)\n",
        "- [2439 문제 풀이 1](https://claude-u.tistory.com/20)\n",
        "- [2439 문제 풀이 2](https://dev-ooo.tistory.com/42)\n",
        "- [rjust, ljust, zfill 함수](https://www.crocus.co.kr/1660)\n",
        "- [reversed() 함수 : 거꾸로 루프 돌리기](https://www.daleseo.com/python-reversed/)\n"
      ],
      "metadata": {
        "id": "X6qeTCkjVpLJ"
      }
    }
  ]
}