{
  "nbformat": 4,
  "nbformat_minor": 0,
  "metadata": {
    "colab": {
      "provenance": [],
      "collapsed_sections": [],
      "authorship_tag": "ABX9TyOTbtDTR/qzt+2mQs5vsySa",
      "include_colab_link": true
    },
    "kernelspec": {
      "name": "python3",
      "display_name": "Python 3"
    },
    "language_info": {
      "name": "python"
    }
  },
  "cells": [
    {
      "cell_type": "markdown",
      "metadata": {
        "id": "view-in-github",
        "colab_type": "text"
      },
      "source": [
        "<a href=\"https://colab.research.google.com/github/bluehy/Algorithm/blob/main/%EB%B0%B1%EC%A4%80_1110.ipynb\" target=\"_parent\"><img src=\"https://colab.research.google.com/assets/colab-badge.svg\" alt=\"Open In Colab\"/></a>"
      ]
    },
    {
      "cell_type": "markdown",
      "source": [
        "# 알고리즘\n",
        "2022.09.29\n",
        "\n",
        "#### 📌백준 1110 파이썬"
      ],
      "metadata": {
        "id": "INO7zA_SUvBA"
      }
    },
    {
      "cell_type": "markdown",
      "source": [
        "0보다 크거나 같고, 99보다 작거나 같은 정수가 주어질 때 다음과 같은 연산을 할 수 있다. 먼저 주어진 수가 10보다 작다면 앞에 0을 붙여 두 자리 수로 만들고, 각 자리의 숫자를 더한다. 그 다음, 주어진 수의 가장 오른쪽 자리 수와 앞에서 구한 합의 가장 오른쪽 자리 수를 이어 붙이면 새로운 수를 만들 수 있다. 다음 예를 보자.\n",
        "\n",
        "26부터 시작한다. 2+6 = 8이다. 새로운 수는 68이다. 6+8 = 14이다. 새로운 수는 84이다. 8+4 = 12이다. 새로운 수는 42이다. 4+2 = 6이다. 새로운 수는 26이다.\n",
        "\n",
        "위의 예는 4번만에 원래 수로 돌아올 수 있다. 따라서 26의 사이클의 길이는 4이다.\n",
        "\n",
        "N이 주어졌을 때, N의 사이클의 길이를 구하는 프로그램을 작성하시오."
      ],
      "metadata": {
        "id": "GvZ-nUtMU2Gi"
      }
    },
    {
      "cell_type": "markdown",
      "source": [
        "#### <입력>\n",
        "첫째 줄에 N이 주어진다. N은 0보다 크거나 같고, 99보다 작거나 같은 정수이다.\n",
        "```\n",
        "26\n",
        "```\n",
        "\n",
        "---\n",
        "#### <출력>\n",
        "첫째 줄에 N의 사이클 길이를 출력한다.\n",
        "```\n",
        "4\n",
        "```"
      ],
      "metadata": {
        "id": "jey61NaqVTW5"
      }
    },
    {
      "cell_type": "markdown",
      "source": [
        "### 🐣 내 풀이"
      ],
      "metadata": {
        "id": "UNXlkzWYViOp"
      }
    },
    {
      "cell_type": "code",
      "execution_count": 26,
      "metadata": {
        "id": "Pw9pOQuiUuTO",
        "colab": {
          "base_uri": "https://localhost:8080/"
        },
        "outputId": "7197bf90-f4bb-4e92-e651-aefd2cc93b63"
      },
      "outputs": [
        {
          "output_type": "stream",
          "name": "stdout",
          "text": [
            "71\n",
            "12\n"
          ]
        }
      ],
      "source": [
        "n = int(input())\n",
        "# 초기값 고정\n",
        "N = n\n",
        "# 횟수 계산용\n",
        "i = 0\n",
        "\n",
        "while 1 :\n",
        "  # 시작하자마자 break하는 걸 막기 위해 조건 걸기\n",
        "  if i != 0 and n == N:\n",
        "    break\n",
        "  # 주어진 수가 10보다 작을 때\n",
        "  elif n < 10:\n",
        "    a = 0\n",
        "    b = n\n",
        "  # 10보다 크거나 같고, 99보다 작거나 같은 정수일 때\n",
        "  else :\n",
        "    a = n//10\n",
        "    b = n%10\n",
        "    \n",
        "  # 합 구하기\n",
        "  c = a + b\n",
        "  # n값을 갱신\n",
        "  n = 10 * b + c%10\n",
        "  # 연산 횟수 추가\n",
        "  i += 1\n",
        "# 반복문 종료 후, 연산 횟수 출력\n",
        "print(i)"
      ]
    },
    {
      "cell_type": "markdown",
      "source": [
        "### 👩‍💻 다른 풀이"
      ],
      "metadata": {
        "id": "l4tdzTXjVley"
      }
    },
    {
      "cell_type": "code",
      "source": [
        "n = int(input())\n",
        "num = n\n",
        "cnt = 0\n",
        "\n",
        "while True:\n",
        "  a = num // 10\n",
        "  b = num % 10\n",
        "  c = (a+b) % 10\n",
        "  num = (b * 10) + c\n",
        "\n",
        "  #사이클 수 + 1\n",
        "  cnt = cnt + 1\n",
        "  # num에서 입력된 n과 똑같은 숫자가 나오면 여기서 멈춤\n",
        "  if(num == n):\n",
        "    break\n",
        "\n",
        "print(cnt)"
      ],
      "metadata": {
        "id": "kd12OEibVo17"
      },
      "execution_count": null,
      "outputs": []
    },
    {
      "cell_type": "code",
      "source": [
        "n = int(input())\n",
        "key = n\n",
        "cnt = 0\n",
        "\n",
        "while True:\n",
        "    cnt+=1\n",
        "    sum = n//10 + n%10\n",
        "    n = n%10*10 + sum%10\n",
        "    if (n == key):\n",
        "        break\n",
        "print(cnt)"
      ],
      "metadata": {
        "id": "kfxWhDLNtmCc"
      },
      "execution_count": null,
      "outputs": []
    },
    {
      "cell_type": "markdown",
      "source": [
        "#### 🔍 참고사이트\n",
        "- [while문 강제로 빠져나가기](https://wikidocs.net/21)\n",
        "- [파이썬 몫, 나머지 연산자](https://dev-note-97.tistory.com/65)\n",
        "- [1110 문제 풀이 1](https://wook-2124.tistory.com/222)\n",
        "- [1110 문제 풀이 2](https://velog.io/@sayyyho/%EB%B0%B1%EC%A4%80BOJ-1110%EB%B2%88-%EB%8D%94%ED%95%98%EA%B8%B0-%EC%82%AC%EC%9D%B4%ED%81%B4-python-%ED%8C%8C%EC%9D%B4%EC%8D%AC)"
      ],
      "metadata": {
        "id": "X6qeTCkjVpLJ"
      }
    }
  ]
}