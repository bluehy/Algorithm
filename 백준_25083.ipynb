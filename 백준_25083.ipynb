{
  "nbformat": 4,
  "nbformat_minor": 0,
  "metadata": {
    "colab": {
      "name": "백준 25083.ipynb",
      "provenance": [],
      "authorship_tag": "ABX9TyPGvWiwLO6yIeTM9j2YcxM7",
      "include_colab_link": true
    },
    "kernelspec": {
      "name": "python3",
      "display_name": "Python 3"
    },
    "language_info": {
      "name": "python"
    }
  },
  "cells": [
    {
      "cell_type": "markdown",
      "metadata": {
        "id": "view-in-github",
        "colab_type": "text"
      },
      "source": [
        "<a href=\"https://colab.research.google.com/github/bluehy/Algorithm/blob/main/%EB%B0%B1%EC%A4%80_25083.ipynb\" target=\"_parent\"><img src=\"https://colab.research.google.com/assets/colab-badge.svg\" alt=\"Open In Colab\"/></a>"
      ]
    },
    {
      "cell_type": "markdown",
      "source": [
        "# 알고리즘 스터디\n",
        "2022.08.16\n",
        "\n",
        "#### 📌백준 25083 파이썬"
      ],
      "metadata": {
        "id": "R28Y4aS7ARTr"
      }
    },
    {
      "cell_type": "markdown",
      "source": [
        "아래 예제와 같이 새싹을 출력하시오."
      ],
      "metadata": {
        "id": "7iFWLMWZAY5k"
      }
    },
    {
      "cell_type": "markdown",
      "source": [
        "#### <입력>\n",
        "\n",
        "입력은 없다.\n",
        "\n",
        "----\n",
        "#### <출력>\n",
        "\n",
        "\n",
        "```\n",
        "         ,r'\"7\n",
        "r`-_   ,'  ,/\n",
        " \\. \". L_r'\n",
        "   `~\\/\n",
        "      |\n",
        "      |\n",
        "```\n",
        "\n"
      ],
      "metadata": {
        "id": "bCou_2rNAiBG"
      }
    },
    {
      "cell_type": "markdown",
      "source": [
        "### 🐣 내 풀이"
      ],
      "metadata": {
        "id": "wgjNeyw3FEQE"
      }
    },
    {
      "cell_type": "code",
      "source": [
        "print(\"         ,r'\"+'\"7')\n",
        "print(\"r`-_   ,'  ,/\")\n",
        "print(' \\\\. \"'+\". L_r'\")\n",
        "print(\"   `~\\\\/\")\n",
        "print(\"      |\")\n",
        "print(\"      |\")"
      ],
      "metadata": {
        "colab": {
          "base_uri": "https://localhost:8080/"
        },
        "id": "ZixgUROeA5c2",
        "outputId": "e85aab34-159a-41e0-aa8d-117b99492efc"
      },
      "execution_count": null,
      "outputs": [
        {
          "output_type": "stream",
          "name": "stdout",
          "text": [
            "         ,r'\"7\n",
            "r`-_   ,'  ,/\n",
            " \\. \". L_r'\n",
            "   `~\\/\n",
            "      |\n",
            "      |\n"
          ]
        }
      ]
    },
    {
      "cell_type": "markdown",
      "source": [
        "### 👩‍💻다른 풀이"
      ],
      "metadata": {
        "id": "fAVHcCM1Bcxc"
      }
    },
    {
      "cell_type": "code",
      "source": [
        "def leaf():\n",
        "   print('         ,r\\'\\\"7')\n",
        "   print('r`-_   ,\\'  ,/')\n",
        "   print(' \\. \\\". L_r\\'')\n",
        "   print('   `~\\/')\n",
        "   print('      |')\n",
        "   print('      |')\n",
        "leaf()"
      ],
      "metadata": {
        "colab": {
          "base_uri": "https://localhost:8080/"
        },
        "id": "JBBHQD3FDkv1",
        "outputId": "95575a77-36b9-4b14-cce9-987ca23954f6"
      },
      "execution_count": null,
      "outputs": [
        {
          "output_type": "stream",
          "name": "stdout",
          "text": [
            "         ,r'\"7\n",
            "r`-_   ,'  ,/\n",
            " \\. \". L_r'\n",
            "   `~\\/\n",
            "      |\n",
            "      |\n"
          ]
        }
      ]
    },
    {
      "cell_type": "markdown",
      "source": [
        "##### 💡 이스케이프 문자를 활용\n",
        "\n",
        "print()문에서 사용한다.\n",
        "\n",
        "- \\n : 줄바꿈\n",
        "- \\t : 탭\n",
        "- \\\\\\ : 역슬래시(\\) 출력\n",
        "- \\\\\" : 따옴표(\") 출력. 작은따옴표도 해당된다.\n",
        "- \\b : 백스페이스. 바로 앞 문자가 지워진다.\n",
        "\n",
        "⇒ 한글은 두 개를 써야 한 글자가 삭제되고, macOS와 리눅스 터미널에서만 정상작동된다고 한다. 테스트 해보니 맨 끝문장에 사용하는 경우에 작동을 안한다..."
      ],
      "metadata": {
        "id": "MBJU4TC-EEMG"
      }
    },
    {
      "cell_type": "markdown",
      "source": [
        "#### 🔍 참고사이트\n",
        "- [print함수와 문자열 포맷으로 출력하기](https://notstop.co.kr/1190/)\n",
        "- [25083 문제 풀이 1](https://velog.io/@miracle-21/%ED%8C%8C%EC%9D%B4%EC%8D%ACpython%EB%B0%B1%EC%A4%80-25083.%EC%83%88%EC%8B%B9)\n"
      ],
      "metadata": {
        "id": "pM9MbxE4Da1N"
      }
    }
  ]
}