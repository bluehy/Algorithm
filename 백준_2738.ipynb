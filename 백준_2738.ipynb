{
  "nbformat": 4,
  "nbformat_minor": 0,
  "metadata": {
    "colab": {
      "provenance": [],
      "collapsed_sections": [],
      "authorship_tag": "ABX9TyN9v4ajgbT43cLZS3R+RLBt",
      "include_colab_link": true
    },
    "kernelspec": {
      "name": "python3",
      "display_name": "Python 3"
    },
    "language_info": {
      "name": "python"
    }
  },
  "cells": [
    {
      "cell_type": "markdown",
      "metadata": {
        "id": "view-in-github",
        "colab_type": "text"
      },
      "source": [
        "<a href=\"https://colab.research.google.com/github/bluehy/Algorithm/blob/main/%EB%B0%B1%EC%A4%80_2738.ipynb\" target=\"_parent\"><img src=\"https://colab.research.google.com/assets/colab-badge.svg\" alt=\"Open In Colab\"/></a>"
      ]
    },
    {
      "cell_type": "markdown",
      "source": [
        "# 알고리즘\n",
        "2022.11.02\n",
        "\n",
        "#### 📌백준 2738 파이썬"
      ],
      "metadata": {
        "id": "INO7zA_SUvBA"
      }
    },
    {
      "cell_type": "markdown",
      "source": [
        "N*M크기의 두 행렬 A와 B가 주어졌을 때, 두 행렬을 더하는 프로그램을 작성하시오."
      ],
      "metadata": {
        "id": "GvZ-nUtMU2Gi"
      }
    },
    {
      "cell_type": "markdown",
      "source": [
        "#### <입력>\n",
        "첫째 줄에 행렬의 크기 N 과 M이 주어진다. 둘째 줄부터 N개의 줄에 행렬 A의 원소 M개가 차례대로 주어진다. 이어서 N개의 줄에 행렬 B의 원소 M개가 차례대로 주어진다. N과 M은 100보다 작거나 같고, 행렬의 원소는 절댓값이 100보다 작거나 같은 정수이다.\n",
        "```\n",
        "3 3\n",
        "1 1 1\n",
        "2 2 2\n",
        "0 1 0\n",
        "3 3 3\n",
        "4 4 4\n",
        "5 5 100\n",
        "```\n",
        "\n",
        "---\n",
        "#### <출력>\n",
        "첫째 줄부터 N개의 줄에 행렬 A와 B를 더한 행렬을 출력한다. 행렬의 각 원소는 공백으로 구분한다.\n",
        "```\n",
        "4 4 4\n",
        "6 6 6\n",
        "5 6 100\n",
        "```"
      ],
      "metadata": {
        "id": "jey61NaqVTW5"
      }
    },
    {
      "cell_type": "markdown",
      "source": [
        "### 🐣 내 풀이"
      ],
      "metadata": {
        "id": "UNXlkzWYViOp"
      }
    },
    {
      "cell_type": "code",
      "execution_count": 6,
      "metadata": {
        "id": "Pw9pOQuiUuTO",
        "colab": {
          "base_uri": "https://localhost:8080/"
        },
        "outputId": "bb935ae5-a1bb-4f18-cd6e-93dcd9be11b0"
      },
      "outputs": [
        {
          "output_type": "stream",
          "name": "stdout",
          "text": [
            "3 3\n",
            "1 1 1\n",
            "2 2 2\n",
            "0 1 0\n",
            "3 3 3\n",
            "4 4 4\n",
            "5 5 100\n",
            "[4, 4, 4, 6, 6, 6, 5, 6, 100]\n"
          ]
        }
      ],
      "source": [
        "N, M = map(int,input().split())\n",
        "A = []\n",
        "B = []\n",
        "\n",
        "for i in range(N):\n",
        "  arr = list(map(int,input().split())) \n",
        "  A.extend(arr)\n",
        "for i in range(M):\n",
        "  arr = list(map(int,input().split()))\n",
        "  B.extend(arr)\n",
        "\n",
        "C = []\n",
        "for Ai, Bi in zip(A,B):\n",
        "  C.append(Ai + Bi)\n"
      ]
    },
    {
      "cell_type": "markdown",
      "source": [
        "### 👩‍💻 다른 풀이"
      ],
      "metadata": {
        "id": "l4tdzTXjVley"
      }
    },
    {
      "cell_type": "code",
      "source": [
        "A, B = [], []\n",
        "\n",
        "N, M = map(int, input().split())\n",
        "\n",
        "# A, B 에 행렬의 원소를 입력 받는다.\n",
        "## map 함수는 맵 객체(map object)를 반환하므로, row에는 list 형태로 받아주어야 한다. 맵 객체는 이터레이터이기 때문에 다대다 관계에서는 list가 생략이 가능하지만, 일대다 관계에서 map 함수는 list 를 통해 값을 확인할 수 있다.\n",
        "for row in range(N):\n",
        "    row = list(map(int, input().split()))\n",
        "    A.append(row)\n",
        "\n",
        "for row in range(N):\n",
        "    row = list(map(int, input().split()))\n",
        "    B.append(row)\n",
        "\n",
        "# 행렬 A, B 를 더한 행렬을 출력한다.\n",
        "## 반복문을 통해 행렬 A, B 의 동일 행, 동일 열에 위치한 원소를 더한 값을 출력하고, end = ' ' 를 통해 띄어쓰기로 열을 구분하여 출력한다.\n",
        "## 하나의 열을 출력한 다음, 다음 행으로 넘어가기 전에 print() 를 통해 줄바꿈을 해주어 행을 구분한다.\n",
        "for row in range(N):\n",
        "    for col in range(M):\n",
        "        print(A[row][col] + B[row][col], end=' ')\n",
        "    print()"
      ],
      "metadata": {
        "id": "kd12OEibVo17",
        "colab": {
          "base_uri": "https://localhost:8080/"
        },
        "outputId": "6fcd4645-5622-4862-e1c2-9724c345dc61"
      },
      "execution_count": 8,
      "outputs": [
        {
          "output_type": "stream",
          "name": "stdout",
          "text": [
            "3 3\n",
            "1 1 1\n",
            "2 2 2\n",
            "0 1 0\n",
            "3 3 3\n",
            "4 4 4\n",
            "5 5 100\n",
            "4 4 4 \n",
            "6 6 6 \n",
            "5 6 100 \n"
          ]
        }
      ]
    },
    {
      "cell_type": "code",
      "source": [
        "n, m = map(int, input().split())\n",
        "a, b = [], []\n",
        "\n",
        "# a, b \n",
        "for i in [a, b]:\n",
        "    for j in range(n):\n",
        "        i.append(list(map(int, input().split())))\n",
        "\n",
        "# print(a, b)\n",
        "\n",
        "for i in range(n):\n",
        "    for j in range(m):\n",
        "        a[i][j] += b[i][j]\n",
        "    print(*a[i])"
      ],
      "metadata": {
        "colab": {
          "base_uri": "https://localhost:8080/"
        },
        "id": "PRLIrxsEyU3n",
        "outputId": "1b7e676f-da9c-418a-df63-6bb7183bbf9b"
      },
      "execution_count": 10,
      "outputs": [
        {
          "output_type": "stream",
          "name": "stdout",
          "text": [
            "3 3\n",
            "1 1 1\n",
            "2 2 2\n",
            "0 1 0\n",
            "3 3 3\n",
            "4 4 4\n",
            "5 5 100\n",
            "[[1, 1, 1], [2, 2, 2], [0, 1, 0]] [[3, 3, 3], [4, 4, 4], [5, 5, 100]]\n",
            "4 4 4\n",
            "6 6 6\n",
            "5 6 100\n"
          ]
        }
      ]
    },
    {
      "cell_type": "code",
      "source": [
        "N, M = map(int,input().split())\n",
        "board = []\n",
        "\n",
        "# 리스트 2개로 행렬값을 받은 후, 2중 for문을 통해 값을 더하고 출력한다.\n",
        "for _ in range(N):\n",
        "  board.append(list(map(int,input().split())))\n",
        "\n",
        "for i in range(N):\n",
        "  temp = list(map(int,input().split()))\n",
        "\n",
        "  for j in range(M):\n",
        "    board[i][j] += temp[j]\n",
        "\n",
        "for i in range(N) :\n",
        "  for j in range(M):\n",
        "    print(board[i][j], end = \" \")\n",
        "  print()"
      ],
      "metadata": {
        "colab": {
          "base_uri": "https://localhost:8080/"
        },
        "id": "eWTn5retzHeQ",
        "outputId": "cda1a789-d357-4e92-a123-cbc0b3d90654"
      },
      "execution_count": 12,
      "outputs": [
        {
          "output_type": "stream",
          "name": "stdout",
          "text": [
            "3 3\n",
            "1 1 1\n",
            "2 2 2\n",
            "0 1 0\n",
            "3 3 3\n",
            "4 4 4\n",
            "5 5 100\n",
            "4 4 4 \n",
            "6 6 6 \n",
            "5 6 100 \n"
          ]
        }
      ]
    },
    {
      "cell_type": "markdown",
      "source": [
        "#### 🔍 참고사이트\n",
        "- [2783 문제 풀이 1](https://develop247.tistory.com/93)\n",
        "- [2783 문제 풀이 2](https://hooneee.tistory.com/81)\n",
        "- [2738 문제 풀이 3](https://yongku.tistory.com/2295)"
      ],
      "metadata": {
        "id": "X6qeTCkjVpLJ"
      }
    }
  ]
}