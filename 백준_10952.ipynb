{
  "nbformat": 4,
  "nbformat_minor": 0,
  "metadata": {
    "colab": {
      "provenance": [],
      "collapsed_sections": [],
      "authorship_tag": "ABX9TyNRi7yd8PInUPcKcPR0bc0L",
      "include_colab_link": true
    },
    "kernelspec": {
      "name": "python3",
      "display_name": "Python 3"
    },
    "language_info": {
      "name": "python"
    }
  },
  "cells": [
    {
      "cell_type": "markdown",
      "metadata": {
        "id": "view-in-github",
        "colab_type": "text"
      },
      "source": [
        "<a href=\"https://colab.research.google.com/github/bluehy/Algorithm/blob/main/%EB%B0%B1%EC%A4%80_10952.ipynb\" target=\"_parent\"><img src=\"https://colab.research.google.com/assets/colab-badge.svg\" alt=\"Open In Colab\"/></a>"
      ]
    },
    {
      "cell_type": "markdown",
      "source": [
        "# 알고리즘\n",
        "2022.09.27\n",
        "\n",
        "#### 📌백준 10952 파이썬"
      ],
      "metadata": {
        "id": "INO7zA_SUvBA"
      }
    },
    {
      "cell_type": "markdown",
      "source": [
        "두 정수 A와 B를 입력받은 다음, A+B를 출력하는 프로그램을 작성하시오."
      ],
      "metadata": {
        "id": "GvZ-nUtMU2Gi"
      }
    },
    {
      "cell_type": "markdown",
      "source": [
        "#### <입력>\n",
        "입력은 여러 개의 테스트 케이스로 이루어져 있다.\n",
        "\n",
        "각 테스트 케이스는 한 줄로 이루어져 있으며, 각 줄에 A와 B가 주어진다. (0 < A, B < 10)\n",
        "\n",
        "입력의 마지막에는 0 두 개가 들어온다.\n",
        "```\n",
        "1 1\n",
        "2 3\n",
        "3 4\n",
        "9 8\n",
        "5 2\n",
        "0 0\n",
        "```\n",
        "\n",
        "---\n",
        "#### <출력>\n",
        "각 테스트 케이스마다 A+B를 출력한다.\n",
        "```\n",
        "2\n",
        "5\n",
        "7\n",
        "17\n",
        "7\n",
        "```"
      ],
      "metadata": {
        "id": "jey61NaqVTW5"
      }
    },
    {
      "cell_type": "markdown",
      "source": [
        "### 🐣 내 풀이"
      ],
      "metadata": {
        "id": "UNXlkzWYViOp"
      }
    },
    {
      "cell_type": "code",
      "execution_count": null,
      "metadata": {
        "id": "Pw9pOQuiUuTO"
      },
      "outputs": [],
      "source": [
        "c = 1\n",
        "\n",
        "while c != 0 :\n",
        "  a, b = map(int,input().split())\n",
        "  c = a + b\n",
        "  if c != 0 :\n",
        "    print(c)"
      ]
    },
    {
      "cell_type": "markdown",
      "source": [
        "### 👩‍💻 다른 풀이"
      ],
      "metadata": {
        "id": "l4tdzTXjVley"
      }
    },
    {
      "cell_type": "code",
      "source": [
        "while True:\n",
        "    a, b = map(int, input().split())\n",
        "    if a == 0 and b == 0:\n",
        "        break\n",
        "    print(a+b)"
      ],
      "metadata": {
        "id": "kd12OEibVo17"
      },
      "execution_count": null,
      "outputs": []
    },
    {
      "cell_type": "code",
      "source": [
        "while 1 :\n",
        "  a, b = map(int, input().split())\n",
        "  if (a == 0 and b == 0):\n",
        "    break\n",
        "  else:\n",
        "    print(a+b)"
      ],
      "metadata": {
        "id": "t6g4bIURVed3"
      },
      "execution_count": null,
      "outputs": []
    },
    {
      "cell_type": "code",
      "source": [
        "while True:\n",
        "    a, b = map(int, input().split())\n",
        "    if a+b != 0:\n",
        "        break\n",
        "    print(a+b)"
      ],
      "metadata": {
        "id": "2S-UntkxXPiW"
      },
      "execution_count": null,
      "outputs": []
    },
    {
      "cell_type": "markdown",
      "source": [
        "#### 🔍 참고사이트\n",
        "- [리스트 원소 추가](https://wikidocs.net/16040)\n",
        "- [while문](https://wikidocs.net/21)\n",
        "- [while 반복문 사용하기](https://dojang.io/mod/page/view.php?id=2247)\n",
        "- [10952 문제 풀이 1](https://pacific-ocean.tistory.com/31)\n",
        "- [10952 문제 풀이 2](https://wook-2124.tistory.com/234)\n",
        "- [10952 문제 풀이 3](https://codingpractices.tistory.com/entry/%EB%B0%B1%EC%A4%80-10952%EB%B2%88-AB-5-%ED%8C%8C%EC%9D%B4%EC%8D%AC-python)"
      ],
      "metadata": {
        "id": "X6qeTCkjVpLJ"
      }
    }
  ]
}