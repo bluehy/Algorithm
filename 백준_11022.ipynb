{
  "nbformat": 4,
  "nbformat_minor": 0,
  "metadata": {
    "colab": {
      "provenance": [],
      "collapsed_sections": [],
      "authorship_tag": "ABX9TyNcdm2hjCUktGrA42+5b02t",
      "include_colab_link": true
    },
    "kernelspec": {
      "name": "python3",
      "display_name": "Python 3"
    },
    "language_info": {
      "name": "python"
    }
  },
  "cells": [
    {
      "cell_type": "markdown",
      "metadata": {
        "id": "view-in-github",
        "colab_type": "text"
      },
      "source": [
        "<a href=\"https://colab.research.google.com/github/bluehy/Algorithm/blob/main/%EB%B0%B1%EC%A4%80_11022.ipynb\" target=\"_parent\"><img src=\"https://colab.research.google.com/assets/colab-badge.svg\" alt=\"Open In Colab\"/></a>"
      ]
    },
    {
      "cell_type": "markdown",
      "source": [
        "# 알고리즘\n",
        "2022.09.16\n",
        "\n",
        "#### 📌백준 11022 파이썬"
      ],
      "metadata": {
        "id": "INO7zA_SUvBA"
      }
    },
    {
      "cell_type": "markdown",
      "source": [
        "두 정수 A와 B를 입력받은 다음, A+B를 출력하는 프로그램을 작성하시오."
      ],
      "metadata": {
        "id": "GvZ-nUtMU2Gi"
      }
    },
    {
      "cell_type": "markdown",
      "source": [
        "#### <입력>\n",
        "첫째 줄에 테스트 케이스의 개수 T가 주어진다.\n",
        "\n",
        "각 테스트 케이스는 한 줄로 이루어져 있으며, 각 줄에 A와 B가 주어진다. (0 < A, B < 10)\n",
        "```\n",
        "5\n",
        "1 1\n",
        "2 3\n",
        "3 4\n",
        "9 8\n",
        "5 2\n",
        "```\n",
        "\n",
        "---\n",
        "#### <출력>\n",
        "각 테스트 케이스마다 \"Case #x: A + B = C\" 형식으로 출력한다. x는 테스트 케이스 번호이고 1부터 시작하며, C는 A+B이다.\n",
        "```\n",
        "Case #1: 1 + 1 = 2\n",
        "Case #2: 2 + 3 = 5\n",
        "Case #3: 3 + 4 = 7\n",
        "Case #4: 9 + 8 = 17\n",
        "Case #5: 5 + 2 = 7\n",
        "```"
      ],
      "metadata": {
        "id": "jey61NaqVTW5"
      }
    },
    {
      "cell_type": "markdown",
      "source": [
        "### 🐣 내 풀이"
      ],
      "metadata": {
        "id": "UNXlkzWYViOp"
      }
    },
    {
      "cell_type": "code",
      "execution_count": 2,
      "metadata": {
        "id": "Pw9pOQuiUuTO",
        "colab": {
          "base_uri": "https://localhost:8080/"
        },
        "outputId": "961e5acc-3782-4462-bbb4-0d33174b9686"
      },
      "outputs": [
        {
          "output_type": "stream",
          "name": "stdout",
          "text": [
            "5\n",
            "1 1\n",
            "Case #1: 1 + 1 = 2\n",
            "2 3\n",
            "Case #2: 2 + 3 = 5\n",
            "3 4\n",
            "Case #3: 3 + 4 = 7\n",
            "9 8\n",
            "Case #4: 9 + 8 = 17\n",
            "5 2\n",
            "Case #5: 5 + 2 = 7\n"
          ]
        }
      ],
      "source": [
        "T = int(input())\n",
        "\n",
        "for i in range(T):\n",
        "  a, b = map(int,input().split())\n",
        "  print(f\"Case #{i+1}: {a} + {b} = {a + b}\")"
      ]
    },
    {
      "cell_type": "markdown",
      "source": [
        "### 👩‍💻 다른 풀이"
      ],
      "metadata": {
        "id": "l4tdzTXjVley"
      }
    },
    {
      "cell_type": "code",
      "source": [
        "t = int(input())\n",
        "\n",
        "for x in range(1, t+1):  # 1부터 t까지\n",
        "    a, b = map(int, input().split())\n",
        "    # f-string 활용\n",
        "    print(f'Case #{x}: {a} + {b} = {a+b}')"
      ],
      "metadata": {
        "id": "nlmobH8vuluv"
      },
      "execution_count": null,
      "outputs": []
    },
    {
      "cell_type": "code",
      "source": [
        "T = int(input())\n",
        "\n",
        "for i in range(1, T+1):\n",
        "    A, B = map(int, input().split())\n",
        "    # + 로 연결해주기\n",
        "    print(\"Case #\" + str(i) + \":\", A, \"+\", B, \"=\", A+B)"
      ],
      "metadata": {
        "id": "kd12OEibVo17"
      },
      "execution_count": null,
      "outputs": []
    },
    {
      "cell_type": "code",
      "source": [
        "cases = int(input())\n",
        "\n",
        "for i in range(cases):\n",
        "    a,b = map(int, input().split())\n",
        "    ans = a + b\n",
        "    # % 포매팅 활용\n",
        "    print(\"Case #%s: %s + %s = %s\"%(i+1, a, b, ans ))"
      ],
      "metadata": {
        "id": "Ap6lxt8Ouohu"
      },
      "execution_count": null,
      "outputs": []
    },
    {
      "cell_type": "markdown",
      "source": [
        "#### 🔍 참고사이트\n",
        "- [11022 문제 풀이 1](https://ooyoung.tistory.com/38)\n",
        "- [11022 문제 풀이 2](https://hyunsun99.tistory.com/m/108)\n",
        "- [11022 문제 풀이 3](https://claude-u.tistory.com/100)"
      ],
      "metadata": {
        "id": "X6qeTCkjVpLJ"
      }
    }
  ]
}