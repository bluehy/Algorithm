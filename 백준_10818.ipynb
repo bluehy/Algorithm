{
  "nbformat": 4,
  "nbformat_minor": 0,
  "metadata": {
    "colab": {
      "provenance": [],
      "collapsed_sections": [],
      "authorship_tag": "ABX9TyMKE3A6dDaUZ5J45/0CcvUN",
      "include_colab_link": true
    },
    "kernelspec": {
      "name": "python3",
      "display_name": "Python 3"
    },
    "language_info": {
      "name": "python"
    }
  },
  "cells": [
    {
      "cell_type": "markdown",
      "metadata": {
        "id": "view-in-github",
        "colab_type": "text"
      },
      "source": [
        "<a href=\"https://colab.research.google.com/github/bluehy/Algorithm/blob/main/%EB%B0%B1%EC%A4%80_10818.ipynb\" target=\"_parent\"><img src=\"https://colab.research.google.com/assets/colab-badge.svg\" alt=\"Open In Colab\"/></a>"
      ]
    },
    {
      "cell_type": "markdown",
      "source": [
        "# 알고리즘\n",
        "2022.10.05\n",
        "\n",
        "#### 📌백준 10818 파이썬"
      ],
      "metadata": {
        "id": "INO7zA_SUvBA"
      }
    },
    {
      "cell_type": "markdown",
      "source": [
        "N개의 정수가 주어진다. 이때, 최솟값과 최댓값을 구하는 프로그램을 작성하시오."
      ],
      "metadata": {
        "id": "GvZ-nUtMU2Gi"
      }
    },
    {
      "cell_type": "markdown",
      "source": [
        "#### <입력>\n",
        "첫째 줄에 정수의 개수 N (1 ≤ N ≤ 1,000,000)이 주어진다. 둘째 줄에는 N개의 정수를 공백으로 구분해서 주어진다. 모든 정수는 -1,000,000보다 크거나 같고, 1,000,000보다 작거나 같은 정수이다.\n",
        "```\n",
        "5\n",
        "20 10 35 30 7\n",
        "```\n",
        "\n",
        "---\n",
        "#### <출력>\n",
        "첫째 줄에 주어진 정수 N개의 최솟값과 최댓값을 공백으로 구분해 출력한다.\n",
        "```\n",
        "7 35\n",
        "```"
      ],
      "metadata": {
        "id": "jey61NaqVTW5"
      }
    },
    {
      "cell_type": "markdown",
      "source": [
        "### 🐣 내 풀이"
      ],
      "metadata": {
        "id": "UNXlkzWYViOp"
      }
    },
    {
      "cell_type": "code",
      "execution_count": 4,
      "metadata": {
        "id": "Pw9pOQuiUuTO",
        "colab": {
          "base_uri": "https://localhost:8080/"
        },
        "outputId": "7a9c39d6-7663-45c7-b346-789bf1d3fdaf"
      },
      "outputs": [
        {
          "output_type": "stream",
          "name": "stdout",
          "text": [
            "5\n",
            "20 10 35 30 7\n",
            "7 35\n",
            "20\n"
          ]
        }
      ],
      "source": [
        "t = int(input())\n",
        "item = list(map(int,input().split()))\n",
        "print(min(item),max(item))"
      ]
    },
    {
      "cell_type": "markdown",
      "source": [
        "### 👩‍💻 다른 풀이"
      ],
      "metadata": {
        "id": "l4tdzTXjVley"
      }
    },
    {
      "cell_type": "code",
      "source": [
        "cnt = int(input())\n",
        "numbers = list(map(int, input().split()))\n",
        "max = numbers[0]\n",
        "min = numbers[0]\n",
        "\n",
        "# numbers의 두번째 요소부터 차례로 비교해주어, max와 min값을 새로 구한다.\n",
        "for i in numbers[1:]:\n",
        "    if i > max:\n",
        "        max = i\n",
        "    elif i < min:\n",
        "        min = i\n",
        "\n",
        "print(min, max)"
      ],
      "metadata": {
        "id": "kd12OEibVo17",
        "colab": {
          "base_uri": "https://localhost:8080/"
        },
        "outputId": "05458a9d-4654-44cd-a5c5-ba2801fb4415"
      },
      "execution_count": 6,
      "outputs": [
        {
          "output_type": "stream",
          "name": "stdout",
          "text": [
            "5\n",
            "20 10 35 30 7\n",
            "7 35\n"
          ]
        }
      ]
    },
    {
      "cell_type": "code",
      "source": [
        "N = int(input())\n",
        "array = list(map(int,input().split()))\n",
        "\n",
        "# 오름차순 정렬\n",
        "array.sort()\n",
        "print(array[0],array[-1])"
      ],
      "metadata": {
        "id": "N4TVO1jbjbTA"
      },
      "execution_count": null,
      "outputs": []
    },
    {
      "cell_type": "markdown",
      "source": [
        "#### 🔍 참고사이트\n",
        "- [파이썬_min/max](https://devpouch.tistory.com/71)\n",
        "- [파이썬 list와 map, tuple](https://dojang.io/mod/page/view.php?id=2286)\n",
        "- [10818 문제 풀이 1](https://bambbang00.tistory.com/12)\n",
        "- [10818 문제 풀이 2](https://yaneodoo2.tistory.com/entry/%ED%8C%8C%EC%9D%B4%EC%8D%AC-%EB%B0%B1%EC%A4%80-10818%EB%B2%88-%EC%B5%9C%EC%86%8C-%EC%B5%9C%EB%8C%80-%EC%B5%9C%EC%86%9F%EA%B0%92%EA%B3%BC-%EC%B5%9C%EB%8C%93%EA%B0%92%EC%9D%84-%EC%B0%BE%EB%8A%94-%EB%AC%B8%EC%A0%9C)\n",
        "- [invalid character in identifier 오류](https://chillog.page/159)"
      ],
      "metadata": {
        "id": "X6qeTCkjVpLJ"
      }
    }
  ]
}