{
  "nbformat": 4,
  "nbformat_minor": 0,
  "metadata": {
    "colab": {
      "provenance": [],
      "authorship_tag": "ABX9TyOptaK5FcbmlKlLmnlqLPSN",
      "include_colab_link": true
    },
    "kernelspec": {
      "name": "python3",
      "display_name": "Python 3"
    },
    "language_info": {
      "name": "python"
    }
  },
  "cells": [
    {
      "cell_type": "markdown",
      "metadata": {
        "id": "view-in-github",
        "colab_type": "text"
      },
      "source": [
        "<a href=\"https://colab.research.google.com/github/bluehy/Algorithm/blob/main/%EB%B0%B1%EC%A4%80_2675.ipynb\" target=\"_parent\"><img src=\"https://colab.research.google.com/assets/colab-badge.svg\" alt=\"Open In Colab\"/></a>"
      ]
    },
    {
      "cell_type": "markdown",
      "source": [
        "# 알고리즘\n",
        "2022.11.16\n",
        "\n",
        "#### 📌백준 2675 파이썬"
      ],
      "metadata": {
        "id": "INO7zA_SUvBA"
      }
    },
    {
      "cell_type": "markdown",
      "source": [
        "문자열 S를 입력받은 후에, 각 문자를 R번 반복해 새 문자열 P를 만든 후 출력하는 프로그램을 작성하시오. 즉, 첫 번째 문자를 R번 반복하고, 두 번째 문자를 R번 반복하는 식으로 P를 만들면 된다. S에는 QR Code \"alphanumeric\" 문자만 들어있다.\n",
        "\n",
        "QR Code \"alphanumeric\" 문자는 0123456789ABCDEFGHIJKLMNOPQRSTUVWXYZ\\$%*+-./: 이다."
      ],
      "metadata": {
        "id": "GvZ-nUtMU2Gi"
      }
    },
    {
      "cell_type": "markdown",
      "source": [
        "#### <입력>\n",
        "첫째 줄에 테스트 케이스의 개수 T(1 ≤ T ≤ 1,000)가 주어진다. 각 테스트 케이스는 반복 횟수 R(1 ≤ R ≤ 8), 문자열 S가 공백으로 구분되어 주어진다. S의 길이는 적어도 1이며, 20글자를 넘지 않는다. \n",
        "```\n",
        "2\n",
        "3 ABC\n",
        "5 /HTP\n",
        "```\n",
        "\n",
        "---\n",
        "#### <출력>\n",
        "각 테스트 케이스에 대해 P를 출력한다.\n",
        "```\n",
        "AAABBBCCC\n",
        "/////HHHHHTTTTTPPPPP\n",
        "```"
      ],
      "metadata": {
        "id": "jey61NaqVTW5"
      }
    },
    {
      "cell_type": "markdown",
      "source": [
        "### 🐣 내 풀이"
      ],
      "metadata": {
        "id": "UNXlkzWYViOp"
      }
    },
    {
      "cell_type": "code",
      "execution_count": 10,
      "metadata": {
        "id": "Pw9pOQuiUuTO",
        "colab": {
          "base_uri": "https://localhost:8080/"
        },
        "outputId": "c381f39e-0ef9-4cf7-b42f-3f6b69cdbf01"
      },
      "outputs": [
        {
          "output_type": "stream",
          "name": "stdout",
          "text": [
            "2\n",
            "3 ABC\n",
            "AAABBBCCC\n",
            "5 /HTP\n",
            "/////HHHHHTTTTTPPPPP\n"
          ]
        }
      ],
      "source": [
        "T = int(input())\n",
        "\n",
        "for i in range(T):\n",
        "  R,S = input().split()\n",
        "  R = int(R)\n",
        "  for j in S:\n",
        "    print(j * R, end='')\n",
        "  print()"
      ]
    },
    {
      "cell_type": "markdown",
      "source": [
        "### 👩‍💻 다른 풀이"
      ],
      "metadata": {
        "id": "l4tdzTXjVley"
      }
    },
    {
      "cell_type": "code",
      "source": [
        "t = int(input())\n",
        "for i in range(t):\n",
        "    num, s = input().split()\n",
        "    text = ''\n",
        "    for i in s:\n",
        "        text += int(num) * i\n",
        "    print(text)"
      ],
      "metadata": {
        "id": "kd12OEibVo17"
      },
      "execution_count": null,
      "outputs": []
    },
    {
      "cell_type": "code",
      "source": [
        "n = int(input())\n",
        "\n",
        "for _ in range(n):\n",
        "    cnt, word = input().split()\n",
        "    for x in word:\n",
        "        print(x*int(cnt), end='')  # end='' 옆으로 붙임\n",
        "    print()  # 줄넘김"
      ],
      "metadata": {
        "id": "5Jlt362j-RMt"
      },
      "execution_count": null,
      "outputs": []
    },
    {
      "cell_type": "markdown",
      "source": [
        "#### 🔍 참고사이트\n",
        "- [python 문자열 N번 반복](https://www.delftstack.com/ko/howto/python/python-repeat-string-n-times/)\n",
        "- [문자열 string 정리](https://blockdmask.tistory.com/458)\n",
        "- [2675 문제 풀이 1](https://pacific-ocean.tistory.com/41)\n",
        "- [2675 문제 풀이 2](https://ooyoung.tistory.com/69)"
      ],
      "metadata": {
        "id": "X6qeTCkjVpLJ"
      }
    }
  ]
}