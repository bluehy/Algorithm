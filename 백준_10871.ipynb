{
  "nbformat": 4,
  "nbformat_minor": 0,
  "metadata": {
    "colab": {
      "provenance": [],
      "collapsed_sections": [],
      "authorship_tag": "ABX9TyNPpTO4n4ORJ16WPoCagwP+",
      "include_colab_link": true
    },
    "kernelspec": {
      "name": "python3",
      "display_name": "Python 3"
    },
    "language_info": {
      "name": "python"
    }
  },
  "cells": [
    {
      "cell_type": "markdown",
      "metadata": {
        "id": "view-in-github",
        "colab_type": "text"
      },
      "source": [
        "<a href=\"https://colab.research.google.com/github/bluehy/Algorithm/blob/main/%EB%B0%B1%EC%A4%80_10871.ipynb\" target=\"_parent\"><img src=\"https://colab.research.google.com/assets/colab-badge.svg\" alt=\"Open In Colab\"/></a>"
      ]
    },
    {
      "cell_type": "markdown",
      "source": [
        "# 알고리즘\n",
        "2022.09.20\n",
        "\n",
        "#### 📌백준 10871 파이썬"
      ],
      "metadata": {
        "id": "INO7zA_SUvBA"
      }
    },
    {
      "cell_type": "markdown",
      "source": [
        "정수 N개로 이루어진 수열 A와 정수 X가 주어진다. 이때, A에서 X보다 작은 수를 모두 출력하는 프로그램을 작성하시오."
      ],
      "metadata": {
        "id": "GvZ-nUtMU2Gi"
      }
    },
    {
      "cell_type": "markdown",
      "source": [
        "#### <입력>\n",
        "첫째 줄에 N과 X가 주어진다. (1 ≤ N, X ≤ 10,000)\n",
        "\n",
        "둘째 줄에 수열 A를 이루는 정수 N개가 주어진다. 주어지는 정수는 모두 1보다 크거나 같고, 10,000보다 작거나 같은 정수이다.\n",
        "```\n",
        "10 5\n",
        "1 10 4 9 2 3 8 5 7 6\n",
        "```\n",
        "\n",
        "---\n",
        "#### <출력>\n",
        "X보다 작은 수를 입력받은 순서대로 공백으로 구분해 출력한다. X보다 작은 수는 적어도 하나 존재한다.\n",
        "```\n",
        "1 4 2 3\n",
        "```"
      ],
      "metadata": {
        "id": "jey61NaqVTW5"
      }
    },
    {
      "cell_type": "markdown",
      "source": [
        "### 🐣 내 풀이"
      ],
      "metadata": {
        "id": "UNXlkzWYViOp"
      }
    },
    {
      "cell_type": "code",
      "execution_count": 11,
      "metadata": {
        "id": "Pw9pOQuiUuTO",
        "colab": {
          "base_uri": "https://localhost:8080/"
        },
        "outputId": "1139027b-a50e-45c8-cf82-67ced5274494"
      },
      "outputs": [
        {
          "output_type": "stream",
          "name": "stdout",
          "text": [
            "10 5\n",
            "1 10 4 9 2 3 8 5 7 6\n",
            "1 4 2 3 "
          ]
        }
      ],
      "source": [
        "T, X = map(int,input().split())\n",
        "A = list(map(int, input().split()))\n",
        "\n",
        "for i in range(T):\n",
        "  if A[i] < X:\n",
        "    print(A[i], end=\" \")"
      ]
    },
    {
      "cell_type": "markdown",
      "source": [
        "### 👩‍💻 다른 풀이"
      ],
      "metadata": {
        "id": "l4tdzTXjVley"
      }
    },
    {
      "cell_type": "code",
      "source": [
        "N, X = map(int, input().split())\n",
        "A = list(map(int, input().split()))\n",
        "for i in A:\n",
        "    if i < X:\n",
        "        print(i, end=\" \")"
      ],
      "metadata": {
        "id": "kd12OEibVo17"
      },
      "execution_count": null,
      "outputs": []
    },
    {
      "cell_type": "code",
      "source": [
        "list = input().split()\n",
        "n = int(list[0])\n",
        "x = int(list[1])\n",
        "c = []\n",
        "a = input().split()\n",
        "\n",
        "for i in a:\n",
        "    if int(i)<x:\n",
        "        c.append(int(i))\n",
        "for i in c:\n",
        "    print(i,end=' ')"
      ],
      "metadata": {
        "id": "Oh3F8DYDYRn9"
      },
      "execution_count": null,
      "outputs": []
    },
    {
      "cell_type": "code",
      "source": [
        "# sys.stdin.readline 사용\n",
        "import sys\n",
        "\n",
        "N,X = map(int,sys.stdin.readline().rstrip().split())\n",
        "\n",
        "A = list(map(int,sys.stdin.readline().rstrip().split()))\n",
        "\n",
        "for num in A:\n",
        "    if int(num) < X:\n",
        "        print(int(num),end=\" \")"
      ],
      "metadata": {
        "id": "zVTPGQFoYkhb"
      },
      "execution_count": null,
      "outputs": []
    },
    {
      "cell_type": "markdown",
      "source": [
        "#### 🔍 참고사이트\n",
        "- [리스트 표현식 사용하기](https://dojang.io/mod/page/view.php?id=2286)\n",
        "- [10871 문제 풀이 1](https://velog.io/@jsw8050/%EB%B0%B1%EC%A4%80-for%EB%AC%B8-10871%EB%B2%88-X%EB%B3%B4%EB%8B%A4-%EC%9E%91%EC%9D%80-%EC%88%98-Python)\n",
        "- [10871 문제 풀이 2](https://intrepidgeeks.com/tutorial/python-bojun-10871-number-less-than-x)\n",
        "- [10871 문제 풀이 3](https://ai-sonny.tistory.com/entry/%EB%B0%B1%EC%A4%80-10871%EB%B2%88-X%EB%B3%B4%EB%8B%A4-%EC%9E%91%EC%9D%80-%EC%88%98-%ED%8C%8C%EC%9D%B4%EC%8D%AC)"
      ],
      "metadata": {
        "id": "X6qeTCkjVpLJ"
      }
    }
  ]
}