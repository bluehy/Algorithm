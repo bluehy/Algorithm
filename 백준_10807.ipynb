{
  "nbformat": 4,
  "nbformat_minor": 0,
  "metadata": {
    "colab": {
      "provenance": [],
      "collapsed_sections": [],
      "authorship_tag": "ABX9TyMMUj0bsDpEfViB+h2gNFEU",
      "include_colab_link": true
    },
    "kernelspec": {
      "name": "python3",
      "display_name": "Python 3"
    },
    "language_info": {
      "name": "python"
    }
  },
  "cells": [
    {
      "cell_type": "markdown",
      "metadata": {
        "id": "view-in-github",
        "colab_type": "text"
      },
      "source": [
        "<a href=\"https://colab.research.google.com/github/bluehy/Algorithm/blob/main/%EB%B0%B1%EC%A4%80_10807.ipynb\" target=\"_parent\"><img src=\"https://colab.research.google.com/assets/colab-badge.svg\" alt=\"Open In Colab\"/></a>"
      ]
    },
    {
      "cell_type": "markdown",
      "source": [
        "# 알고리즘\n",
        "2022.11.01\n",
        "\n",
        "#### 📌백준 10807 파이썬"
      ],
      "metadata": {
        "id": "INO7zA_SUvBA"
      }
    },
    {
      "cell_type": "markdown",
      "source": [
        "총 N개의 정수가 주어졌을 때, 정수 v가 몇 개인지 구하는 프로그램을 작성하시오."
      ],
      "metadata": {
        "id": "GvZ-nUtMU2Gi"
      }
    },
    {
      "cell_type": "markdown",
      "source": [
        "#### <입력>\n",
        "첫째 줄에 정수의 개수 N(1 ≤ N ≤ 100)이 주어진다. 둘째 줄에는 정수가 공백으로 구분되어져있다. 셋째 줄에는 찾으려고 하는 정수 v가 주어진다. 입력으로 주어지는 정수와 v는 -100보다 크거나 같으며, 100보다 작거나 같다.\n",
        "```\n",
        "11\n",
        "1 4 1 2 4 2 4 2 3 4 4\n",
        "2\n",
        "```\n",
        "\n",
        "---\n",
        "#### <출력>\n",
        "첫째 줄에 입력으로 주어진 N개의 정수 중에 v가 몇 개인지 출력한다.\n",
        "```\n",
        "3\n",
        "```"
      ],
      "metadata": {
        "id": "jey61NaqVTW5"
      }
    },
    {
      "cell_type": "markdown",
      "source": [
        "### 🐣 내 풀이"
      ],
      "metadata": {
        "id": "UNXlkzWYViOp"
      }
    },
    {
      "cell_type": "code",
      "execution_count": 2,
      "metadata": {
        "id": "Pw9pOQuiUuTO",
        "colab": {
          "base_uri": "https://localhost:8080/"
        },
        "outputId": "19e9f8bd-dc87-43c3-9f13-7ec2cec21a95"
      },
      "outputs": [
        {
          "output_type": "stream",
          "name": "stdout",
          "text": [
            "11\n",
            "1 4 1 2 4 2 4 2 3 4 4\n",
            "5\n",
            "0\n"
          ]
        }
      ],
      "source": [
        "N = int(input())\n",
        "case = list(map(int,input().split()))\n",
        "v = int(input())\n",
        "\n",
        "# count : python 리스트 내장 메소드 count() 는 매개변수로 입력된 값이 리스트 안에 몇개 있는지 세어 반환해줍니다.\n",
        "result = case.count(v)\n",
        "print(result)"
      ]
    },
    {
      "cell_type": "markdown",
      "source": [
        "### 👩‍💻 다른 풀이"
      ],
      "metadata": {
        "id": "l4tdzTXjVley"
      }
    },
    {
      "cell_type": "code",
      "source": [
        "N = int(input())\n",
        "l = list(map(int, input().split()))\n",
        "v = int(input())\n",
        "cnt = 0\n",
        "\n",
        "# v와 같은 요소일 경우, cnt 값 1씩 증가\n",
        "for i in l:\n",
        "    if i == v:\n",
        "        cnt += 1\n",
        "        \n",
        "print(cnt)"
      ],
      "metadata": {
        "id": "kd12OEibVo17"
      },
      "execution_count": null,
      "outputs": []
    },
    {
      "cell_type": "code",
      "source": [
        "# collections의 Counter를 활용\n",
        "from collections import Counter\n",
        "\n",
        "def counting_number(numbers, v):\n",
        "    answer = 0\n",
        "    cnt = Counter(numbers)\n",
        "    \n",
        "    if v in cnt:\n",
        "        answer = cnt[v]\n",
        "        \n",
        "    return answer\n",
        "\n",
        "\n",
        "if __name__ == \"__main__\":\n",
        "    N = int(input())\n",
        "    numbers = list(map(int, input().split()))\n",
        "    v = int(input())\n",
        "    \n",
        "    print(counting_number(numbers, v))"
      ],
      "metadata": {
        "id": "JJmseYrdigJh"
      },
      "execution_count": null,
      "outputs": []
    },
    {
      "cell_type": "code",
      "source": [
        "# List의 숫자를 하나씩 비교하여 풀기\n",
        "\n",
        "def counting_number(numbers, v):\n",
        "    ans_list = [num for num in numbers if num == v]\n",
        "    \n",
        "    return len(ans_list)\n",
        "\n",
        "\n",
        "if __name__ == \"__main__\":\n",
        "    N = int(input()) \n",
        "    numbers = list(map(int, input().split())) \n",
        "    v = int(input())\n",
        "    \n",
        "    print(counting_number(numbers, v))"
      ],
      "metadata": {
        "id": "mbnf4gu-i2N-"
      },
      "execution_count": null,
      "outputs": []
    },
    {
      "cell_type": "code",
      "source": [
        "# https://www.acmicpc.net/problem/10807\n",
        "# boj, 10807: 개수 세기, python3\n",
        "import sys\n",
        "\n",
        "input = sys.stdin.readline  # 변수 입력 속도 향상\n",
        "\n",
        "# 입력으로 주어진 n개의 정수 중에 v가 몇 개인지 반환하는 함수\n",
        "def solve(nums: list, v: int) -> int:\n",
        "    return sum([1 for x in nums if x == v])\n",
        "\n",
        "if __name__ == '__main__':\n",
        "    n = int(input())  # 정수의 개수\n",
        "    nums = list(map(int, input().split()))  # 정수가 공백으로 주어진다.\n",
        "    v = int(input())  # 찾으려고 하는 정수 v\n",
        "\n",
        "    print(solve(nums, v))"
      ],
      "metadata": {
        "id": "tPpG4RnXjlsv"
      },
      "execution_count": null,
      "outputs": []
    },
    {
      "cell_type": "markdown",
      "source": [
        "#### 🔍 참고사이트\n",
        "- [Python List count](https://lcs1245.tistory.com/entry/Python-List-index-%EC%9A%94%EC%86%8C-%EC%B0%BE%EA%B8%B0-%EA%B0%AF%EC%88%98-%EC%B0%BE%EA%B8%B0-index-in-count)\n",
        "- [10807 문제 풀이 1](https://hei-jayden.tistory.com/2)\n",
        "- [10807 문제 풀이 2](https://somjang.tistory.com/entry/BaekJoon-10807%EB%B2%88-%EA%B0%9C%EC%88%98-%EC%84%B8%EA%B8%B0-Python)\n",
        "- [10807 문제 풀이 3](https://velog.io/@cosmos/boj%EB%B0%B1%EC%A4%80-10807-python)"
      ],
      "metadata": {
        "id": "X6qeTCkjVpLJ"
      }
    }
  ]
}