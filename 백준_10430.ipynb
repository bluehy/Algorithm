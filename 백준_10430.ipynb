{
  "nbformat": 4,
  "nbformat_minor": 0,
  "metadata": {
    "colab": {
      "name": "백준 10430.ipynb",
      "provenance": [],
      "collapsed_sections": []
    },
    "kernelspec": {
      "name": "python3",
      "display_name": "Python 3"
    },
    "language_info": {
      "name": "python"
    }
  },
  "cells": [
    {
      "cell_type": "markdown",
      "source": [
        "# 알고리즘 스터디\n",
        "2022.08.10\n",
        "\n",
        "#### 📌백준 10430 파이썬"
      ],
      "metadata": {
        "id": "dvvYNLPCOpha"
      }
    },
    {
      "cell_type": "markdown",
      "source": [
        "(A+B)%C는 ((A%C) + (B%C))%C 와 같을까?\n",
        "\n",
        "(A×B)%C는 ((A%C) × (B%C))%C 와 같을까?\n",
        "\n",
        "세 수 A, B, C가 주어졌을 때, 위의 네 가지 값을 구하는 프로그램을 작성하시오.\n",
        "\n"
      ],
      "metadata": {
        "id": "KxBRr7aJOplS"
      }
    },
    {
      "cell_type": "markdown",
      "source": [
        "\n",
        "#### <입력> \n",
        "\n",
        "\n",
        "첫째 줄에 A, B, C가 순서대로 주어진다. (2 ≤ A, B, C ≤ 10000)\n",
        "\n",
        "---\n",
        "\n",
        "#### <출력> \n",
        "\n",
        "\n",
        "첫째 줄에 (A+B)%C, 둘째 줄에 ((A%C) + (B%C))%C, 셋째 줄에 (A×B)%C, 넷째 줄에 ((A%C) × (B%C))%C를 출력한다.\n",
        "\n"
      ],
      "metadata": {
        "id": "atvuGX09WOHf"
      }
    },
    {
      "cell_type": "code",
      "source": [
        "# 인풋 값 받아오기\n",
        "inputValue = list(map(int,input('').split()))\n",
        "print(inputValue)\n",
        "\n",
        "# a, b, c 값 지정하기\n",
        "a = inputValue[0]\n",
        "b = inputValue[1]\n",
        "c = inputValue[2]\n",
        "\n",
        "# 네 가지 값 출력하기\n",
        "print((a+b)%c)\n",
        "print(((a%c)+(b%c))%c)\n",
        "print((a*b)%c)\n",
        "print(((a%c)*(b%c))%c)"
      ],
      "metadata": {
        "colab": {
          "base_uri": "https://localhost:8080/"
        },
        "id": "w9sxcWx1O9Zk",
        "outputId": "b1a9a494-5ccf-4725-92db-ca29a9c63be5"
      },
      "execution_count": null,
      "outputs": [
        {
          "output_type": "stream",
          "name": "stdout",
          "text": [
            "5 8 4\n",
            "[5, 8, 4]\n",
            "1\n",
            "1\n",
            "0\n",
            "0\n"
          ]
        }
      ]
    },
    {
      "cell_type": "markdown",
      "source": [
        "### 👩‍💻 다른 풀이"
      ],
      "metadata": {
        "id": "VF3zoKwSTAq3"
      }
    },
    {
      "cell_type": "code",
      "source": [
        "A,B,C = map(int,input().split())\n",
        "\n",
        "print((A+B)%C, ((A%C)+(B%C))%C, (A*B)%C, ((A%C)*(B%C))%C, sep='\\n')\n",
        "# sep='\\n'로 줄바꿈"
      ],
      "metadata": {
        "colab": {
          "base_uri": "https://localhost:8080/"
        },
        "id": "4jNmqBPQTEyw",
        "outputId": "3226d107-521e-4708-bd5b-8e493a7478ba"
      },
      "execution_count": null,
      "outputs": [
        {
          "output_type": "stream",
          "name": "stdout",
          "text": [
            "5 8 3\n",
            "1\n",
            "1\n",
            "1\n",
            "1\n"
          ]
        }
      ]
    },
    {
      "cell_type": "code",
      "source": [
        "a, b, c = input().split()\n",
        "a = int(a)\n",
        "b = int(b)\n",
        "c = int(c)\n",
        "\n",
        "print((a+b)%c)\n",
        "print(((a%c)+(b%c))%c)\n",
        "print((a*b)%c)\n",
        "print(((a%c)*(b%c))%c)"
      ],
      "metadata": {
        "id": "LbKLffOLWedP"
      },
      "execution_count": null,
      "outputs": []
    },
    {
      "cell_type": "markdown",
      "source": [
        "#### 🔍 참고사이트\n",
        "\n",
        "- [10430 문제 풀이 1](https://ooyoung.tistory.com/21)\n",
        "- [10430 문제 풀이 2](https://coding-of-today.tistory.com/64)\n",
        "- [이스케이프 문자 정리](https://ooyoung.tistory.com/12)"
      ],
      "metadata": {
        "id": "3Unu1-EHUOHD"
      }
    }
  ]
}