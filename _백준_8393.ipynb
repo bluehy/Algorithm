{
  "nbformat": 4,
  "nbformat_minor": 0,
  "metadata": {
    "colab": {
      "provenance": [],
      "collapsed_sections": [],
      "authorship_tag": "ABX9TyMRmutJ8X2yLCV84uGYSZBD",
      "include_colab_link": true
    },
    "kernelspec": {
      "name": "python3",
      "display_name": "Python 3"
    },
    "language_info": {
      "name": "python"
    }
  },
  "cells": [
    {
      "cell_type": "markdown",
      "metadata": {
        "id": "view-in-github",
        "colab_type": "text"
      },
      "source": [
        "<a href=\"https://colab.research.google.com/github/bluehy/Algorithm/blob/main/_%EB%B0%B1%EC%A4%80_8393.ipynb\" target=\"_parent\"><img src=\"https://colab.research.google.com/assets/colab-badge.svg\" alt=\"Open In Colab\"/></a>"
      ]
    },
    {
      "cell_type": "markdown",
      "source": [
        "# 알고리즘\n",
        "2022.09.13\n",
        "\n",
        "#### 📌백준 8393 파이썬"
      ],
      "metadata": {
        "id": "INO7zA_SUvBA"
      }
    },
    {
      "cell_type": "markdown",
      "source": [
        "n이 주어졌을 때, 1부터 n까지 합을 구하는 프로그램을 작성하시오."
      ],
      "metadata": {
        "id": "GvZ-nUtMU2Gi"
      }
    },
    {
      "cell_type": "markdown",
      "source": [
        "#### <입력>\n",
        "첫째 줄에 n (1 ≤ n ≤ 10,000)이 주어진다.\n",
        "```\n",
        "3\n",
        "```\n",
        "\n",
        "---\n",
        "#### <출력>\n",
        "1부터 n까지 합을 출력한다.\n",
        "```\n",
        "6\n",
        "```"
      ],
      "metadata": {
        "id": "jey61NaqVTW5"
      }
    },
    {
      "cell_type": "markdown",
      "source": [
        "### 🐣 내 풀이"
      ],
      "metadata": {
        "id": "UNXlkzWYViOp"
      }
    },
    {
      "cell_type": "code",
      "execution_count": 4,
      "metadata": {
        "id": "Pw9pOQuiUuTO",
        "colab": {
          "base_uri": "https://localhost:8080/"
        },
        "outputId": "6d24a761-b7f0-4c5b-ee57-588343df802b"
      },
      "outputs": [
        {
          "output_type": "stream",
          "name": "stdout",
          "text": [
            "1\n",
            "1\n"
          ]
        }
      ],
      "source": [
        "n = int(input())\n",
        "\n",
        "for i in range(n):\n",
        "  n += i\n",
        "\n",
        "print(n)"
      ]
    },
    {
      "cell_type": "markdown",
      "source": [
        "### 👩‍💻 다른 풀이"
      ],
      "metadata": {
        "id": "l4tdzTXjVley"
      }
    },
    {
      "cell_type": "code",
      "source": [
        "a = int(input())\n",
        "sum = 0\n",
        "\n",
        "for i in range(a+1): # i가 1부터 n까지\n",
        "    sum = sum + i # sum += 1과 같은 의미\n",
        "\n",
        "print(sum)"
      ],
      "metadata": {
        "id": "kd12OEibVo17"
      },
      "execution_count": null,
      "outputs": []
    },
    {
      "cell_type": "code",
      "source": [
        "# sum 함수를 이용한 코드\n",
        "print(sum(range(1, int(input())+1)))"
      ],
      "metadata": {
        "id": "coBVK-FDUYBq"
      },
      "execution_count": null,
      "outputs": []
    },
    {
      "cell_type": "markdown",
      "source": [
        "#### 🔍 참고사이트\n",
        "- [8393 문제 풀이 1](https://pacific-ocean.tistory.com/27)\n",
        "- [8393 문제 풀이 2](https://ooyoung.tistory.com/33)\n",
        "- [파이썬 내장 함수 : sum함수](https://docs.python.org/ko/3/library/functions.html?highlight=built%20function#sum)"
      ],
      "metadata": {
        "id": "X6qeTCkjVpLJ"
      }
    }
  ]
}