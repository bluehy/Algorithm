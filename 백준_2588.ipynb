{
  "nbformat": 4,
  "nbformat_minor": 0,
  "metadata": {
    "colab": {
      "name": "백준 2588.ipynb",
      "provenance": [],
      "authorship_tag": "ABX9TyNss85PrhcpJz3zp1cjf77H",
      "include_colab_link": true
    },
    "kernelspec": {
      "name": "python3",
      "display_name": "Python 3"
    },
    "language_info": {
      "name": "python"
    }
  },
  "cells": [
    {
      "cell_type": "markdown",
      "metadata": {
        "id": "view-in-github",
        "colab_type": "text"
      },
      "source": [
        "<a href=\"https://colab.research.google.com/github/bluehy/Algorithm/blob/main/%EB%B0%B1%EC%A4%80_2588.ipynb\" target=\"_parent\"><img src=\"https://colab.research.google.com/assets/colab-badge.svg\" alt=\"Open In Colab\"/></a>"
      ]
    },
    {
      "cell_type": "markdown",
      "source": [
        "# 알고리즘 스터디\n",
        "2022.08.16\n",
        "\n",
        "#### 📌백준 2588 파이썬"
      ],
      "metadata": {
        "id": "o0kP0WoyGFi2"
      }
    },
    {
      "cell_type": "markdown",
      "source": [
        "(세 자리 수) × (세 자리 수)는 다음과 같은 과정을 통하여 이루어진다.\n",
        "\n",
        "![문제 이미지](https://www.acmicpc.net/upload/images/f5NhGHVLM4Ix74DtJrwfC97KepPl27s%20(1).png)\n",
        "\n",
        "\n",
        "(1)과 (2)위치에 들어갈 세 자리 자연수가 주어질 때 (3), (4), (5), (6)위치에 들어갈 값을 구하는 프로그램을 작성하시오."
      ],
      "metadata": {
        "id": "eS07vePFGNgq"
      }
    },
    {
      "cell_type": "markdown",
      "source": [
        "#### <입력>\n",
        "\n",
        "첫째 줄에 (1)의 위치에 들어갈 세 자리 자연수가, 둘째 줄에 (2)의 위치에 들어갈 세자리 자연수가 주어진다.\n",
        "\n",
        "\n",
        "```\n",
        "472\n",
        "385\n",
        "```\n",
        "\n",
        "\n",
        "---\n",
        "\n",
        "#### <출력>\n",
        "첫째 줄부터 넷째 줄까지 차례대로 (3), (4), (5), (6)에 들어갈 값을 출력한다.\n",
        "```\n",
        "2360\n",
        "3776\n",
        "1416\n",
        "181720\n",
        "```\n"
      ],
      "metadata": {
        "id": "mQL7Z9hsGHL2"
      }
    },
    {
      "cell_type": "markdown",
      "source": [
        "### 🐣 내 풀이"
      ],
      "metadata": {
        "id": "DTE2HxJ5GsCq"
      }
    },
    {
      "cell_type": "code",
      "source": [
        "# 인풋 받아오기\n",
        "# numbers = input(\"\").split()\n",
        "# print(numbers)\n",
        "A = int(input(\"\"))\n",
        "B = input(\"\")\n",
        "\n",
        "# B 문자열 분리\n",
        "a = []\n",
        "for i in str(B):\n",
        "  a.extend(i)\n",
        "b = list(map(int,a))\n",
        "\n",
        "# (3),(4),(5) 값 순서대로 구하기 + 출력하기\n",
        "for i in range(len(a)):\n",
        "  print(A * b[2-i])\n",
        "\n",
        "# 최종값(6) 출력하기\n",
        "print(A * int(B))"
      ],
      "metadata": {
        "colab": {
          "base_uri": "https://localhost:8080/"
        },
        "id": "38P4bFpSGvZL",
        "outputId": "39e07e7e-fcdb-4871-921b-481da52cb79a"
      },
      "execution_count": null,
      "outputs": [
        {
          "output_type": "stream",
          "name": "stdout",
          "text": [
            "472 385\n",
            "['472', '385']\n",
            "[3, 8, 5]\n",
            "[472, 385]\n",
            "2360\n",
            "3776\n",
            "1416\n",
            "181720\n"
          ]
        }
      ]
    },
    {
      "cell_type": "markdown",
      "source": [
        "### 👩‍💻 다른 풀이"
      ],
      "metadata": {
        "id": "z_YUtKaKKrxy"
      }
    },
    {
      "cell_type": "code",
      "source": [
        "A = int(input())  # 첫번째 입력받은 문자 : 숫자로 변환\n",
        "B = input()       # 두번째 입력받은 문자 : 문자열 그대로 둠\n",
        "\n",
        "# 문자열의 인덱스를 이용해서 두번째 입력 받은 문자를 하나씩 숫자로 반환하고 A와 곱한다.\n",
        "AxB2 = A * int(B[2])\n",
        "AxB1 = A * int(B[1])\n",
        "AxB0 = A * int(B[0])\n",
        "AxB = A * int(B)\n",
        "\n",
        "print(AxB2, AxB1, AxB0, AxB, sep='\\n')\n",
        "# sep='\\n'로 줄바꿈"
      ],
      "metadata": {
        "id": "p9j6F89EPzCa"
      },
      "execution_count": null,
      "outputs": []
    },
    {
      "cell_type": "markdown",
      "source": [
        "#### 🔍 참고사이트\n",
        "- [2588 문제 풀이 1](https://ooyoung.tistory.com/22)\n",
        "- [prepend, extend, insert](https://codechacha.com/ko/python-append-vs-extend/)\n",
        "- [for in](https://wikidocs.net/16045)\n",
        "- [str 문자열 분리](https://go-hard.tistory.com/96)"
      ],
      "metadata": {
        "id": "T1boev8aPg9Z"
      }
    }
  ]
}