{
  "nbformat": 4,
  "nbformat_minor": 0,
  "metadata": {
    "colab": {
      "provenance": [],
      "authorship_tag": "ABX9TyNR2ATlb+vsREygWXCUz0I8",
      "include_colab_link": true
    },
    "kernelspec": {
      "name": "python3",
      "display_name": "Python 3"
    },
    "language_info": {
      "name": "python"
    }
  },
  "cells": [
    {
      "cell_type": "markdown",
      "metadata": {
        "id": "view-in-github",
        "colab_type": "text"
      },
      "source": [
        "<a href=\"https://colab.research.google.com/github/bluehy/Algorithm/blob/main/%EB%B0%B1%EC%A4%80_1157.ipynb\" target=\"_parent\"><img src=\"https://colab.research.google.com/assets/colab-badge.svg\" alt=\"Open In Colab\"/></a>"
      ]
    },
    {
      "cell_type": "markdown",
      "source": [
        "# 알고리즘\n",
        "2022.11.17\n",
        "\n",
        "#### 📌백준 1157 파이썬"
      ],
      "metadata": {
        "id": "INO7zA_SUvBA"
      }
    },
    {
      "cell_type": "markdown",
      "source": [
        "알파벳 대소문자로 된 단어가 주어지면, 이 단어에서 가장 많이 사용된 알파벳이 무엇인지 알아내는 프로그램을 작성하시오. 단, 대문자와 소문자를 구분하지 않는다."
      ],
      "metadata": {
        "id": "GvZ-nUtMU2Gi"
      }
    },
    {
      "cell_type": "markdown",
      "source": [
        "#### <입력>\n",
        "첫째 줄에 알파벳 대소문자로 이루어진 단어가 주어진다. 주어지는 단어의 길이는 1,000,000을 넘지 않는다.\n",
        "```\n",
        "Mississipi\n",
        "```\n",
        "\n",
        "---\n",
        "#### <출력>\n",
        "첫째 줄에 이 단어에서 가장 많이 사용된 알파벳을 대문자로 출력한다. 단, 가장 많이 사용된 알파벳이 여러 개 존재하는 경우에는 ?를 출력한다.\n",
        "```\n",
        "?\n",
        "```"
      ],
      "metadata": {
        "id": "jey61NaqVTW5"
      }
    },
    {
      "cell_type": "markdown",
      "source": [
        "### 🐣 내 풀이"
      ],
      "metadata": {
        "id": "UNXlkzWYViOp"
      }
    },
    {
      "cell_type": "code",
      "execution_count": 14,
      "metadata": {
        "id": "Pw9pOQuiUuTO",
        "colab": {
          "base_uri": "https://localhost:8080/"
        },
        "outputId": "677aee11-dcb8-4da3-8ffb-19bd985ccc16"
      },
      "outputs": [
        {
          "output_type": "stream",
          "name": "stdout",
          "text": [
            "kerqdmqqqqq\n",
            "Q\n"
          ]
        }
      ],
      "source": [
        "word = input().upper()\n",
        "key = set(word)\n",
        "\n",
        "wordset = list()\n",
        "for i in key:\n",
        "  wordset.append(word.count(i))\n",
        "\n",
        "if wordset.count(max(wordset)) >= 2:\n",
        "  print(\"?\")\n",
        "else:\n",
        "  for i in key:\n",
        "    if word.count(i) == max(wordset):\n",
        "      print(i)"
      ]
    },
    {
      "cell_type": "markdown",
      "source": [
        "### 👩‍💻 다른 풀이"
      ],
      "metadata": {
        "id": "l4tdzTXjVley"
      }
    },
    {
      "cell_type": "code",
      "source": [
        "words = input().upper()\n",
        "unique_words = list(set(words))  # 입력받은 문자열에서 중복값을 제거\n",
        "\n",
        "cnt_list = []\n",
        "for x in unique_words :\n",
        "    cnt = words.count(x)\n",
        "    cnt_list.append(cnt)  # count 숫자를 리스트에 append\n",
        "\n",
        "if cnt_list.count(max(cnt_list)) > 1 :  # count 숫자 최대값이 중복되면\n",
        "    print('?')\n",
        "else :\n",
        "    max_index = cnt_list.index(max(cnt_list))  # count 숫자 최대값 인덱스(위치)\n",
        "    print(unique_words[max_index])\n",
        "    #  최댓값이 하나라면 숫자 리스트에서 가장 큰 수의 위치를 index 함수로 찾고서 unique_words 리스트에서 같은 인덱스에 위치한 문자열을 출력한다."
      ],
      "metadata": {
        "id": "kd12OEibVo17"
      },
      "execution_count": null,
      "outputs": []
    },
    {
      "cell_type": "code",
      "source": [
        "word = input().lower() # word = mississipi\n",
        "word_list = list(set(word)) # word_list = ['m','i','s','p']\n",
        "\n",
        "for i in word_list: # i = m, i, s, p\n",
        "  count = word.count(i)\n",
        "  cnt.append(count) # cnt = [1, 4, 4, 1]\n",
        "\n",
        "if cnt.count(max(cnt)) >= 2: # cnt 안에 최대값이 2개 이상이라면 \"?\" 출력\n",
        "  print(\"?\")\n",
        "else:\n",
        "  print(word_list[(cnt.index(max(cnt)))].upper()) \n",
        "  # cnt.index(max(cnt)) cnt리스트 내의 최대값 요소의 인덱스 값.\n",
        "  # word_list에서 해당 인덱스값의 문자열을 출력, 대문자로 출력."
      ],
      "metadata": {
        "id": "XnjeqDssDkWO"
      },
      "execution_count": null,
      "outputs": []
    },
    {
      "cell_type": "markdown",
      "source": [
        "#### 🔍 참고사이트\n",
        "- [리스트에서 최소/최대값 찾기](https://devpouch.tistory.com/71)\n",
        "- [리스트 중복 요소 갯수 찾기](https://infinitt.tistory.com/78)\n",
        "- [index(x) 함수](https://wikidocs.net/14#index)\n",
        "  : 리스트에 x 값이 있으면 x의 위치 값을 돌려준다.\n",
        "- [1157 문제 풀이 1](https://ooyoung.tistory.com/70)\n",
        "- [1157 문제 풀이 2](https://wook-2124.tistory.com/257)"
      ],
      "metadata": {
        "id": "X6qeTCkjVpLJ"
      }
    }
  ]
}