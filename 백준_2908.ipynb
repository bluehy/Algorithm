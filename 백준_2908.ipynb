{
  "nbformat": 4,
  "nbformat_minor": 0,
  "metadata": {
    "colab": {
      "provenance": [],
      "authorship_tag": "ABX9TyMM1U2SG3NE2i6b/arO0D+R",
      "include_colab_link": true
    },
    "kernelspec": {
      "name": "python3",
      "display_name": "Python 3"
    },
    "language_info": {
      "name": "python"
    }
  },
  "cells": [
    {
      "cell_type": "markdown",
      "metadata": {
        "id": "view-in-github",
        "colab_type": "text"
      },
      "source": [
        "<a href=\"https://colab.research.google.com/github/bluehy/Algorithm/blob/main/%EB%B0%B1%EC%A4%80_2908.ipynb\" target=\"_parent\"><img src=\"https://colab.research.google.com/assets/colab-badge.svg\" alt=\"Open In Colab\"/></a>"
      ]
    },
    {
      "cell_type": "markdown",
      "source": [
        "# 알고리즘\n",
        "2022.11.23\n",
        "\n",
        "#### 📌백준 2908 파이썬"
      ],
      "metadata": {
        "id": "INO7zA_SUvBA"
      }
    },
    {
      "cell_type": "markdown",
      "source": [
        "상근이의 동생 상수는 수학을 정말 못한다. 상수는 숫자를 읽는데 문제가 있다. 이렇게 수학을 못하는 상수를 위해서 상근이는 수의 크기를 비교하는 문제를 내주었다. 상근이는 세 자리 수 두 개를 칠판에 써주었다. 그 다음에 크기가 큰 수를 말해보라고 했다.\n",
        "\n",
        "상수는 수를 다른 사람과 다르게 거꾸로 읽는다. 예를 들어, 734와 893을 칠판에 적었다면, 상수는 이 수를 437과 398로 읽는다. 따라서, 상수는 두 수중 큰 수인 437을 큰 수라고 말할 것이다.\n",
        "\n",
        "두 수가 주어졌을 때, 상수의 대답을 출력하는 프로그램을 작성하시오."
      ],
      "metadata": {
        "id": "GvZ-nUtMU2Gi"
      }
    },
    {
      "cell_type": "markdown",
      "source": [
        "#### <입력>\n",
        "첫째 줄에 상근이가 칠판에 적은 두 수 A와 B가 주어진다. 두 수는 같지 않은 세 자리 수이며, 0이 포함되어 있지 않다.\n",
        "```\n",
        "734 893\n",
        "```\n",
        "\n",
        "---\n",
        "#### <출력>\n",
        "첫째 줄에 상수의 대답을 출력한다.\n",
        "```\n",
        "437\n",
        "```"
      ],
      "metadata": {
        "id": "jey61NaqVTW5"
      }
    },
    {
      "cell_type": "markdown",
      "source": [
        "### 🐣 내 풀이"
      ],
      "metadata": {
        "id": "UNXlkzWYViOp"
      }
    },
    {
      "cell_type": "code",
      "execution_count": 3,
      "metadata": {
        "id": "Pw9pOQuiUuTO",
        "colab": {
          "base_uri": "https://localhost:8080/"
        },
        "outputId": "e19cae3e-3f75-491a-ad5d-0432acff8a0e"
      },
      "outputs": [
        {
          "output_type": "stream",
          "name": "stdout",
          "text": [
            "221 231\n",
            "132\n"
          ]
        }
      ],
      "source": [
        "A, B = input().split()\n",
        "reversed_A = int(A[::-1])\n",
        "reversed_B = int(B[::-1])\n",
        "\n",
        "if reversed_A > reversed_B:\n",
        "  print(reversed_A)\n",
        "else:\n",
        "  print(reversed_B)"
      ]
    },
    {
      "cell_type": "markdown",
      "source": [
        "### 👩‍💻 다른 풀이"
      ],
      "metadata": {
        "id": "l4tdzTXjVley"
      }
    },
    {
      "cell_type": "code",
      "source": [
        "a, b = input().split()\n",
        "a = a[::-1]\n",
        "b = b[::-1]\n",
        "print(max(a, b))"
      ],
      "metadata": {
        "id": "kd12OEibVo17"
      },
      "execution_count": null,
      "outputs": []
    },
    {
      "cell_type": "code",
      "source": [
        "# 인덱스를 활용하기\n",
        "a,b = input().split()\n",
        "new_a = int(a[2]+a[1]+a[0])\n",
        "new_b = int(b[2]+b[1]+b[0])\n",
        "print(max(new_a, new_b))"
      ],
      "metadata": {
        "id": "KqLZ4yNz5Quu"
      },
      "execution_count": null,
      "outputs": []
    },
    {
      "cell_type": "code",
      "source": [
        "# reversed() 활용하기 ''.join()\n",
        "a, b = input().split()\n",
        "print(max(\"\".join(reversed(a)), \"\".join(reversed(b))))"
      ],
      "metadata": {
        "id": "k5uA3C4g5dhd"
      },
      "execution_count": null,
      "outputs": []
    },
    {
      "cell_type": "code",
      "source": [
        "# for 문을 활용하기 (역순으로)\n",
        "s1, s2 = input().split()\n",
        "s3, s4 = \"\", \"\"\n",
        "\n",
        "for i in range(len(s1) - 1, -1, -1): #마지막 문자부터 역순으로 인덱스 돌가\n",
        "    s3 += s1[i] #마지막 문자부터 새로운 문자열에 대입\n",
        "    s4 += s2[i] #마지막 문자부터 새로운 문자열에 대입\n",
        "\n",
        "print(max(s3, s4))"
      ],
      "metadata": {
        "id": "n6kygciO5-Z1"
      },
      "execution_count": null,
      "outputs": []
    },
    {
      "cell_type": "markdown",
      "source": [
        "#### 🔍 참고사이트\n",
        "- [문자열 뒤집기, 문자열 거꾸로 출력](https://codechacha.com/ko/python-reverse-string/)\n",
        "- [2908 문제 풀이 1](https://pacific-ocean.tistory.com/42)\n",
        "- [2908 문제 풀이 2](https://velog.io/@likemika/python-%EB%B0%B1%EC%A4%80-2908%EB%B2%88-%EC%83%81%EC%88%98)\n",
        "- [2908 문제 풀이 3](https://ji-gwang.tistory.com/203)"
      ],
      "metadata": {
        "id": "X6qeTCkjVpLJ"
      }
    }
  ]
}