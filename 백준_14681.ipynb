{
  "nbformat": 4,
  "nbformat_minor": 0,
  "metadata": {
    "colab": {
      "name": "백준 14681.ipynb",
      "provenance": [],
      "collapsed_sections": [],
      "authorship_tag": "ABX9TyPOnKgi/HBaih0WjV0ZxQVl",
      "include_colab_link": true
    },
    "kernelspec": {
      "name": "python3",
      "display_name": "Python 3"
    },
    "language_info": {
      "name": "python"
    }
  },
  "cells": [
    {
      "cell_type": "markdown",
      "metadata": {
        "id": "view-in-github",
        "colab_type": "text"
      },
      "source": [
        "<a href=\"https://colab.research.google.com/github/bluehy/Algorithm/blob/main/%EB%B0%B1%EC%A4%80_14681.ipynb\" target=\"_parent\"><img src=\"https://colab.research.google.com/assets/colab-badge.svg\" alt=\"Open In Colab\"/></a>"
      ]
    },
    {
      "cell_type": "code",
      "execution_count": null,
      "metadata": {
        "id": "Bj7agFx6Ku_R"
      },
      "outputs": [],
      "source": [
        "# 알고리즘 스터디\n",
        "2022.08.16\n",
        "\n",
        "#### 📌백준 14681 파이썬"
      ]
    },
    {
      "cell_type": "markdown",
      "source": [
        "흔한 수학 문제 중 하나는 주어진 점이 어느 사분면에 속하는지 알아내는 것이다. 사분면은 아래 그림처럼 1부터 4까지 번호를 갖는다. \"Quadrant n\"은 \"제n사분면\"이라는 뜻이다.\n",
        "![사분면](https://onlinejudgeimages.s3-ap-northeast-1.amazonaws.com/problem/14681/1.png)\n",
        "\n",
        "\n",
        "예를 들어, 좌표가 (12, 5)인 점 A는 x좌표와 y좌표가 모두 양수이므로 제1사분면에 속한다. 점 B는 x좌표가 음수이고 y좌표가 양수이므로 제2사분면에 속한다.\n",
        "\n",
        "점의 좌표를 입력받아 그 점이 어느 사분면에 속하는지 알아내는 프로그램을 작성하시오. 단, x좌표와 y좌표는 모두 양수나 음수라고 가정한다."
      ],
      "metadata": {
        "id": "MhFZFi4JK_no"
      }
    },
    {
      "cell_type": "markdown",
      "source": [
        "#### <입력>\n",
        "첫 줄에는 정수 x가 주어진다. (−1000 ≤ x ≤ 1000; x ≠ 0) 다음 줄에는 정수 y가 주어진다. (−1000 ≤ y ≤ 1000; y ≠ 0)\n",
        "```\n",
        "12\n",
        "5\n",
        "```\n",
        "---\n",
        "#### <출력>\n",
        "점 (x, y)의 사분면 번호(1, 2, 3, 4 중 하나)를 출력한다.\n",
        "```\n",
        "1\n",
        "```"
      ],
      "metadata": {
        "id": "BTzfKf0uLH4o"
      }
    },
    {
      "cell_type": "markdown",
      "source": [
        "### 🐣 내 풀이"
      ],
      "metadata": {
        "id": "Vgw6xBtTLUzv"
      }
    },
    {
      "cell_type": "code",
      "source": [
        "# 입력값 변수지정\n",
        "a = int(input())\n",
        "b = int(input())\n",
        "\n",
        "# 사분면 위치 판별\n",
        "if a > 0 and b > 0 :\n",
        "  print(1)\n",
        "elif a > 0 and b < 0 :\n",
        "  print(4)\n",
        "elif a < 0 and b > 0 :\n",
        "  print(2)\n",
        "else :\n",
        "  print(3)"
      ],
      "metadata": {
        "colab": {
          "base_uri": "https://localhost:8080/"
        },
        "id": "21P4vptPLaJ5",
        "outputId": "61d4fa3f-5728-4f33-db59-a185c45d5f8a"
      },
      "execution_count": 9,
      "outputs": [
        {
          "output_type": "stream",
          "name": "stdout",
          "text": [
            "9\n",
            "-13\n",
            "4\n"
          ]
        }
      ]
    },
    {
      "cell_type": "markdown",
      "source": [
        "### 👩‍💻 다른 풀이"
      ],
      "metadata": {
        "id": "2-vWlICsMGYe"
      }
    },
    {
      "cell_type": "code",
      "source": [
        "x = int(input())\n",
        "y = int(input())\n",
        "\n",
        "if x > 0:\n",
        "    if y > 0:\n",
        "        print('1')\n",
        "    else:\n",
        "        print('4')\n",
        "else:\n",
        "    if y > 0:\n",
        "        print('2')\n",
        "    else:\n",
        "        print('3')"
      ],
      "metadata": {
        "id": "D7XiMnSfMJwV"
      },
      "execution_count": null,
      "outputs": []
    },
    {
      "cell_type": "code",
      "source": [
        "#숏코딩\n",
        "print(\"3421\"[(int(input())>0)+(int(input())>0)*2])"
      ],
      "metadata": {
        "colab": {
          "base_uri": "https://localhost:8080/"
        },
        "id": "Jnu0AoBnPqPT",
        "outputId": "0b5cd283-cdf9-4377-bffc-ca7c2c3b0d10"
      },
      "execution_count": 11,
      "outputs": [
        {
          "output_type": "stream",
          "name": "stdout",
          "text": [
            "12\n",
            "-5\n",
            "4\n"
          ]
        }
      ]
    },
    {
      "cell_type": "code",
      "source": [
        "a = -6 > 0\n",
        "b = 12 > 0 \n",
        "print(a)\n",
        "print(b)\n",
        "print(a+b)"
      ],
      "metadata": {
        "colab": {
          "base_uri": "https://localhost:8080/"
        },
        "id": "B71QiITgR6Id",
        "outputId": "1696d99e-d15e-4435-ba3f-e22f642df187"
      },
      "execution_count": 17,
      "outputs": [
        {
          "output_type": "stream",
          "name": "stdout",
          "text": [
            "False\n",
            "True\n",
            "1\n"
          ]
        }
      ]
    },
    {
      "cell_type": "markdown",
      "source": [
        "#### 🔍 참고 사이트\n",
        "- [14681 문제 풀이 1](https://ggachi.tistory.com/91)\n",
        "- [14681 문제 풀이 2](https://jonhyuk0922.tistory.com/21)\n",
        "- [자료형 : boolean형 true와 false, 1과 0](https://kongdols-room.tistory.com/22)"
      ],
      "metadata": {
        "id": "V7dP4MjIMKC-"
      }
    }
  ]
}