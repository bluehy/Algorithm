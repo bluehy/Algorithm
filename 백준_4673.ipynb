{
  "nbformat": 4,
  "nbformat_minor": 0,
  "metadata": {
    "colab": {
      "provenance": [],
      "collapsed_sections": [],
      "authorship_tag": "ABX9TyPaw54EgTsmiRVspjFJJuSM",
      "include_colab_link": true
    },
    "kernelspec": {
      "name": "python3",
      "display_name": "Python 3"
    },
    "language_info": {
      "name": "python"
    }
  },
  "cells": [
    {
      "cell_type": "markdown",
      "metadata": {
        "id": "view-in-github",
        "colab_type": "text"
      },
      "source": [
        "<a href=\"https://colab.research.google.com/github/bluehy/Algorithm/blob/main/%EB%B0%B1%EC%A4%80_4673.ipynb\" target=\"_parent\"><img src=\"https://colab.research.google.com/assets/colab-badge.svg\" alt=\"Open In Colab\"/></a>"
      ]
    },
    {
      "cell_type": "markdown",
      "source": [
        "# 알고리즘\n",
        "2022.11.04\n",
        "\n",
        "#### 📌백준 4673 파이썬"
      ],
      "metadata": {
        "id": "INO7zA_SUvBA"
      }
    },
    {
      "cell_type": "markdown",
      "source": [
        "셀프 넘버는 1949년 인도 수학자 D.R. Kaprekar가 이름 붙였다. 양의 정수 n에 대해서 d(n)을 n과 n의 각 자리수를 더하는 함수라고 정의하자. 예를 들어, d(75) = 75+7+5 = 87이다.\n",
        "\n",
        "양의 정수 n이 주어졌을 때, 이 수를 시작해서 n, d(n), d(d(n)), d(d(d(n))), ...과 같은 무한 수열을 만들 수 있다. \n",
        "\n",
        "예를 들어, 33으로 시작한다면 다음 수는 33 + 3 + 3 = 39이고, 그 다음 수는 39 + 3 + 9 = 51, 다음 수는 51 + 5 + 1 = 57이다. 이런식으로 다음과 같은 수열을 만들 수 있다.\n",
        "\n",
        "33, 39, 51, 57, 69, 84, 96, 111, 114, 120, 123, 129, 141, ...\n",
        "\n",
        "n을 d(n)의 생성자라고 한다. 위의 수열에서 33은 39의 생성자이고, 39는 51의 생성자, 51은 57의 생성자이다. 생성자가 한 개보다 많은 경우도 있다. 예를 들어, 101은 생성자가 2개(91과 100) 있다. \n",
        "\n",
        "생성자가 없는 숫자를 셀프 넘버라고 한다. 100보다 작은 셀프 넘버는 총 13개가 있다. 1, 3, 5, 7, 9, 20, 31, 42, 53, 64, 75, 86, 97\n",
        "\n",
        "10000보다 작거나 같은 셀프 넘버를 한 줄에 하나씩 출력하는 프로그램을 작성하시오."
      ],
      "metadata": {
        "id": "GvZ-nUtMU2Gi"
      }
    },
    {
      "cell_type": "markdown",
      "source": [
        "#### <입력>\n",
        "입력은 없다.\n",
        "```\n",
        "\n",
        "```\n",
        "\n",
        "---\n",
        "#### <출력>\n",
        "10,000보다 작거나 같은 셀프 넘버를 한 줄에 하나씩 증가하는 순서로 출력한다.\n",
        "```\n",
        "1\n",
        "3\n",
        "5\n",
        "7\n",
        "9\n",
        "20\n",
        "31\n",
        "42\n",
        "53\n",
        "64\n",
        " |\n",
        " |       <-- a lot more numbers\n",
        " |\n",
        "9903\n",
        "9914\n",
        "9925\n",
        "9927\n",
        "9938\n",
        "9949\n",
        "9960\n",
        "9971\n",
        "9982\n",
        "9993\n",
        "```"
      ],
      "metadata": {
        "id": "jey61NaqVTW5"
      }
    },
    {
      "cell_type": "markdown",
      "source": [
        "### 🐣 내 풀이"
      ],
      "metadata": {
        "id": "UNXlkzWYViOp"
      }
    },
    {
      "cell_type": "code",
      "execution_count": null,
      "metadata": {
        "id": "Pw9pOQuiUuTO"
      },
      "outputs": [],
      "source": [
        "numbers = set(range(1,10001))\n",
        "dNumbers = set()\n",
        "\n",
        "for i in numbers:\n",
        "  for j in str(i):\n",
        "    i += int(j)\n",
        "  dNumbers.add(i)\n",
        "\n",
        "# 집합 자료형의 차집합 구하기 활용 (difference 함수를 사용해도 차집합을 구할 수 있다.)\n",
        "selfNumbers = sorted(numbers - dNumbers)\n",
        "\n",
        "for i in selfNumbers:\n",
        "  print(i)"
      ]
    },
    {
      "cell_type": "markdown",
      "source": [
        "### 👩‍💻 다른 풀이"
      ],
      "metadata": {
        "id": "l4tdzTXjVley"
      }
    },
    {
      "cell_type": "code",
      "source": [
        "number_set = set(range(1, 10001))\n",
        "dnumber_set= set()\n",
        "\n",
        "for i in range(1, 10001):\n",
        "    for j in str(i):\n",
        "        i += int(j)\n",
        "    dnumber_set.add(i)\n",
        "\n",
        "self_number_set = number_set - dnumber_set\n",
        "\n",
        "for i in sorted(self_number_set):\n",
        "    print(i)"
      ],
      "metadata": {
        "id": "kd12OEibVo17"
      },
      "execution_count": null,
      "outputs": []
    },
    {
      "cell_type": "code",
      "source": [
        "# 함수 d(n)\n",
        "def d(n):\n",
        "  # 생성자 n을 이용해 d(n)을 만드는 수식\n",
        "  n = n + sum(map(int,str(n)))\n",
        "  return n\n",
        "\n",
        "# 셀프 넘버가 아닌 수들(생성자가 있는 수들)이 들어갈 집합\n",
        "nonSelfNum = set()\n",
        "\n",
        "# nonSelfNum 집합에 들어갈 수를 찾아 넣기\n",
        "for i in range(1,10001):\n",
        "  nonSelfNum.add(d(i))\n",
        "\n",
        "# 셀프 넘버들을 출력하기\n",
        "for i in range(1,10001):\n",
        "  if j not in nonSelfNum:\n",
        "    print(j)"
      ],
      "metadata": {
        "id": "UUZIre1VBONb"
      },
      "execution_count": null,
      "outputs": []
    },
    {
      "cell_type": "code",
      "source": [
        "numbers = list(range(1, 10_001))\n",
        "remove_list = []  # 이후에 삭제할 숫자 list\n",
        "for num in numbers :\n",
        "    for n in str(num):\n",
        "        num += int(n)  # 생성자가 있는 숫자\n",
        "    if num <= 10000:  # 10,000보다 작거나 같을 때만,\n",
        "        remove_list.append(num)  # append: 리스트에 요소를 추가할 때\n",
        "\n",
        "for remove_num in set(remove_list) :  # set 으로 중복값 제거\n",
        "    numbers.remove(remove_num)\n",
        "for self_num in numbers :  # 생성자가 있는 숫자를 삭제한 리스트\n",
        "    print(self_num)"
      ],
      "metadata": {
        "id": "CDKSa0TCB9ft"
      },
      "execution_count": null,
      "outputs": []
    },
    {
      "cell_type": "markdown",
      "source": [
        "#### 🔍 참고사이트\n",
        "- [집합 자료형 set](https://wikidocs.net/1015)\n",
        "  - 중복을 허용하지 않는 set의 특징은 자료형의 중복을 제거하기 위한 필터 역할로 종종 사용하기도 한다.\n",
        "- [파이썬 문자열 객체_str](https://wikidocs.net/32#str)\n",
        "- [파이썬 정렬_sorted](https://wikidocs.net/32#sorted)\n",
        "- [4673 문제 풀이 1](https://noodle-dev.tistory.com/77)\n",
        "- [4673 문제 풀이 2](https://wook-2124.tistory.com/252)\n",
        "- [4673 문제 풀이 3](https://kbwplace.tistory.com/69)\n",
        "- [4673 문제 풀이 4](https://ooyoung.tistory.com/64)"
      ],
      "metadata": {
        "id": "X6qeTCkjVpLJ"
      }
    }
  ]
}