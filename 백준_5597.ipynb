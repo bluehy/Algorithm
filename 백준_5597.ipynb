{
  "nbformat": 4,
  "nbformat_minor": 0,
  "metadata": {
    "colab": {
      "provenance": [],
      "collapsed_sections": [],
      "authorship_tag": "ABX9TyObtw4hIa1ZEl0swlQjb7jX",
      "include_colab_link": true
    },
    "kernelspec": {
      "name": "python3",
      "display_name": "Python 3"
    },
    "language_info": {
      "name": "python"
    }
  },
  "cells": [
    {
      "cell_type": "markdown",
      "metadata": {
        "id": "view-in-github",
        "colab_type": "text"
      },
      "source": [
        "<a href=\"https://colab.research.google.com/github/bluehy/Algorithm/blob/main/%EB%B0%B1%EC%A4%80_5597.ipynb\" target=\"_parent\"><img src=\"https://colab.research.google.com/assets/colab-badge.svg\" alt=\"Open In Colab\"/></a>"
      ]
    },
    {
      "cell_type": "markdown",
      "source": [
        "# 알고리즘\n",
        "2022.10.27\n",
        "\n",
        "#### 📌백준 5597 파이썬"
      ],
      "metadata": {
        "id": "INO7zA_SUvBA"
      }
    },
    {
      "cell_type": "markdown",
      "source": [
        "X대학 M교수님은 프로그래밍 수업을 맡고 있다. 교실엔 학생이 30명이 있는데, 학생 명부엔 각 학생별로 1번부터 30번까지 출석번호가 붙어 있다.\n",
        "\n",
        "교수님이 내준 특별과제를 28명이 제출했는데, 그 중에서 제출 안 한 학생 2명의 출석번호를 구하는 프로그램을 작성하시오."
      ],
      "metadata": {
        "id": "GvZ-nUtMU2Gi"
      }
    },
    {
      "cell_type": "markdown",
      "source": [
        "#### <입력>\n",
        "입력은 총 28줄로 각 제출자(학생)의 출석번호 n(1 ≤ n ≤ 30)가 한 줄에 하나씩 주어진다. 출석번호에 중복은 없다.\n",
        "```\n",
        "3\n",
        "1\n",
        "4\n",
        "5\n",
        "7\n",
        "9\n",
        "6\n",
        "10\n",
        "11\n",
        "12\n",
        "13\n",
        "14\n",
        "15\n",
        "16\n",
        "17\n",
        "18\n",
        "19\n",
        "20\n",
        "21\n",
        "22\n",
        "23\n",
        "24\n",
        "25\n",
        "26\n",
        "27\n",
        "28\n",
        "29\n",
        "30\n",
        "```\n",
        "\n",
        "---\n",
        "#### <출력>\n",
        "출력은 2줄이다. 1번째 줄엔 제출하지 않은 학생의 출석번호 중 가장 작은 것을 출력하고, 2번째 줄에선 그 다음 출석번호를 출력한다.\n",
        "\n",
        "```\n",
        "2\n",
        "8\n",
        "```"
      ],
      "metadata": {
        "id": "jey61NaqVTW5"
      }
    },
    {
      "cell_type": "markdown",
      "source": [
        "### 🐣 내 풀이"
      ],
      "metadata": {
        "id": "UNXlkzWYViOp"
      }
    },
    {
      "cell_type": "code",
      "execution_count": null,
      "metadata": {
        "id": "Pw9pOQuiUuTO"
      },
      "outputs": [],
      "source": [
        "students = []\n",
        "for i in range(1,31):\n",
        "  students.append(i)\n",
        "\n",
        "for i in range(28):\n",
        "  students.remove(int(input()))\n",
        "\n",
        "print(students[0])\n",
        "print(students[1])"
      ]
    },
    {
      "cell_type": "markdown",
      "source": [
        "### 👩‍💻 다른 풀이"
      ],
      "metadata": {
        "id": "l4tdzTXjVley"
      }
    },
    {
      "cell_type": "code",
      "source": [
        "students = [i for i in range(1,31)]\n",
        "\n",
        "for _ in range(28):\n",
        "    applied = int(input())\n",
        "    students.remove(applied) #소거\n",
        "\n",
        "print(min(students))\n",
        "print(max(students))"
      ],
      "metadata": {
        "id": "kd12OEibVo17"
      },
      "execution_count": null,
      "outputs": []
    },
    {
      "cell_type": "code",
      "source": [
        "s = [i for i in range(1,31)]\n",
        "for _ in range(28):\n",
        "    s.remove(int(input()))\n",
        "print(*s,sep=\"\\n\")"
      ],
      "metadata": {
        "id": "Zuar3Jhwx1ZT"
      },
      "execution_count": null,
      "outputs": []
    },
    {
      "cell_type": "code",
      "source": [
        "# 1부터 30까지의 리스트를 생성 \n",
        "num = [i for i in range(1, 31)]\n",
        "\n",
        "# 입력받은 숫자를 리스트에서 제거\n",
        "for _ in range(28):\n",
        "    data = int(input())\n",
        "    num.remove(data)\n",
        "print(min(num))\n",
        "print(max(num))"
      ],
      "metadata": {
        "id": "7V4HfWMaym8x"
      },
      "execution_count": null,
      "outputs": []
    },
    {
      "cell_type": "code",
      "source": [
        "# 1. student 리스트를 선언하여 인덱스 0 ~ 29 번 값을 False 로 초기화 해줍니다.\n",
        "student = [False for i in range(30)]\n",
        "# 파이썬에서 리스트를 특정 값으로 초기화 하는 방법입니다.\n",
        "# student = [False] * 30\n",
        "\n",
        "for i in range(28):\n",
        "    number = int(input())\n",
        "    # 입력 받은 출석번호 - 1 에 해당하는 인덱스의 값을 True 로 선언해줍니다. \n",
        "    # (ex. 3번이 제출한 경우, student[2] = 3이므로)\n",
        "    student[number-1] = True\n",
        "\n",
        "for i in range(30):\n",
        "  # 값이 True 가 아닌 경우 해당 인덱스 + 1 ( i + 1 )를 출력합니다.\n",
        "    if not student[i]:\n",
        "        print(i+1)"
      ],
      "metadata": {
        "id": "YBhDNKVUy2vb"
      },
      "execution_count": null,
      "outputs": []
    },
    {
      "cell_type": "code",
      "source": [
        "data = [0] * 31\n",
        "\n",
        "# 반복문을 통해 28개의 출석번호를 입력받아 data리스트의 해당 출석번호 인덱스의 '값'을 1로 갱신한다.\n",
        "for i in range(28) :\n",
        "  n = int(input())\n",
        "  data[n] = 1\n",
        "\n",
        "# 반복문을 통해 data 리스트 내에 존재하는 값들을 하나씩 확인하여 해당 값이 0일 경우 '인덱스'를 출력한다.\n",
        "for i in range(1, 31) :\n",
        "  if data[i] == 0 :\n",
        "    print(i)"
      ],
      "metadata": {
        "id": "mn4yVY2Yz_BJ"
      },
      "execution_count": null,
      "outputs": []
    },
    {
      "cell_type": "markdown",
      "source": [
        "#### 🔍 참고사이트\n",
        "- [리스트(list) vs 배열(array)](https://velog.io/@ayoung0073/python-list)\n",
        "- [리스트 자료형](https://wikidocs.net/14)\n",
        "- [5597 문제 풀이 1](https://claude-u.tistory.com/324)\n",
        "- [5597 문제 풀이 2](https://my-coding-notes.tistory.com/265)\n",
        "- [5597 문제 풀이 3](https://devtraxmin.tistory.com/32)\n",
        "- [5597 문제 풀이 4](https://develop247.tistory.com/123)\n",
        "- [5597 문제 풀이 5](https://unie2.tistory.com/582)"
      ],
      "metadata": {
        "id": "X6qeTCkjVpLJ"
      }
    }
  ]
}