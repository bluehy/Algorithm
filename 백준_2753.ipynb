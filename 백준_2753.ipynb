{
  "nbformat": 4,
  "nbformat_minor": 0,
  "metadata": {
    "colab": {
      "name": "백준 2753.ipynb",
      "provenance": [],
      "collapsed_sections": [],
      "authorship_tag": "ABX9TyPGfenjmu3hg+cwomeGO9Gk",
      "include_colab_link": true
    },
    "kernelspec": {
      "name": "python3",
      "display_name": "Python 3"
    },
    "language_info": {
      "name": "python"
    }
  },
  "cells": [
    {
      "cell_type": "markdown",
      "metadata": {
        "id": "view-in-github",
        "colab_type": "text"
      },
      "source": [
        "<a href=\"https://colab.research.google.com/github/bluehy/Algorithm/blob/main/%EB%B0%B1%EC%A4%80_2753.ipynb\" target=\"_parent\"><img src=\"https://colab.research.google.com/assets/colab-badge.svg\" alt=\"Open In Colab\"/></a>"
      ]
    },
    {
      "cell_type": "markdown",
      "source": [
        "# 알고리즘\n",
        "2022.08.25\n",
        "\n",
        "#### 📌백준 2753 파이썬"
      ],
      "metadata": {
        "id": "cx6DW12KVj0S"
      }
    },
    {
      "cell_type": "markdown",
      "source": [
        "연도가 주어졌을 때, 윤년이면 1, 아니면 0을 출력하는 프로그램을 작성하시오.\n",
        "\n",
        "윤년은 연도가 4의 배수이면서, 100의 배수가 아닐 때 또는 400의 배수일 때이다.\n",
        "\n",
        "예를 들어, 2012년은 4의 배수이면서 100의 배수가 아니라서 윤년이다. 1900년은 100의 배수이고 400의 배수는 아니기 때문에 윤년이 아니다. 하지만, 2000년은 400의 배수이기 때문에 윤년이다."
      ],
      "metadata": {
        "id": "yMAdiG_MVw4A"
      }
    },
    {
      "cell_type": "markdown",
      "source": [
        "#### <입력>\n",
        "첫째 줄에 연도가 주어진다. 연도는 1보다 크거나 같고, 4000보다 작거나 같은 자연수이다.\n",
        "```\n",
        "2000\n",
        "```\n",
        "---\n",
        "#### <출력>\n",
        "첫째 줄에 윤년이면 1, 아니면 0을 출력한다.\n",
        "```\n",
        "1\n",
        "```"
      ],
      "metadata": {
        "id": "UOWo3yLGVyxq"
      }
    },
    {
      "cell_type": "markdown",
      "source": [
        "### 🐣 내 풀이"
      ],
      "metadata": {
        "id": "J3COwQ8vV_eB"
      }
    },
    {
      "cell_type": "code",
      "execution_count": 10,
      "metadata": {
        "colab": {
          "base_uri": "https://localhost:8080/"
        },
        "id": "g-qxP79-Vbwy",
        "outputId": "7e845d93-cbce-4d30-9f65-0e485e4b9812"
      },
      "outputs": [
        {
          "output_type": "stream",
          "name": "stdout",
          "text": [
            "2000\n",
            "1\n"
          ]
        }
      ],
      "source": [
        "# input 받아오기\n",
        "year = int(input())\n",
        "\n",
        "# 나머지 구하기 (배수판별용)\n",
        "a = year % 4\n",
        "b = year % 100\n",
        "c = year % 400\n",
        "\n",
        "# 4의 배수 판별\n",
        "if a == 0 :\n",
        "  # 100의 배수가 아니거나, 400의 배수인지 판별\n",
        "  if b != 0 or c == 0 :\n",
        "    print(1)\n",
        "  else:\n",
        "    print(0)\n",
        "else :\n",
        "  print(0)"
      ]
    },
    {
      "cell_type": "markdown",
      "source": [
        "### 👩‍💻 다른 풀이"
      ],
      "metadata": {
        "id": "dYJJhwd3V8j4"
      }
    },
    {
      "cell_type": "code",
      "source": [
        "a = int(input())\n",
        "if (a % 4 == 0 and a % 100 != 0) or a % 400 == 0:\n",
        "    print(1)\n",
        "else:\n",
        "    print(0)"
      ],
      "metadata": {
        "id": "0bSY944sWIpK"
      },
      "execution_count": null,
      "outputs": []
    },
    {
      "cell_type": "code",
      "source": [
        "#삼항연산자\n",
        "year = int(input())\n",
        "\n",
        "print('1') if ((year%4 == 0)and(year%100 != 0)) or (year%400 == 0) else print('0')"
      ],
      "metadata": {
        "colab": {
          "base_uri": "https://localhost:8080/"
        },
        "id": "f4yQW1yjaSXv",
        "outputId": "f0d4c771-6145-45d5-e69c-f2580b6d8279"
      },
      "execution_count": 12,
      "outputs": [
        {
          "output_type": "stream",
          "name": "stdout",
          "text": [
            "2000\n",
            "1\n"
          ]
        }
      ]
    },
    {
      "cell_type": "markdown",
      "source": [],
      "metadata": {
        "id": "KtKIqnC6aRov"
      }
    },
    {
      "cell_type": "markdown",
      "source": [
        "#### 🔍 참고사이트\n",
        "- [파이썬_비교연산자](https://wikidocs.net/1159)\n",
        "- [파이썬_산술연산자](https://wikidocs.net/1153)\n",
        "- [파이썬_논리연산자](https://wikidocs.net/96000)\n",
        "- [2753 문제 풀이1](https://pacific-ocean.tistory.com/72)\n",
        "- [2753 문제 풀이2](https://ooyoung.tistory.com/26)"
      ],
      "metadata": {
        "id": "zO1QCtuTWEzo"
      }
    }
  ]
}