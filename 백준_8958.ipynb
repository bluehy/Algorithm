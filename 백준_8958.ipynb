{
  "nbformat": 4,
  "nbformat_minor": 0,
  "metadata": {
    "colab": {
      "provenance": [],
      "collapsed_sections": [],
      "authorship_tag": "ABX9TyMAilUJZH1CH6gCaN+Ke+KW",
      "include_colab_link": true
    },
    "kernelspec": {
      "name": "python3",
      "display_name": "Python 3"
    },
    "language_info": {
      "name": "python"
    }
  },
  "cells": [
    {
      "cell_type": "markdown",
      "metadata": {
        "id": "view-in-github",
        "colab_type": "text"
      },
      "source": [
        "<a href=\"https://colab.research.google.com/github/bluehy/Algorithm/blob/main/%EB%B0%B1%EC%A4%80_8958.ipynb\" target=\"_parent\"><img src=\"https://colab.research.google.com/assets/colab-badge.svg\" alt=\"Open In Colab\"/></a>"
      ]
    },
    {
      "cell_type": "markdown",
      "source": [
        "# 알고리즘\n",
        "2022.10.12\n",
        "\n",
        "#### 📌백준 8958 파이썬"
      ],
      "metadata": {
        "id": "INO7zA_SUvBA"
      }
    },
    {
      "cell_type": "markdown",
      "source": [
        "\"OOXXOXXOOO\"와 같은 OX퀴즈의 결과가 있다. O는 문제를 맞은 것이고, X는 문제를 틀린 것이다. 문제를 맞은 경우 그 문제의 점수는 그 문제까지 연속된 O의 개수가 된다. 예를 들어, 10번 문제의 점수는 3이 된다.\n",
        "\n",
        "\"OOXXOXXOOO\"의 점수는 1+2+0+0+1+0+0+1+2+3 = 10점이다.\n",
        "\n",
        "OX퀴즈의 결과가 주어졌을 때, 점수를 구하는 프로그램을 작성하시오."
      ],
      "metadata": {
        "id": "GvZ-nUtMU2Gi"
      }
    },
    {
      "cell_type": "markdown",
      "source": [
        "#### <입력>\n",
        "첫째 줄에 테스트 케이스의 개수가 주어진다. 각 테스트 케이스는 한 줄로 이루어져 있고, 길이가 0보다 크고 80보다 작은 문자열이 주어진다. 문자열은 O와 X만으로 이루어져 있다.\n",
        "```\n",
        "OOXXOXXOOO\n",
        "OOXXOOXXOO\n",
        "OXOXOXOXOXOXOX\n",
        "OOOOOOOOOO\n",
        "OOOOXOOOOXOOOOX\n",
        "```\n",
        "\n",
        "---\n",
        "#### <출력>\n",
        "각 테스트 케이스마다 점수를 출력한다.\n",
        "```\n",
        "10\n",
        "9\n",
        "7\n",
        "55\n",
        "30\n",
        "```"
      ],
      "metadata": {
        "id": "jey61NaqVTW5"
      }
    },
    {
      "cell_type": "markdown",
      "source": [
        "### 🐣 내 풀이"
      ],
      "metadata": {
        "id": "UNXlkzWYViOp"
      }
    },
    {
      "cell_type": "code",
      "execution_count": null,
      "metadata": {
        "id": "Pw9pOQuiUuTO"
      },
      "outputs": [],
      "source": [
        "t = int(input())\n",
        "(다음에 재도전)"
      ]
    },
    {
      "cell_type": "markdown",
      "source": [
        "### 👩‍💻 다른 풀이"
      ],
      "metadata": {
        "id": "l4tdzTXjVley"
      }
    },
    {
      "cell_type": "code",
      "source": [
        "n = int(input())\n",
        "\n",
        "for _ in range(n):\n",
        "    # 새로운 input을 리스트화\n",
        "    ox_list = list(input())\n",
        "    score = 0  \n",
        "    sum_score = 0  # 새로운 ox리스트를 입력 받으면 점수 합계를 리셋한다.\n",
        "    for ox in ox_list:\n",
        "        if ox == 'O':\n",
        "            score += 1  # 'O'가 연속되면 점수가 1점씩 커진다.\n",
        "            sum_score += score  # sum_score = sum_score + score\n",
        "        else:\n",
        "            score = 0\n",
        "    print(sum_score)"
      ],
      "metadata": {
        "id": "kd12OEibVo17"
      },
      "execution_count": null,
      "outputs": []
    },
    {
      "cell_type": "markdown",
      "source": [
        "#### 🔍 참고사이트\n",
        "- [8958 문제 풀이 1](https://ooyoung.tistory.com/61)\n",
        "- []()"
      ],
      "metadata": {
        "id": "X6qeTCkjVpLJ"
      }
    }
  ]
}