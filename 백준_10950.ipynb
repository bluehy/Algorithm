{
  "nbformat": 4,
  "nbformat_minor": 0,
  "metadata": {
    "colab": {
      "provenance": [],
      "collapsed_sections": [],
      "authorship_tag": "ABX9TyPLM+I5XB6V3D6FdubwjM8x",
      "include_colab_link": true
    },
    "kernelspec": {
      "name": "python3",
      "display_name": "Python 3"
    },
    "language_info": {
      "name": "python"
    }
  },
  "cells": [
    {
      "cell_type": "markdown",
      "metadata": {
        "id": "view-in-github",
        "colab_type": "text"
      },
      "source": [
        "<a href=\"https://colab.research.google.com/github/bluehy/Algorithm/blob/main/%EB%B0%B1%EC%A4%80_10950.ipynb\" target=\"_parent\"><img src=\"https://colab.research.google.com/assets/colab-badge.svg\" alt=\"Open In Colab\"/></a>"
      ]
    },
    {
      "cell_type": "markdown",
      "source": [
        "# 알고리즘\n",
        "2022.09.13\n",
        "\n",
        "#### 📌백준 10950 파이썬"
      ],
      "metadata": {
        "id": "INO7zA_SUvBA"
      }
    },
    {
      "cell_type": "markdown",
      "source": [
        "두 정수 A와 B를 입력받은 다음, A+B를 출력하는 프로그램을 작성하시오."
      ],
      "metadata": {
        "id": "GvZ-nUtMU2Gi"
      }
    },
    {
      "cell_type": "markdown",
      "source": [
        "#### <입력>\n",
        "첫째 줄에 테스트 케이스의 개수 T가 주어진다.\n",
        "\n",
        "각 테스트 케이스는 한 줄로 이루어져 있으며, 각 줄에 A와 B가 주어진다. (0 < A, B < 10)\n",
        "```\n",
        "5\n",
        "1 1\n",
        "2 3\n",
        "3 4\n",
        "9 8\n",
        "5 2\n",
        "```\n",
        "\n",
        "---\n",
        "#### <출력>\n",
        "각 테스트 케이스마다 A+B를 출력한다.\n",
        "```\n",
        "2\n",
        "5\n",
        "7\n",
        "17\n",
        "7\n",
        "```"
      ],
      "metadata": {
        "id": "jey61NaqVTW5"
      }
    },
    {
      "cell_type": "markdown",
      "source": [
        "### 🐣 내 풀이"
      ],
      "metadata": {
        "id": "UNXlkzWYViOp"
      }
    },
    {
      "cell_type": "code",
      "execution_count": null,
      "metadata": {
        "id": "Pw9pOQuiUuTO",
        "colab": {
          "base_uri": "https://localhost:8080/"
        },
        "outputId": "bbed0d2e-174b-4d4f-bae8-345d7f367a89"
      },
      "outputs": [
        {
          "output_type": "stream",
          "name": "stdout",
          "text": [
            "5\n",
            "1 1\n",
            "2\n",
            "2 3\n",
            "5\n",
            "3 4\n",
            "7\n",
            "9 8\n",
            "17\n",
            "5 2\n",
            "7\n"
          ]
        }
      ],
      "source": [
        "case = int(input())\n",
        "\n",
        "for i in range(case):\n",
        "  a, b = map(int,input().split())\n",
        "  print(a + b)"
      ]
    },
    {
      "cell_type": "markdown",
      "source": [
        "### 👩‍💻 다른 풀이"
      ],
      "metadata": {
        "id": "l4tdzTXjVley"
      }
    },
    {
      "cell_type": "code",
      "source": [
        "T = int(input())\n",
        "\n",
        "for i in range(1, T+1):\n",
        "  A,B = map(int, input().split())\n",
        "  print(A + B)"
      ],
      "metadata": {
        "id": "kd12OEibVo17"
      },
      "execution_count": null,
      "outputs": []
    },
    {
      "cell_type": "code",
      "source": [
        "# 답안은 맞지만, 의도에는 맞지 않는 케이스\n",
        "T = int(input())\n",
        "t = 0\n",
        "while T > t :\n",
        "  t += 1\n",
        "  A, B = map(int, input().split())\n",
        "  print(A + B)"
      ],
      "metadata": {
        "id": "cGQ4hITARHxf"
      },
      "execution_count": null,
      "outputs": []
    },
    {
      "cell_type": "code",
      "source": [
        "# 위의 버전에서 발생하는 오류를 보완하는 코드\n",
        "T = int(input())\n",
        "def x():\n",
        "  t = 0\n",
        "  while T > t :\n",
        "    A,B = map(int, input().split())\n",
        "    print(A + B)\n",
        "    t += 1\n",
        "\n",
        "# 오류를 잡아내었을 때, 다시 원래의 식으로 돌아가기 위한 장치.\n",
        "  while 1:\n",
        "    try:\n",
        "      x()\n",
        "      break\n",
        "    # 어떤 오류든 발생하면 해당 구문을 실행하게 된다.\n",
        "    except:\n",
        "      print(\"프로세스를 다시 시작합니다.\")\n",
        "    continue"
      ],
      "metadata": {
        "id": "JR4IKbKsRh__"
      },
      "execution_count": null,
      "outputs": []
    },
    {
      "cell_type": "code",
      "source": [
        "# 인덱싱을 활용해 푸는 방식\n",
        "T = int(input())\n",
        "for i in range(T):\n",
        "  N = input()\n",
        "  S = N.split()\n",
        "  \n",
        "  # S의 인덱싱 활용\n",
        "  A = int(S[0])\n",
        "  B = int(S[1])\n",
        "  print(A + B)"
      ],
      "metadata": {
        "id": "V68uuiRrSS__"
      },
      "execution_count": null,
      "outputs": []
    },
    {
      "cell_type": "markdown",
      "source": [
        "#### 🔍 참고사이트\n",
        "- [10950 문제 풀이 1](https://ccamppak.tistory.com/176)\n",
        "- [10950 문제 풀이 2](https://lavenderje.tistory.com/33)"
      ],
      "metadata": {
        "id": "X6qeTCkjVpLJ"
      }
    }
  ]
}