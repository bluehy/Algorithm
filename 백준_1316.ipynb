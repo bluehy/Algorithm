{
  "nbformat": 4,
  "nbformat_minor": 0,
  "metadata": {
    "colab": {
      "provenance": [],
      "authorship_tag": "ABX9TyMtFojXSkJdeI4J+1hBDhy4",
      "include_colab_link": true
    },
    "kernelspec": {
      "name": "python3",
      "display_name": "Python 3"
    },
    "language_info": {
      "name": "python"
    }
  },
  "cells": [
    {
      "cell_type": "markdown",
      "metadata": {
        "id": "view-in-github",
        "colab_type": "text"
      },
      "source": [
        "<a href=\"https://colab.research.google.com/github/bluehy/Algorithm/blob/main/%EB%B0%B1%EC%A4%80_1316.ipynb\" target=\"_parent\"><img src=\"https://colab.research.google.com/assets/colab-badge.svg\" alt=\"Open In Colab\"/></a>"
      ]
    },
    {
      "cell_type": "markdown",
      "source": [
        "# 알고리즘\n",
        "2022.12.13\n",
        "\n",
        "#### 📌백준 1316 파이썬"
      ],
      "metadata": {
        "id": "INO7zA_SUvBA"
      }
    },
    {
      "cell_type": "markdown",
      "source": [
        "그룹 단어란 단어에 존재하는 모든 문자에 대해서, 각 문자가 연속해서 나타나는 경우만을 말한다. 예를 들면, ccazzzzbb는 c, a, z, b가 모두 연속해서 나타나고, kin도 k, i, n이 연속해서 나타나기 때문에 그룹 단어이지만, aabbbccb는 b가 떨어져서 나타나기 때문에 그룹 단어가 아니다.\n",
        "\n",
        "단어 N개를 입력으로 받아 그룹 단어의 개수를 출력하는 프로그램을 작성하시오."
      ],
      "metadata": {
        "id": "GvZ-nUtMU2Gi"
      }
    },
    {
      "cell_type": "markdown",
      "source": [
        "#### <입력>\n",
        "첫째 줄에 단어의 개수 N이 들어온다. N은 100보다 작거나 같은 자연수이다. 둘째 줄부터 N개의 줄에 단어가 들어온다. 단어는 알파벳 소문자로만 되어있고 중복되지 않으며, 길이는 최대 100이다.\n",
        "```\n",
        "3\n",
        "happy\n",
        "new\n",
        "year\n",
        "```\n",
        "\n",
        "---\n",
        "#### <출력>\n",
        "첫째 줄에 그룹 단어의 개수를 출력한다.\n",
        "```\n",
        "3\n",
        "```"
      ],
      "metadata": {
        "id": "jey61NaqVTW5"
      }
    },
    {
      "cell_type": "markdown",
      "source": [
        "### 🐣 내 풀이"
      ],
      "metadata": {
        "id": "UNXlkzWYViOp"
      }
    },
    {
      "cell_type": "code",
      "execution_count": 10,
      "metadata": {
        "id": "Pw9pOQuiUuTO",
        "colab": {
          "base_uri": "https://localhost:8080/"
        },
        "outputId": "c4acec49-1b41-48e2-bf41-ddf17f415067"
      },
      "outputs": [
        {
          "output_type": "stream",
          "name": "stdout",
          "text": [
            "5\n",
            "ab\n",
            "aa\n",
            "aca\n",
            "ba\n",
            "bb\n",
            "4\n"
          ]
        }
      ],
      "source": [
        "N = int(input())\n",
        "total = 0\n",
        "for i in range(N):\n",
        "  word = input()\n",
        "  dic = []\n",
        "  ori = []\n",
        "  for i in word:\n",
        "    # 단어 내 중복을 제거한 리스트\n",
        "    if i not in dic:\n",
        "      dic.append(i)\n",
        "    # 문자를 추가\n",
        "    ori.append(i)\n",
        "    # 현재 추가된 문자가 2개 이상이면 시행\n",
        "    if len(ori) != 1:\n",
        "      # 앞서 추가됐던 문자와 현재 문자가 겹치면 제거한다.(연속된 문자일 경우)\n",
        "      if ori[-2] == i:\n",
        "        ori.remove(i)\n",
        "  # 포함된 단어의 모음(중복제거)와 단어의 그룹이 일치하면, 그룹단어가 된다. 이 경우 total에 갯수 추가.\n",
        "  if dic == ori :\n",
        "    total += 1\n",
        "print(total)"
      ]
    },
    {
      "cell_type": "markdown",
      "source": [
        "### 👩‍💻 다른 풀이"
      ],
      "metadata": {
        "id": "l4tdzTXjVley"
      }
    },
    {
      "cell_type": "code",
      "source": [
        "n = int(input())\n",
        "\n",
        "group_word = 0\n",
        "for _ in range(n):\n",
        "    word = input()\n",
        "    error = 0\n",
        "    for index in range(len(word)-1):  # 인덱스 범위 생성 : 0부터 단어개수 -1까지  ex) happy면 0~4\n",
        "        if word[index] != word[index+1]:  # 연달은 두 문자가 다를 때,   ex) h, a\n",
        "            new_word = word[index+1:]  # 현재글자 이후 문자열을 새로운 단어로 생성   ex) new_word = \"ppy\"\n",
        "            if new_word.count(word[index]) > 0:  # 남은 문자열에서 현재글자가 있있다면  ex) if new_word.count(\"h\") > 0\n",
        "                error += 1  # error에 1씩 증가.  ex) false이므로 시행안됨. error = 0\n",
        "    if error == 0:  \n",
        "        group_word += 1  # error가 0이면 그룹단어 +=1\n",
        "print(group_word)"
      ],
      "metadata": {
        "id": "kd12OEibVo17"
      },
      "execution_count": null,
      "outputs": []
    },
    {
      "cell_type": "code",
      "source": [],
      "metadata": {
        "id": "Sx4raWnY_F1D"
      },
      "execution_count": null,
      "outputs": []
    },
    {
      "cell_type": "markdown",
      "source": [
        "#### 🔍 참고사이트\n",
        "- [기존 리스트의 순서를 유지하고 중복을 제거하는 방법](https://jsikim1.tistory.com/214)\n",
        "- [1316 문제 풀이 1](https://ooyoung.tistory.com/79)\n",
        "- []()"
      ],
      "metadata": {
        "id": "X6qeTCkjVpLJ"
      }
    }
  ]
}