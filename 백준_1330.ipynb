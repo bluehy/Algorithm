{
  "nbformat": 4,
  "nbformat_minor": 0,
  "metadata": {
    "colab": {
      "name": "백준 1330.ipynb",
      "provenance": [],
      "collapsed_sections": [],
      "authorship_tag": "ABX9TyN1h45QAcMx+j1lcp5m+Ex6",
      "include_colab_link": true
    },
    "kernelspec": {
      "name": "python3",
      "display_name": "Python 3"
    },
    "language_info": {
      "name": "python"
    }
  },
  "cells": [
    {
      "cell_type": "markdown",
      "metadata": {
        "id": "view-in-github",
        "colab_type": "text"
      },
      "source": [
        "<a href=\"https://colab.research.google.com/github/bluehy/Algorithm/blob/main/%EB%B0%B1%EC%A4%80_1330.ipynb\" target=\"_parent\"><img src=\"https://colab.research.google.com/assets/colab-badge.svg\" alt=\"Open In Colab\"/></a>"
      ]
    },
    {
      "cell_type": "markdown",
      "source": [
        "# 알고리즘\n",
        "2022.08.17\n",
        "\n",
        "#### 📌백준 1330 파이썬"
      ],
      "metadata": {
        "id": "oE_krxkBJ9av"
      }
    },
    {
      "cell_type": "markdown",
      "source": [
        "두 정수 A와 B가 주어졌을 때, A와 B를 비교하는 프로그램을 작성하시오."
      ],
      "metadata": {
        "id": "UQSfR0DFJ-gO"
      }
    },
    {
      "cell_type": "markdown",
      "source": [
        "#### <입력>\n",
        "\n",
        "첫째 줄에 A와 B가 주어진다. A와 B는 공백 한 칸으로 구분되어져 있다.\n",
        "\n",
        "---\n",
        "\n",
        "#### <출력>\n",
        "첫째 줄에 다음 세 가지 중 하나를 출력한다.\n",
        "\n",
        "- A가 B보다 큰 경우에는 '>'를 출력한다.\n",
        "- A가 B보다 작은 경우에는 '<'를 출력한다.\n",
        "- A와 B가 같은 경우에는 '=='를 출력한다."
      ],
      "metadata": {
        "id": "U_qvQHPdKAbe"
      }
    },
    {
      "cell_type": "markdown",
      "source": [
        "### 🐣내 풀이"
      ],
      "metadata": {
        "id": "RDSNblKpKRhI"
      }
    },
    {
      "cell_type": "code",
      "execution_count": 5,
      "metadata": {
        "colab": {
          "base_uri": "https://localhost:8080/"
        },
        "id": "pnpniNOsJtqi",
        "outputId": "a80855bb-42ac-42e4-8217-cf750e9e34a7"
      },
      "outputs": [
        {
          "output_type": "stream",
          "name": "stdout",
          "text": [
            "5 5\n",
            "==\n"
          ]
        }
      ],
      "source": [
        "# 입력값을 a, b로 받기\n",
        "a, b = map(int,input(\"\").split())\n",
        "\n",
        "# if 조건문 사용(if, elif, else)\n",
        "if a > b :\n",
        "  print(\">\")\n",
        "elif a == b :\n",
        "  print(\"==\")\n",
        "else :\n",
        "  print(\"<\")"
      ]
    },
    {
      "cell_type": "markdown",
      "source": [
        "### 👩‍💻 다른 풀이"
      ],
      "metadata": {
        "id": "Q37vhBAZKWxN"
      }
    },
    {
      "cell_type": "code",
      "source": [
        "# if 조건문 활용\n",
        "A,B = map(int,input().split())\n",
        "\n",
        "if A > B:\n",
        "    print('>')\n",
        "elif A < B:\n",
        "    print('<')\n",
        "else:\n",
        "    print('==')"
      ],
      "metadata": {
        "id": "_eIjKQAJKaNG"
      },
      "execution_count": null,
      "outputs": []
    },
    {
      "cell_type": "code",
      "source": [
        "# 삼항 연산자 활용\n",
        "A,B = map(int,input().split())\n",
        "\n",
        "print('>') if A > B else print('<') if A < B else print('==')"
      ],
      "metadata": {
        "id": "LSsAtaXEMQd3"
      },
      "execution_count": null,
      "outputs": []
    },
    {
      "cell_type": "code",
      "source": [
        "# 연산 후 결과값에 따라 대소비교\n",
        "x, y = map(int, input().split())\n",
        "\n",
        "result = x - y\n",
        "\n",
        "if result > 0:\n",
        "    print('>')\n",
        "\n",
        "elif result < 0:\n",
        "    print('<')\n",
        "\n",
        "else:\n",
        "    print('==')"
      ],
      "metadata": {
        "id": "R7X76Z0hNrjO"
      },
      "execution_count": null,
      "outputs": []
    },
    {
      "cell_type": "code",
      "source": [
        "# 숏코딩\n",
        "x, y = map(int, input().split())\n",
        "\n",
        "# 리스트와 문자열의 인덱스 활용\n",
        "print(['><'[x<y], '=='][x==y])"
      ],
      "metadata": {
        "colab": {
          "base_uri": "https://localhost:8080/"
        },
        "id": "lT2oeaxaOSNt",
        "outputId": "b6350a1c-356c-40cd-dca1-e16432877ebc"
      },
      "execution_count": 7,
      "outputs": [
        {
          "output_type": "stream",
          "name": "stdout",
          "text": [
            "1 2\n",
            "<\n"
          ]
        }
      ]
    },
    {
      "cell_type": "markdown",
      "source": [
        "#### 🔍 참고사이트\n",
        "\n",
        "- [if문](https://wikidocs.net/20)\n",
        "- [1330 문제 풀이 1](https://ooyoung.tistory.com/24)\n",
        "- [1330 문제 풀이 2](https://official-hacademi.tistory.com/entry/21-%EB%B0%B1%EC%A4%80-1330-%EB%91%90-%EC%88%98-%EB%B9%84%EA%B5%90%ED%95%98%EA%B8%B0-%ED%8C%8C%EC%9D%B4%EC%8D%AC)\n",
        "- [문자열에 인덱스로 접근하기](https://dojang.io/mod/page/view.php?id=1332)"
      ],
      "metadata": {
        "id": "2moU7tUvKasd"
      }
    }
  ]
}