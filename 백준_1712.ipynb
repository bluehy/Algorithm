{
  "nbformat": 4,
  "nbformat_minor": 0,
  "metadata": {
    "colab": {
      "provenance": [],
      "authorship_tag": "ABX9TyNhvrOuhG9SAzwH1F3bppvS",
      "include_colab_link": true
    },
    "kernelspec": {
      "name": "python3",
      "display_name": "Python 3"
    },
    "language_info": {
      "name": "python"
    }
  },
  "cells": [
    {
      "cell_type": "markdown",
      "metadata": {
        "id": "view-in-github",
        "colab_type": "text"
      },
      "source": [
        "<a href=\"https://colab.research.google.com/github/bluehy/Algorithm/blob/main/%EB%B0%B1%EC%A4%80_1712.ipynb\" target=\"_parent\"><img src=\"https://colab.research.google.com/assets/colab-badge.svg\" alt=\"Open In Colab\"/></a>"
      ]
    },
    {
      "cell_type": "markdown",
      "source": [
        "# 알고리즘\n",
        "2022.12.14\n",
        "\n",
        "#### 📌백준 1712 파이썬"
      ],
      "metadata": {
        "id": "INO7zA_SUvBA"
      }
    },
    {
      "cell_type": "markdown",
      "source": [
        "월드전자는 노트북을 제조하고 판매하는 회사이다. 노트북 판매 대수에 상관없이 매년 임대료, 재산세, 보험료, 급여 등 A만원의 고정 비용이 들며, 한 대의 노트북을 생산하는 데에는 재료비와 인건비 등 총 B만원의 가변 비용이 든다고 한다.\n",
        "\n",
        "예를 들어 A=1,000, B=70이라고 하자. 이 경우 노트북을 한 대 생산하는 데는 총 1,070만원이 들며, 열 대 생산하는 데는 총 1,700만원이 든다.\n",
        "\n",
        "노트북 가격이 C만원으로 책정되었다고 한다. 일반적으로 생산 대수를 늘려 가다 보면 어느 순간 총 수입(판매비용)이 총 비용(=고정비용+가변비용)보다 많아지게 된다. 최초로 총 수입이 총 비용보다 많아져 이익이 발생하는 지점을 손익분기점(BREAK-EVEN POINT)이라고 한다.\n",
        "\n",
        "A, B, C가 주어졌을 때, 손익분기점을 구하는 프로그램을 작성하시오."
      ],
      "metadata": {
        "id": "GvZ-nUtMU2Gi"
      }
    },
    {
      "cell_type": "markdown",
      "source": [
        "#### <입력>\n",
        "첫째 줄에 A, B, C가 빈 칸을 사이에 두고 순서대로 주어진다. A, B, C는 21억 이하의 자연수이다.\n",
        "```\n",
        "1000 70 170\n",
        "```\n",
        "\n",
        "---\n",
        "#### <출력>\n",
        "첫 번째 줄에 손익분기점 즉 최초로 이익이 발생하는 판매량을 출력한다. 손익분기점이 존재하지 않으면 -1을 출력한다.\n",
        "```\n",
        "11\n",
        "```"
      ],
      "metadata": {
        "id": "jey61NaqVTW5"
      }
    },
    {
      "cell_type": "markdown",
      "source": [
        "### 🐣 내 풀이"
      ],
      "metadata": {
        "id": "UNXlkzWYViOp"
      }
    },
    {
      "cell_type": "code",
      "execution_count": 27,
      "metadata": {
        "id": "Pw9pOQuiUuTO",
        "colab": {
          "base_uri": "https://localhost:8080/"
        },
        "outputId": "a142e768-1315-4667-b4f4-47ad27310068"
      },
      "outputs": [
        {
          "output_type": "stream",
          "name": "stdout",
          "text": [
            "1000 70 170\n",
            "70 170\n",
            "5\n"
          ]
        }
      ],
      "source": [
        "A, B, C = map(int,input().split())\n",
        "cnt = 1\n",
        "nB = B\n",
        "nC = C\n",
        "while A + nB >= nC:\n",
        "  if B > C:\n",
        "    cnt = -1\n",
        "    break;\n",
        "  nB += B\n",
        "  nC += C\n",
        "  cnt += 1\n",
        "print(cnt)"
      ]
    },
    {
      "cell_type": "markdown",
      "source": [
        "### 👩‍💻 다른 풀이"
      ],
      "metadata": {
        "id": "l4tdzTXjVley"
      }
    },
    {
      "cell_type": "code",
      "source": [],
      "metadata": {
        "id": "kd12OEibVo17"
      },
      "execution_count": null,
      "outputs": []
    },
    {
      "cell_type": "markdown",
      "source": [
        "#### 🔍 참고사이트\n",
        "- []()"
      ],
      "metadata": {
        "id": "X6qeTCkjVpLJ"
      }
    }
  ]
}