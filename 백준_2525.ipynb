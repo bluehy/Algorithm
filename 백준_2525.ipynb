{
  "nbformat": 4,
  "nbformat_minor": 0,
  "metadata": {
    "colab": {
      "provenance": [],
      "collapsed_sections": [],
      "authorship_tag": "ABX9TyPkMgRudY0raG1zRvc/q+fm",
      "include_colab_link": true
    },
    "kernelspec": {
      "name": "python3",
      "display_name": "Python 3"
    },
    "language_info": {
      "name": "python"
    }
  },
  "cells": [
    {
      "cell_type": "markdown",
      "metadata": {
        "id": "view-in-github",
        "colab_type": "text"
      },
      "source": [
        "<a href=\"https://colab.research.google.com/github/bluehy/Algorithm/blob/main/%EB%B0%B1%EC%A4%80_2525.ipynb\" target=\"_parent\"><img src=\"https://colab.research.google.com/assets/colab-badge.svg\" alt=\"Open In Colab\"/></a>"
      ]
    },
    {
      "cell_type": "markdown",
      "source": [
        "# 알고리즘\n",
        "2022.09.05\n",
        "\n",
        "#### 📌백준 2525 파이썬"
      ],
      "metadata": {
        "id": "INO7zA_SUvBA"
      }
    },
    {
      "cell_type": "markdown",
      "source": [
        "KOI 전자에서는 건강에 좋고 맛있는 훈제오리구이 요리를 간편하게 만드는 인공지능 오븐을 개발하려고 한다. 인공지능 오븐을 사용하는 방법은 적당한 양의 오리 훈제 재료를 인공지능 오븐에 넣으면 된다. 그러면 인공지능 오븐은 오븐구이가 끝나는 시간을 분 단위로 자동적으로 계산한다. \n",
        "\n",
        "또한, KOI 전자의 인공지능 오븐 앞면에는 사용자에게 훈제오리구이 요리가 끝나는 시각을 알려 주는 디지털 시계가 있다. \n",
        "\n",
        "훈제오리구이를 시작하는 시각과 오븐구이를 하는 데 필요한 시간이 분단위로 주어졌을 때, 오븐구이가 끝나는 시각을 계산하는 프로그램을 작성하시오."
      ],
      "metadata": {
        "id": "GvZ-nUtMU2Gi"
      }
    },
    {
      "cell_type": "markdown",
      "source": [
        "#### <입력>\n",
        "첫째 줄에는 현재 시각이 나온다. 현재 시각은 시 A (0 ≤ A ≤ 23) 와 분 B (0 ≤ B ≤ 59)가 정수로 빈칸을 사이에 두고 순서대로 주어진다. 두 번째 줄에는 요리하는 데 필요한 시간 C (0 ≤ C ≤ 1,000)가 분 단위로 주어진다. \n",
        "```\n",
        "14 30\n",
        "20\n",
        "```\n",
        "\n",
        "---\n",
        "#### <출력>\n",
        "첫째 줄에 종료되는 시각의 시와 분을 공백을 사이에 두고 출력한다. (단, 시는 0부터 23까지의 정수, 분은 0부터 59까지의 정수이다. 디지털 시계는 23시 59분에서 1분이 지나면 0시 0분이 된다.)\n",
        "```\n",
        "14 50\n",
        "```"
      ],
      "metadata": {
        "id": "jey61NaqVTW5"
      }
    },
    {
      "cell_type": "markdown",
      "source": [
        "### 🐣 내 풀이"
      ],
      "metadata": {
        "id": "UNXlkzWYViOp"
      }
    },
    {
      "cell_type": "code",
      "execution_count": 13,
      "metadata": {
        "id": "Pw9pOQuiUuTO",
        "colab": {
          "base_uri": "https://localhost:8080/"
        },
        "outputId": "a423c027-8c1e-41e9-d58f-4f9b0965dfcb"
      },
      "outputs": [
        {
          "output_type": "stream",
          "name": "stdout",
          "text": [
            "23 48\n",
            "25\n",
            "0 13\n"
          ]
        }
      ],
      "source": [
        "H, M = map(int,input().split())\n",
        "C = int(input())\n",
        "\n",
        "# 소요시간에 의해 얼마나 변하는지 계산\n",
        "H += C // 60\n",
        "M += C % 60\n",
        "\n",
        "# 소요시간에 의해 변한 M이 60보다 클 경우, 시각으로 변경\n",
        "if M >= 60 :\n",
        "  H += 1\n",
        "  M -= 60\n",
        "\n",
        "# 시간이 24시를 넘기는 경우 단위 수정\n",
        "if H >= 24 :\n",
        "  H -= 24\n",
        "\n",
        "# 결과 출력\n",
        "print (H, M)"
      ]
    },
    {
      "cell_type": "markdown",
      "source": [
        "✔ 소요시간이 1000분까지도 가능하다는 사실을 간과해서 오류가 있었음!\n",
        "```\n",
        "H, M = map(int,input().split())\n",
        "C = int(input())\n",
        "\n",
        "if M + C >= 60 :\n",
        "  H += 1\n",
        "  M = M + C - 60\n",
        "  \n",
        "  # 이게 꼭 한시간만 추가되지는 않음!\n",
        "  if M >= 60 :\n",
        "    H += 1\n",
        "    M = 0\n",
        "\n",
        "else :\n",
        "  M += C\n",
        "\n",
        "if H >= 24 :\n",
        "  H -= 24\n",
        "\n",
        "print (H, M)\n",
        "```"
      ],
      "metadata": {
        "id": "hsi3mB8fKuZl"
      }
    },
    {
      "cell_type": "markdown",
      "source": [
        "### 👩‍💻 다른 풀이"
      ],
      "metadata": {
        "id": "l4tdzTXjVley"
      }
    },
    {
      "cell_type": "code",
      "source": [
        "H, M = map(int, input().split())\n",
        "timer = int(input()) \n",
        "\n",
        "H += timer // 60\n",
        "M += timer % 60\n",
        "\n",
        "if M >= 60:\n",
        "    H += 1\n",
        "    M -= 60\n",
        "if H >= 24:\n",
        "    H -= 24\n",
        "\n",
        "print(H,M)"
      ],
      "metadata": {
        "id": "kd12OEibVo17",
        "colab": {
          "base_uri": "https://localhost:8080/"
        },
        "outputId": "f1a71ecc-241d-4b5d-f8d4-b025a04b864f"
      },
      "execution_count": 14,
      "outputs": [
        {
          "output_type": "stream",
          "name": "stdout",
          "text": [
            "14 30\n",
            "25\n",
            "25\n",
            "14 55\n"
          ]
        }
      ]
    },
    {
      "cell_type": "code",
      "source": [
        "hour, minute = map(int, input().split())\n",
        "time = int(input())\n",
        "\n",
        "time_h = time // 60\n",
        "time_m = time % 60\n",
        "\n",
        "hour += time_h\n",
        "minute += time_m\n",
        "\n",
        "if minute >= 60:\n",
        "    hour += 1\n",
        "    minute -= 60\n",
        "\n",
        "if hour >= 24:\n",
        "    hour -= 24\n",
        "\n",
        "print(hour, minute)"
      ],
      "metadata": {
        "id": "bzN2T0NXLdu2"
      },
      "execution_count": null,
      "outputs": []
    },
    {
      "cell_type": "markdown",
      "source": [
        "#### 🔍 참고사이트\n",
        "- [파이썬 연산자](https://includestdio.tistory.com/16)\n",
        "- [2525 문제 풀이 1](https://claude-u.tistory.com/216)\n",
        "- [2525 문제 풀이 2](https://velog.io/@dlzagu/%EB%B0%B1%EC%A4%80-2525%EB%B2%88-%ED%8C%8C%EC%9D%B4%EC%8D%AC-%EC%95%8C%EA%B3%A0%EB%A6%AC%EC%A6%98)"
      ],
      "metadata": {
        "id": "X6qeTCkjVpLJ"
      }
    }
  ]
}