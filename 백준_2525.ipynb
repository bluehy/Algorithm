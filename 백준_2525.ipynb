{
  "nbformat": 4,
  "nbformat_minor": 0,
  "metadata": {
    "colab": {
      "provenance": [],
      "collapsed_sections": [],
      "authorship_tag": "ABX9TyPHgGb4ra6huH8QJ65TTef4",
      "include_colab_link": true
    },
    "kernelspec": {
      "name": "python3",
      "display_name": "Python 3"
    },
    "language_info": {
      "name": "python"
    }
  },
  "cells": [
    {
      "cell_type": "markdown",
      "metadata": {
        "id": "view-in-github",
        "colab_type": "text"
      },
      "source": [
        "<a href=\"https://colab.research.google.com/github/bluehy/Algorithm/blob/main/%EB%B0%B1%EC%A4%80_2525.ipynb\" target=\"_parent\"><img src=\"https://colab.research.google.com/assets/colab-badge.svg\" alt=\"Open In Colab\"/></a>"
      ]
    },
    {
      "cell_type": "markdown",
      "source": [
        "# 알고리즘\n",
        "2022.09.05\n",
        "\n",
        "#### 📌백준 2525 파이썬"
      ],
      "metadata": {
        "id": "INO7zA_SUvBA"
      }
    },
    {
      "cell_type": "markdown",
      "source": [
        "KOI 전자에서는 건강에 좋고 맛있는 훈제오리구이 요리를 간편하게 만드는 인공지능 오븐을 개발하려고 한다. 인공지능 오븐을 사용하는 방법은 적당한 양의 오리 훈제 재료를 인공지능 오븐에 넣으면 된다. 그러면 인공지능 오븐은 오븐구이가 끝나는 시간을 분 단위로 자동적으로 계산한다. \n",
        "\n",
        "또한, KOI 전자의 인공지능 오븐 앞면에는 사용자에게 훈제오리구이 요리가 끝나는 시각을 알려 주는 디지털 시계가 있다. \n",
        "\n",
        "훈제오리구이를 시작하는 시각과 오븐구이를 하는 데 필요한 시간이 분단위로 주어졌을 때, 오븐구이가 끝나는 시각을 계산하는 프로그램을 작성하시오."
      ],
      "metadata": {
        "id": "GvZ-nUtMU2Gi"
      }
    },
    {
      "cell_type": "markdown",
      "source": [
        "#### <입력>\n",
        "첫째 줄에는 현재 시각이 나온다. 현재 시각은 시 A (0 ≤ A ≤ 23) 와 분 B (0 ≤ B ≤ 59)가 정수로 빈칸을 사이에 두고 순서대로 주어진다. 두 번째 줄에는 요리하는 데 필요한 시간 C (0 ≤ C ≤ 1,000)가 분 단위로 주어진다. \n",
        "```\n",
        "14 30\n",
        "20\n",
        "```\n",
        "\n",
        "---\n",
        "#### <출력>\n",
        "첫째 줄에 종료되는 시각의 시와 분을 공백을 사이에 두고 출력한다. (단, 시는 0부터 23까지의 정수, 분은 0부터 59까지의 정수이다. 디지털 시계는 23시 59분에서 1분이 지나면 0시 0분이 된다.)\n",
        "```\n",
        "14 50\n",
        "```"
      ],
      "metadata": {
        "id": "jey61NaqVTW5"
      }
    },
    {
      "cell_type": "markdown",
      "source": [
        "### 🐣 내 풀이"
      ],
      "metadata": {
        "id": "UNXlkzWYViOp"
      }
    },
    {
      "cell_type": "code",
      "execution_count": 13,
      "metadata": {
        "id": "Pw9pOQuiUuTO",
        "colab": {
          "base_uri": "https://localhost:8080/"
        },
        "outputId": "a423c027-8c1e-41e9-d58f-4f9b0965dfcb"
      },
      "outputs": [
        {
          "output_type": "stream",
          "name": "stdout",
          "text": [
            "23 48\n",
            "25\n",
            "0 13\n"
          ]
        }
      ],
      "source": [
        "H, M = map(int,input().split())\n",
        "C = int(input())\n",
        "\n",
        "# 소요시간에 의해 얼마나 변하는지 계산\n",
        "H += C // 60\n",
        "M += C % 60\n",
        "\n",
        "# 소요시간에 의해 변한 M이 60보다 클 경우, 시각으로 변경\n",
        "if M >= 60 :\n",
        "  H += 1\n",
        "  M -= 60\n",
        "\n",
        "# 시간이 24시를 넘기는 경우 단위 수정\n",
        "if H >= 24 :\n",
        "  H -= 24\n",
        "\n",
        "# 결과 출력\n",
        "print (H, M)"
      ]
    },
    {
      "cell_type": "markdown",
      "source": [
        "✔ 소요시간이 1000분까지도 가능하다는 사실을 간과해서 오류가 있었음!\n",
        "```\n",
        "H, M = map(int,input().split())\n",
        "C = int(input())\n",
        "\n",
        "if M + C >= 60 :\n",
        "  H += 1\n",
        "  M = M + C - 60\n",
        "  \n",
        "  # 이게 꼭 한시간만 추가되지는 않음!\n",
        "  if M >= 60 :\n",
        "    H += 1\n",
        "    M = 0\n",
        "\n",
        "else :\n",
        "  M += C\n",
        "\n",
        "if H >= 24 :\n",
        "  H -= 24\n",
        "\n",
        "print (H, M)\n",
        "```\n",
        "![눈물이나는장면](data:image/png;base64,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)"
      ],
      "metadata": {
        "id": "hsi3mB8fKuZl"
      }
    },
    {
      "cell_type": "markdown",
      "source": [
        "### 👩‍💻 다른 풀이"
      ],
      "metadata": {
        "id": "l4tdzTXjVley"
      }
    },
    {
      "cell_type": "code",
      "source": [
        "H, M = map(int, input().split())\n",
        "timer = int(input()) \n",
        "\n",
        "H += timer // 60\n",
        "M += timer % 60\n",
        "\n",
        "if M >= 60:\n",
        "    H += 1\n",
        "    M -= 60\n",
        "if H >= 24:\n",
        "    H -= 24\n",
        "\n",
        "print(H,M)"
      ],
      "metadata": {
        "id": "kd12OEibVo17",
        "colab": {
          "base_uri": "https://localhost:8080/"
        },
        "outputId": "f1a71ecc-241d-4b5d-f8d4-b025a04b864f"
      },
      "execution_count": 14,
      "outputs": [
        {
          "output_type": "stream",
          "name": "stdout",
          "text": [
            "14 30\n",
            "25\n",
            "25\n",
            "14 55\n"
          ]
        }
      ]
    },
    {
      "cell_type": "code",
      "source": [
        "hour, minute = map(int, input().split())\n",
        "time = int(input())\n",
        "\n",
        "time_h = time // 60\n",
        "time_m = time % 60\n",
        "\n",
        "hour += time_h\n",
        "minute += time_m\n",
        "\n",
        "if minute >= 60:\n",
        "    hour += 1\n",
        "    minute -= 60\n",
        "\n",
        "if hour >= 24:\n",
        "    hour -= 24\n",
        "\n",
        "print(hour, minute)"
      ],
      "metadata": {
        "id": "bzN2T0NXLdu2"
      },
      "execution_count": null,
      "outputs": []
    },
    {
      "cell_type": "markdown",
      "source": [
        "#### 🔍 참고사이트\n",
        "- [파이썬 연산자](https://includestdio.tistory.com/16)\n",
        "- [2525 문제 풀이 1](https://claude-u.tistory.com/216)\n",
        "- [2525 문제 풀이 2](https://velog.io/@dlzagu/%EB%B0%B1%EC%A4%80-2525%EB%B2%88-%ED%8C%8C%EC%9D%B4%EC%8D%AC-%EC%95%8C%EA%B3%A0%EB%A6%AC%EC%A6%98)"
      ],
      "metadata": {
        "id": "X6qeTCkjVpLJ"
      }
    }
  ]
}