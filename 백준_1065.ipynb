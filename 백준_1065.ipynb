{
  "nbformat": 4,
  "nbformat_minor": 0,
  "metadata": {
    "colab": {
      "provenance": [],
      "collapsed_sections": [],
      "authorship_tag": "ABX9TyOm2UWloe9suINE4ao2UzaX",
      "include_colab_link": true
    },
    "kernelspec": {
      "name": "python3",
      "display_name": "Python 3"
    },
    "language_info": {
      "name": "python"
    }
  },
  "cells": [
    {
      "cell_type": "markdown",
      "metadata": {
        "id": "view-in-github",
        "colab_type": "text"
      },
      "source": [
        "<a href=\"https://colab.research.google.com/github/bluehy/Algorithm/blob/main/%EB%B0%B1%EC%A4%80_1065.ipynb\" target=\"_parent\"><img src=\"https://colab.research.google.com/assets/colab-badge.svg\" alt=\"Open In Colab\"/></a>"
      ]
    },
    {
      "cell_type": "markdown",
      "source": [
        "# 알고리즘\n",
        "2022.11.07\n",
        "\n",
        "#### 📌백준 1065 파이썬"
      ],
      "metadata": {
        "id": "INO7zA_SUvBA"
      }
    },
    {
      "cell_type": "markdown",
      "source": [
        "어떤 양의 정수 X의 각 자리가 등차수열을 이룬다면, 그 수를 한수라고 한다. 등차수열은 연속된 두 개의 수의 차이가 일정한 수열을 말한다. N이 주어졌을 때, 1보다 크거나 같고, N보다 작거나 같은 한수의 개수를 출력하는 프로그램을 작성하시오. "
      ],
      "metadata": {
        "id": "GvZ-nUtMU2Gi"
      }
    },
    {
      "cell_type": "markdown",
      "source": [
        "#### <입력>\n",
        "첫째 줄에 1,000보다 작거나 같은 자연수 N이 주어진다.\n",
        "```\n",
        "110\n",
        "```\n",
        "\n",
        "---\n",
        "#### <출력>\n",
        "첫째 줄에 1보다 크거나 같고, N보다 작거나 같은 한수의 개수를 출력한다.\n",
        "```\n",
        "99\n",
        "```"
      ],
      "metadata": {
        "id": "jey61NaqVTW5"
      }
    },
    {
      "cell_type": "markdown",
      "source": [
        "### 🐣 내 풀이"
      ],
      "metadata": {
        "id": "UNXlkzWYViOp"
      }
    },
    {
      "cell_type": "code",
      "execution_count": 28,
      "metadata": {
        "id": "Pw9pOQuiUuTO",
        "colab": {
          "base_uri": "https://localhost:8080/"
        },
        "outputId": "0a4212ef-2491-465d-fbea-fd726a62abef"
      },
      "outputs": [
        {
          "output_type": "stream",
          "name": "stdout",
          "text": [
            "110\n",
            "99\n"
          ]
        }
      ],
      "source": [
        "N = int(input())\n",
        "\n",
        "def ifH(N):\n",
        "  Numbers = set(range(1,N + 1)) \n",
        "  dNumbers = set()\n",
        "  for i in Numbers:\n",
        "    X = []\n",
        "    for j in str(i):\n",
        "      X.append(int(j))\n",
        "    if i < 100: # 100미만의 숫자는 전부 한수이다.\n",
        "      dNumbers.add(i)\n",
        "    elif X[0]-X[1] == X[1]-X[2]: # 등차수열의 규칙성이 필요하므로 abs는 사용하지 않는다.\n",
        "      dNumbers.add(i)\n",
        "    elif i == 1000 : # 1000은 한수가 아니므로 제외한다.\n",
        "      break ;\n",
        "  return dNumbers\n",
        "\n",
        "cnt = len(ifH(N))\n",
        "print(cnt)"
      ]
    },
    {
      "cell_type": "markdown",
      "source": [
        "### 👩‍💻 다른 풀이"
      ],
      "metadata": {
        "id": "l4tdzTXjVley"
      }
    },
    {
      "cell_type": "code",
      "source": [],
      "metadata": {
        "id": "kd12OEibVo17"
      },
      "execution_count": null,
      "outputs": []
    },
    {
      "cell_type": "markdown",
      "source": [
        "#### 🔍 참고사이트\n",
        "- []()\n",
        "- [IndexError: list index out of range](https://korbillgates.tistory.com/91)"
      ],
      "metadata": {
        "id": "X6qeTCkjVpLJ"
      }
    }
  ]
}