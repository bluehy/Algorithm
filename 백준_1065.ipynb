{
  "nbformat": 4,
  "nbformat_minor": 0,
  "metadata": {
    "colab": {
      "provenance": [],
      "collapsed_sections": [],
      "authorship_tag": "ABX9TyMR4+66IM5fp4bMtlfYBbUe",
      "include_colab_link": true
    },
    "kernelspec": {
      "name": "python3",
      "display_name": "Python 3"
    },
    "language_info": {
      "name": "python"
    }
  },
  "cells": [
    {
      "cell_type": "markdown",
      "metadata": {
        "id": "view-in-github",
        "colab_type": "text"
      },
      "source": [
        "<a href=\"https://colab.research.google.com/github/bluehy/Algorithm/blob/main/%EB%B0%B1%EC%A4%80_1065.ipynb\" target=\"_parent\"><img src=\"https://colab.research.google.com/assets/colab-badge.svg\" alt=\"Open In Colab\"/></a>"
      ]
    },
    {
      "cell_type": "markdown",
      "source": [
        "# 알고리즘\n",
        "2022.11.07\n",
        "\n",
        "#### 📌백준 1065 파이썬"
      ],
      "metadata": {
        "id": "INO7zA_SUvBA"
      }
    },
    {
      "cell_type": "markdown",
      "source": [
        "어떤 양의 정수 X의 각 자리가 등차수열을 이룬다면, 그 수를 한수라고 한다. 등차수열은 연속된 두 개의 수의 차이가 일정한 수열을 말한다. N이 주어졌을 때, 1보다 크거나 같고, N보다 작거나 같은 한수의 개수를 출력하는 프로그램을 작성하시오. "
      ],
      "metadata": {
        "id": "GvZ-nUtMU2Gi"
      }
    },
    {
      "cell_type": "markdown",
      "source": [
        "#### <입력>\n",
        "첫째 줄에 1,000보다 작거나 같은 자연수 N이 주어진다.\n",
        "```\n",
        "110\n",
        "```\n",
        "\n",
        "---\n",
        "#### <출력>\n",
        "첫째 줄에 1보다 크거나 같고, N보다 작거나 같은 한수의 개수를 출력한다.\n",
        "```\n",
        "99\n",
        "```"
      ],
      "metadata": {
        "id": "jey61NaqVTW5"
      }
    },
    {
      "cell_type": "markdown",
      "source": [
        "### 🐣 내 풀이"
      ],
      "metadata": {
        "id": "UNXlkzWYViOp"
      }
    },
    {
      "cell_type": "code",
      "execution_count": 31,
      "metadata": {
        "id": "Pw9pOQuiUuTO",
        "colab": {
          "base_uri": "https://localhost:8080/"
        },
        "outputId": "5e45cb3a-e2ed-4857-fc00-e71db3b53240"
      },
      "outputs": [
        {
          "output_type": "stream",
          "name": "stdout",
          "text": [
            "1000\n",
            "144\n"
          ]
        }
      ],
      "source": [
        "N = int(input())\n",
        "\n",
        "def ifH(N):\n",
        "  Numbers = set(range(1,N + 1)) # 중복없는 집합 자료형을 생성\n",
        "  dNumbers = set() # set을 활용해 중복숫자의 가능성을 제거한다.\n",
        "  # 한수를 구해내는 과정\n",
        "  for i in Numbers:\n",
        "    X = []\n",
        "    # 각 수를 한 글자씩 쪼개서 확인하기 위해 작성\n",
        "    for j in str(i):\n",
        "      X.append(int(j))\n",
        "\n",
        "    # 한수를 걸러내는 작업\n",
        "    if i < 100: # 100미만의 숫자는 전부 한수이다.\n",
        "      dNumbers.add(i)\n",
        "    elif X[0]-X[1] == X[1]-X[2]: # 등차수열의 규칙성이 필요하므로 abs는 사용하지 않는다.\n",
        "      dNumbers.add(i)\n",
        "    elif i == 1000 : # 1000은 한수가 아니므로 제외한다.\n",
        "      break ;\n",
        "\n",
        "  # 구해낸 한수를 반환(return)\n",
        "  return dNumbers\n",
        "\n",
        "# 한수의 갯수를 출력한다.\n",
        "cnt = len(ifH(N))\n",
        "print(cnt)"
      ]
    },
    {
      "cell_type": "markdown",
      "source": [
        "### 👩‍💻 다른 풀이"
      ],
      "metadata": {
        "id": "l4tdzTXjVley"
      }
    },
    {
      "cell_type": "code",
      "source": [
        "# def 함수를 생성한 경우\n",
        "def hansu(num) :\n",
        "    hansu_cnt = 0\n",
        "    for i in range(1, num+1):\n",
        "        num_list = list(map(int,str(i)))\n",
        "        if i < 100:\n",
        "            hansu_cnt += 1  # 100보다 작으면 모두 한수\n",
        "        elif num_list[0]-num_list[1] == num_list[1]-num_list[2]:\n",
        "            hansu_cnt += 1  # x의 각 자리가 등차수열이면 한수\n",
        "    return hansu_cnt"
      ],
      "metadata": {
        "id": "kd12OEibVo17"
      },
      "execution_count": null,
      "outputs": []
    },
    {
      "cell_type": "code",
      "source": [
        "# 함수를 생성하지 않은 경우\n",
        "num = int(input())\n",
        "\n",
        "hansu = 0\n",
        "for i in range(1, num+1):\n",
        "    num_list = list(map(int, str(i)))\n",
        "    if i < 100:\n",
        "        hansu += 1  # 100보다 작으면 모두 한수\n",
        "    elif num_list[0]-num_list[1] == num_list[1]-num_list[2]:\n",
        "        hansu += 1  # x의 각 자리가 등차수열이면 한수\n",
        "print(hansu)"
      ],
      "metadata": {
        "id": "5vSMRBfPiJXE"
      },
      "execution_count": null,
      "outputs": []
    },
    {
      "cell_type": "code",
      "source": [
        "# 자리수로 나누기\n",
        "n = int(input())\n",
        "\n",
        "if n < 100 :\n",
        "  print(n)\n",
        "elif n < 1000:\n",
        "  c = 0 \n",
        "  for i in range(100, n+1):\n",
        "    N = int(i)\n",
        "    if (N%10 - N//10%10) == (N//10%10 - N//100):\n",
        "      c += 1\n",
        "    print(99 + c)\n",
        "else:\n",
        "  print(144)"
      ],
      "metadata": {
        "id": "V57eCUvaihZ9"
      },
      "execution_count": null,
      "outputs": []
    },
    {
      "cell_type": "code",
      "source": [
        "# for문 먼저 돌리기\n",
        "n = int(input())\n",
        "c = 0\n",
        "for i in range(1, n+1):\n",
        "  if i < 100:\n",
        "    c += 1\n",
        "  elif i < 1000:\n",
        "    if (i%10 - i//10%10) == (i//10%10 - i//100):\n",
        "      c += 1\n",
        "print(c)"
      ],
      "metadata": {
        "id": "uoA88JbljKTK"
      },
      "execution_count": null,
      "outputs": []
    },
    {
      "cell_type": "code",
      "source": [
        "def get_hansu_num(N):\n",
        "    if N < 100:\n",
        "        hansu = N\n",
        "    else:\n",
        "        hansu = 99\n",
        "        for i in range(100, N+1):\n",
        "            num_list = list(map(int, str(i)))\n",
        "            \n",
        "            if num_list[0] - num_list[1] == num_list[1] - num_list[2]:\n",
        "                hansu += 1\n",
        "    return hansu\n",
        "\n",
        "if __name__ == \"__main__\":\n",
        "    input_num = int(input())\n",
        "    \n",
        "    print(get_hansu_num(input_num))"
      ],
      "metadata": {
        "id": "mlnpgeDhkKyD"
      },
      "execution_count": null,
      "outputs": []
    },
    {
      "cell_type": "markdown",
      "source": [
        "#### 🔍 참고사이트\n",
        "- [IndexError: list index out of range](https://korbillgates.tistory.com/91)\n",
        "- [1065 문제 풀이 1](https://ooyoung.tistory.com/65)\n",
        "- [1065 문제 풀이 2](https://codingpractices.tistory.com/entry/%EB%B0%B1%EC%A4%80-1065%EB%B2%88-%ED%95%9C%EC%88%98-%ED%8C%8C%EC%9D%B4%EC%8D%AC-python)\n",
        "\n",
        "  ![image.png](data:image/png;base64,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)\n",
        "- [1065 문제 풀이 3](https://somjang.tistory.com/entry/BaekJoon-1065%EB%B2%88-%ED%95%9C%EC%88%98-Python)"
      ],
      "metadata": {
        "id": "X6qeTCkjVpLJ"
      }
    }
  ]
}