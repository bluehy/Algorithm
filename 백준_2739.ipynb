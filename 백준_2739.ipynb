{
  "nbformat": 4,
  "nbformat_minor": 0,
  "metadata": {
    "colab": {
      "provenance": [],
      "collapsed_sections": [],
      "authorship_tag": "ABX9TyOc5URFC90N0Zfnl2BEddBH",
      "include_colab_link": true
    },
    "kernelspec": {
      "name": "python3",
      "display_name": "Python 3"
    },
    "language_info": {
      "name": "python"
    }
  },
  "cells": [
    {
      "cell_type": "markdown",
      "metadata": {
        "id": "view-in-github",
        "colab_type": "text"
      },
      "source": [
        "<a href=\"https://colab.research.google.com/github/bluehy/Algorithm/blob/main/%EB%B0%B1%EC%A4%80_2739.ipynb\" target=\"_parent\"><img src=\"https://colab.research.google.com/assets/colab-badge.svg\" alt=\"Open In Colab\"/></a>"
      ]
    },
    {
      "cell_type": "markdown",
      "source": [
        "# 알고리즘\n",
        "2022.09.07\n",
        "\n",
        "#### 📌백준 2739 파이썬"
      ],
      "metadata": {
        "id": "INO7zA_SUvBA"
      }
    },
    {
      "cell_type": "markdown",
      "source": [
        "N을 입력받은 뒤, 구구단 N단을 출력하는 프로그램을 작성하시오. 출력 형식에 맞춰서 출력하면 된다."
      ],
      "metadata": {
        "id": "GvZ-nUtMU2Gi"
      }
    },
    {
      "cell_type": "markdown",
      "source": [
        "#### <입력>\n",
        "첫째 줄에 N이 주어진다. N은 1보다 크거나 같고, 9보다 작거나 같다.\n",
        "```\n",
        "2\n",
        "```\n",
        "\n",
        "---\n",
        "#### <출력>\n",
        "출력형식과 같게 N*1부터 N*9까지 출력한다.\n",
        "```\n",
        "2 * 1 = 2\n",
        "2 * 2 = 4\n",
        "2 * 3 = 6\n",
        "2 * 4 = 8\n",
        "2 * 5 = 10\n",
        "2 * 6 = 12\n",
        "2 * 7 = 14\n",
        "2 * 8 = 16\n",
        "2 * 9 = 18\n",
        "```"
      ],
      "metadata": {
        "id": "jey61NaqVTW5"
      }
    },
    {
      "cell_type": "markdown",
      "source": [
        "### 🐣 내 풀이"
      ],
      "metadata": {
        "id": "UNXlkzWYViOp"
      }
    },
    {
      "cell_type": "code",
      "execution_count": 4,
      "metadata": {
        "id": "Pw9pOQuiUuTO",
        "colab": {
          "base_uri": "https://localhost:8080/"
        },
        "outputId": "337fbf98-508a-4119-9a19-51bcab5aac1f"
      },
      "outputs": [
        {
          "output_type": "stream",
          "name": "stdout",
          "text": [
            "2\n",
            "2 * 1 = 2\n",
            "2 * 2 = 4\n",
            "2 * 3 = 6\n",
            "2 * 4 = 8\n",
            "2 * 5 = 10\n",
            "2 * 6 = 12\n",
            "2 * 7 = 14\n",
            "2 * 8 = 16\n",
            "2 * 9 = 18\n"
          ]
        }
      ],
      "source": [
        "a = int(input())\n",
        "\n",
        "for i in range(1,10):\n",
        "  print(a, \"*\", i, \"=\", a*i)"
      ]
    },
    {
      "cell_type": "markdown",
      "source": [
        "### 👩‍💻 다른 풀이"
      ],
      "metadata": {
        "id": "l4tdzTXjVley"
      }
    },
    {
      "cell_type": "code",
      "source": [
        "n = int(input())\n",
        "\n",
        "for i in range(1,10):  # 1~9\n",
        "    print(n, '*', i, '=', n*i)"
      ],
      "metadata": {
        "id": "kd12OEibVo17"
      },
      "execution_count": null,
      "outputs": []
    },
    {
      "cell_type": "code",
      "source": [
        "Num = int(input())\n",
        "1<=Num<=9\n",
        "\n",
        "for i in range(1,10):\n",
        "    result = Num* i\n",
        "    print( Num,'*',i ,'=',result)"
      ],
      "metadata": {
        "id": "VtQg87JRUjXH"
      },
      "execution_count": null,
      "outputs": []
    },
    {
      "cell_type": "code",
      "source": [
        "a=int(input())\n",
        "for i in range(1,10):\n",
        "    print(\"%d * %d = %d\" %(a, i, a*i))"
      ],
      "metadata": {
        "id": "Lm844hsbVGcv"
      },
      "execution_count": null,
      "outputs": []
    },
    {
      "cell_type": "markdown",
      "source": [
        "![image.png](data:image/png;base64,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)"
      ],
      "metadata": {
        "id": "qWdjE56LVRLA"
      }
    },
    {
      "cell_type": "markdown",
      "source": [
        "#### 🔍 참고사이트\n",
        "- [파이썬_for문](https://wikidocs.net/22)\n",
        "- [파이썬_print](https://withcoding.com/64)\n",
        "- [2739 문제 풀이 1](https://ooyoung.tistory.com/30)\n",
        "- [2739 문제 풀이 2](https://gururuglasses.tistory.com/20)\n",
        "- [2739 문제 풀이 3](https://claude-u.tistory.com/18)"
      ],
      "metadata": {
        "id": "X6qeTCkjVpLJ"
      }
    }
  ]
}