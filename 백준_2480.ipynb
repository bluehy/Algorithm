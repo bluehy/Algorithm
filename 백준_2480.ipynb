{
  "nbformat": 4,
  "nbformat_minor": 0,
  "metadata": {
    "colab": {
      "provenance": [],
      "collapsed_sections": [],
      "authorship_tag": "ABX9TyOcjtr1irX0N9oFVXVJRFVg",
      "include_colab_link": true
    },
    "kernelspec": {
      "name": "python3",
      "display_name": "Python 3"
    },
    "language_info": {
      "name": "python"
    }
  },
  "cells": [
    {
      "cell_type": "markdown",
      "metadata": {
        "id": "view-in-github",
        "colab_type": "text"
      },
      "source": [
        "<a href=\"https://colab.research.google.com/github/bluehy/Algorithm/blob/main/%EB%B0%B1%EC%A4%80_2480.ipynb\" target=\"_parent\"><img src=\"https://colab.research.google.com/assets/colab-badge.svg\" alt=\"Open In Colab\"/></a>"
      ]
    },
    {
      "cell_type": "markdown",
      "source": [
        "# 알고리즘\n",
        "2022.09.06\n",
        "\n",
        "#### 📌백준 2480 파이썬"
      ],
      "metadata": {
        "id": "INO7zA_SUvBA"
      }
    },
    {
      "cell_type": "markdown",
      "source": [
        "1에서부터 6까지의 눈을 가진 3개의 주사위를 던져서 다음과 같은 규칙에 따라 상금을 받는 게임이 있다. \n",
        "\n",
        "1. 같은 눈이 3개가 나오면 10,000원+(같은 눈)×1,000원의 상금을 받게 된다. \n",
        "2. 같은 눈이 2개만 나오는 경우에는 1,000원+(같은 눈)×100원의 상금을 받게 된다. \n",
        "3. 모두 다른 눈이 나오는 경우에는 (그 중 가장 큰 눈)×100원의 상금을 받게 된다.  \n",
        "\n",
        "예를 들어, 3개의 눈 3, 3, 6이 주어지면 상금은 1,000+3×100으로 계산되어 1,300원을 받게 된다. 또 3개의 눈이 2, 2, 2로 주어지면 10,000+2×1,000 으로 계산되어 12,000원을 받게 된다. 3개의 눈이 6, 2, 5로 주어지면 그중 가장 큰 값이 6이므로 6×100으로 계산되어 600원을 상금으로 받게 된다.\n",
        "\n",
        "3개 주사위의 나온 눈이 주어질 때, 상금을 계산하는 프로그램을 작성 하시오."
      ],
      "metadata": {
        "id": "GvZ-nUtMU2Gi"
      }
    },
    {
      "cell_type": "markdown",
      "source": [
        "#### <입력>\n",
        "첫째 줄에 3개의 눈이 빈칸을 사이에 두고 각각 주어진다. \n",
        "```\n",
        "3 3 6\n",
        "```\n",
        "\n",
        "---\n",
        "#### <출력>\n",
        "첫째 줄에 게임의 상금을 출력 한다.\n",
        "```\n",
        "1300\n",
        "```"
      ],
      "metadata": {
        "id": "jey61NaqVTW5"
      }
    },
    {
      "cell_type": "markdown",
      "source": [
        "### 🐣 내 풀이"
      ],
      "metadata": {
        "id": "UNXlkzWYViOp"
      }
    },
    {
      "cell_type": "code",
      "execution_count": 5,
      "metadata": {
        "id": "Pw9pOQuiUuTO",
        "colab": {
          "base_uri": "https://localhost:8080/"
        },
        "outputId": "db2c4d21-0724-48b7-f7c0-5db7808b0e7c"
      },
      "outputs": [
        {
          "output_type": "stream",
          "name": "stdout",
          "text": [
            "6 2 5\n",
            "600\n"
          ]
        }
      ],
      "source": [
        "a, b, c = map(int,input().split())\n",
        "\n",
        "if a == b and a == c :\n",
        "  prize = 10000 + a * 1000\n",
        "elif a == b or a == c :\n",
        "  prize = 1000 + a * 100\n",
        "elif b == c :\n",
        "  prize = 1000 + b * 100\n",
        "else :\n",
        "  prize = max(a, b, c) * 100\n",
        "\n",
        "print(prize)"
      ]
    },
    {
      "cell_type": "markdown",
      "source": [
        "### 👩‍💻 다른 풀이"
      ],
      "metadata": {
        "id": "l4tdzTXjVley"
      }
    },
    {
      "cell_type": "code",
      "source": [
        "a, b, c = map(int, input().split())\n",
        "\n",
        "if a == b == c:\n",
        "    print(10000+a*1000)\n",
        "elif a == b:\n",
        "    print(1000+a*100)\n",
        "elif a == c:\n",
        "    print(1000+a*100)\n",
        "elif b == c:\n",
        "    print(1000+b*100)\n",
        "else:\n",
        "    print(100 * max(a,b,c))"
      ],
      "metadata": {
        "id": "kd12OEibVo17"
      },
      "execution_count": null,
      "outputs": []
    },
    {
      "cell_type": "code",
      "source": [
        "a,b,c=map(int,input().split())\n",
        "if a==b==c:\n",
        "    print(10000+a*1000)\n",
        "elif a==b or b==c:\n",
        "    print(1000+b*100)\n",
        "elif a==c:\n",
        "    print(1000+a*100)\n",
        "else:\n",
        "    print(max(a,b,c)*100)"
      ],
      "metadata": {
        "id": "bimj6M2wSMmC"
      },
      "execution_count": null,
      "outputs": []
    },
    {
      "cell_type": "markdown",
      "source": [
        "#### 🔍 참고사이트\n",
        "- [파이썬_최소값,최대값](https://codechacha.com/ko/python-min-max/)\n",
        "- [2480 문제 풀이 1](https://claude-u.tistory.com/223)\n",
        "- [2480 문제 풀이 2](https://neomindstd.github.io/%EB%AC%B8%EC%A0%9C%ED%92%80%EC%9D%B4/boj2480/)"
      ],
      "metadata": {
        "id": "X6qeTCkjVpLJ"
      }
    }
  ]
}