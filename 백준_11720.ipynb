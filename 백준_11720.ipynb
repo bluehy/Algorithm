{
  "nbformat": 4,
  "nbformat_minor": 0,
  "metadata": {
    "colab": {
      "provenance": [],
      "collapsed_sections": [],
      "authorship_tag": "ABX9TyO83ydoadsCRcUUTsOLjreQ",
      "include_colab_link": true
    },
    "kernelspec": {
      "name": "python3",
      "display_name": "Python 3"
    },
    "language_info": {
      "name": "python"
    }
  },
  "cells": [
    {
      "cell_type": "markdown",
      "metadata": {
        "id": "view-in-github",
        "colab_type": "text"
      },
      "source": [
        "<a href=\"https://colab.research.google.com/github/bluehy/Algorithm/blob/main/%EB%B0%B1%EC%A4%80_11720.ipynb\" target=\"_parent\"><img src=\"https://colab.research.google.com/assets/colab-badge.svg\" alt=\"Open In Colab\"/></a>"
      ]
    },
    {
      "cell_type": "markdown",
      "source": [
        "# 알고리즘\n",
        "2022.11.09\n",
        "\n",
        "#### 📌백준 11720 파이썬"
      ],
      "metadata": {
        "id": "INO7zA_SUvBA"
      }
    },
    {
      "cell_type": "markdown",
      "source": [
        "N개의 숫자가 공백 없이 쓰여있다. 이 숫자를 모두 합해서 출력하는 프로그램을 작성하시오."
      ],
      "metadata": {
        "id": "GvZ-nUtMU2Gi"
      }
    },
    {
      "cell_type": "markdown",
      "source": [
        "#### <입력>\n",
        "첫째 줄에 숫자의 개수 N (1 ≤ N ≤ 100)이 주어진다. 둘째 줄에 숫자 N개가 공백없이 주어진다.\n",
        "```\n",
        "1\n",
        "1\n",
        "```\n",
        "\n",
        "---\n",
        "#### <출력>\n",
        "입력으로 주어진 숫자 N개의 합을 출력한다.\n",
        "```\n",
        "1\n",
        "```"
      ],
      "metadata": {
        "id": "jey61NaqVTW5"
      }
    },
    {
      "cell_type": "markdown",
      "source": [
        "### 🐣 내 풀이"
      ],
      "metadata": {
        "id": "UNXlkzWYViOp"
      }
    },
    {
      "cell_type": "code",
      "execution_count": 6,
      "metadata": {
        "id": "Pw9pOQuiUuTO",
        "colab": {
          "base_uri": "https://localhost:8080/"
        },
        "outputId": "40e41e64-9f66-44b4-f189-7cd0cd5f8bda"
      },
      "outputs": [
        {
          "output_type": "stream",
          "name": "stdout",
          "text": [
            "1\n",
            "54321\n",
            "15\n"
          ]
        }
      ],
      "source": [
        "N = int(input())\n",
        "sum = 0\n",
        "\n",
        "for i in str(input()):\n",
        "  sum += int(i)\n",
        "\n",
        "print(sum)"
      ]
    },
    {
      "cell_type": "markdown",
      "source": [
        "### 👩‍💻 다른 풀이"
      ],
      "metadata": {
        "id": "l4tdzTXjVley"
      }
    },
    {
      "cell_type": "code",
      "source": [
        "# sum 함수를 이용\n",
        "n = input()\n",
        "\n",
        "# del sum\n",
        "# n개의 숫자가 공백 없는 문자열인 점을 이용하여 map함수로 각 자리의 수를 int 타입으로 변환하였고 이후 sum 함수를 이용해서 모두 합한 값을 출력하였다. \n",
        "print(sum(map(int,input())))"
      ],
      "metadata": {
        "colab": {
          "base_uri": "https://localhost:8080/"
        },
        "id": "aPC_tw-gyYpQ",
        "outputId": "08ed0f21-d6db-4a17-cc3f-f99df6e74777"
      },
      "execution_count": 15,
      "outputs": [
        {
          "output_type": "stream",
          "name": "stdout",
          "text": [
            "5\n",
            "54321\n",
            "15\n"
          ]
        }
      ]
    },
    {
      "cell_type": "code",
      "source": [
        "# for문을 이용 : input()을 그대로 활용\n",
        "n = input()\n",
        "nums = input()\n",
        "total = 0\n",
        "\n",
        "for i in nums :\n",
        "    total += int(i)  # total= total+int(i)\n",
        "print(total)"
      ],
      "metadata": {
        "colab": {
          "base_uri": "https://localhost:8080/"
        },
        "id": "cD1AGmhEw8XM",
        "outputId": "cb80adc0-3640-42a6-ae82-78c8f341db66"
      },
      "execution_count": 16,
      "outputs": [
        {
          "output_type": "stream",
          "name": "stdout",
          "text": [
            "5\n",
            "54321\n",
            "15\n"
          ]
        }
      ]
    },
    {
      "cell_type": "code",
      "source": [
        "# for문을 이용 : 갯수N을 활용\n",
        "n = int(input())\n",
        "nums = input()\n",
        "total = 0\n",
        "\n",
        "for i in range(n) :  # 0부터 n-1까지\n",
        "    total += int(nums[i])\n",
        "print(total)"
      ],
      "metadata": {
        "id": "lspXWlRcxCSB"
      },
      "execution_count": null,
      "outputs": []
    },
    {
      "cell_type": "markdown",
      "source": [
        "#### 🔍 참고사이트\n",
        "- [11720 문제 풀이 1](https://ooyoung.tistory.com/67)\n",
        "- ['int' object is not callable](https://m.blog.naver.com/passionisall/221828106961)"
      ],
      "metadata": {
        "id": "X6qeTCkjVpLJ"
      }
    }
  ]
}