{
  "nbformat": 4,
  "nbformat_minor": 0,
  "metadata": {
    "colab": {
      "provenance": [],
      "authorship_tag": "ABX9TyOc7PKj9L6keN3mvEbLTkyC",
      "include_colab_link": true
    },
    "kernelspec": {
      "name": "python3",
      "display_name": "Python 3"
    },
    "language_info": {
      "name": "python"
    }
  },
  "cells": [
    {
      "cell_type": "markdown",
      "metadata": {
        "id": "view-in-github",
        "colab_type": "text"
      },
      "source": [
        "<a href=\"https://colab.research.google.com/github/bluehy/Algorithm/blob/main/%EB%B0%B1%EC%A4%80_5622.ipynb\" target=\"_parent\"><img src=\"https://colab.research.google.com/assets/colab-badge.svg\" alt=\"Open In Colab\"/></a>"
      ]
    },
    {
      "cell_type": "markdown",
      "source": [
        "# 알고리즘\n",
        "2022.11.28\n",
        "\n",
        "#### 📌백준 5622 파이썬"
      ],
      "metadata": {
        "id": "INO7zA_SUvBA"
      }
    },
    {
      "cell_type": "markdown",
      "source": [
        "상근이의 할머니는 아래 그림과 같이 오래된 다이얼 전화기를 사용한다.\n",
        "![image.png](https://upload.acmicpc.net/9c88dd24-3a4c-4a09-bc50-e6496958214d/-/preview/)\n",
        "\n",
        "전화를 걸고 싶은 번호가 있다면, 숫자를 하나를 누른 다음에 금속 핀이 있는 곳 까지 시계방향으로 돌려야 한다. 숫자를 하나 누르면 다이얼이 처음 위치로 돌아가고, 다음 숫자를 누르려면 다이얼을 처음 위치에서 다시 돌려야 한다.\n",
        "\n",
        "숫자 1을 걸려면 총 2초가 필요하다. 1보다 큰 수를 거는데 걸리는 시간은 이보다 더 걸리며, 한 칸 옆에 있는 숫자를 걸기 위해선 1초씩 더 걸린다.\n",
        "\n",
        "상근이의 할머니는 전화 번호를 각 숫자에 해당하는 문자로 외운다. 즉, 어떤 단어를 걸 때, 각 알파벳에 해당하는 숫자를 걸면 된다. 예를 들어, UNUCIC는 868242와 같다.\n",
        "\n",
        "할머니가 외운 단어가 주어졌을 때, 이 전화를 걸기 위해서 필요한 최소 시간을 구하는 프로그램을 작성하시오."
      ],
      "metadata": {
        "id": "GvZ-nUtMU2Gi"
      }
    },
    {
      "cell_type": "markdown",
      "source": [
        "#### <입력>\n",
        "첫째 줄에 알파벳 대문자로 이루어진 단어가 주어진다. 단어의 길이는 2보다 크거나 같고, 15보다 작거나 같다.\n",
        "```\n",
        "WA\n",
        "```\n",
        "\n",
        "---\n",
        "#### <출력>\n",
        "첫째 줄에 다이얼을 걸기 위해서 필요한 최소 시간을 출력한다.\n",
        "```\n",
        "13\n",
        "```"
      ],
      "metadata": {
        "id": "jey61NaqVTW5"
      }
    },
    {
      "cell_type": "markdown",
      "source": [
        "### 🐣 내 풀이"
      ],
      "metadata": {
        "id": "UNXlkzWYViOp"
      }
    },
    {
      "cell_type": "code",
      "execution_count": 32,
      "metadata": {
        "id": "Pw9pOQuiUuTO",
        "colab": {
          "base_uri": "https://localhost:8080/"
        },
        "outputId": "52088e1b-b114-4c91-a269-0accc0390346"
      },
      "outputs": [
        {
          "output_type": "stream",
          "name": "stdout",
          "text": [
            "wa\n",
            "13\n"
          ]
        }
      ],
      "source": [
        "call = {3:\"ABC\",4:\"DEF\",5:\"GHI\",6:\"JKL\",7:\"MNO\",8:\"PQRS\",9:\"TUV\",10:\"WXYZ\"}\n",
        "word = input()\n",
        "sum = 0\n",
        "\n",
        "for i in word:\n",
        "  i = i.upper()                    # print(i)\n",
        "  for j in call:                   # call의 key값이 j로 호출됨.\n",
        "    if call[j].find(i) != -1:      # call[j]는 value값을 호출하므로 안에서 문자열 포함 여부를 확인한다\n",
        "      sum += j                     # 문자열이 포함될 경우 key, 즉 j가 소요되는 시간으로 계산된다.\n",
        "print(sum)"
      ]
    },
    {
      "cell_type": "markdown",
      "source": [
        "### 👩‍💻 다른 풀이"
      ],
      "metadata": {
        "id": "l4tdzTXjVley"
      }
    },
    {
      "cell_type": "code",
      "source": [
        "dial = ['ABC', 'DEF', 'GHI', 'JKL', 'MNO', 'PQRS', 'TUV', 'WXYZ']\n",
        "a = input()\n",
        "ret = 0\n",
        "for j in range(len(a)):\n",
        "    for i in dial:\n",
        "        if a[j] in i:\n",
        "            ret += dial.index(i)+3\n",
        "print(ret)"
      ],
      "metadata": {
        "id": "kd12OEibVo17"
      },
      "execution_count": null,
      "outputs": []
    },
    {
      "cell_type": "code",
      "source": [
        "alpabet_list = ['ABC','DEF','GHI','JKL','MNO','PQRS','TUV','WXYZ']\n",
        "word = input()\n",
        "\n",
        "time = 0\n",
        "for unit in alpabet_list :  \n",
        "    for i in unit:                # alpabet 리스트에서 각 요소를 꺼내서 한글자씩 분리\n",
        "        for x in word :           # 입력받은 문자를 하나씩 분리\n",
        "            if i == x :           # 두 알파벳이 같으면\n",
        "                time += alpabet_list.index(unit) +3  # time = time + index +3\n",
        "print(time)"
      ],
      "metadata": {
        "id": "c4GuYymgrh84"
      },
      "execution_count": null,
      "outputs": []
    },
    {
      "cell_type": "code",
      "source": [
        "x = input().lower()\n",
        "cnt = 0\n",
        "for i in x:\n",
        "    if i == 'a' or i == 'b' or i == 'c':\n",
        "        cnt += 3\n",
        "    elif i == 'd' or i == 'e' or i == 'f':\n",
        "        cnt += 4\n",
        "    elif i == 'g' or i == 'h' or i == 'i':\n",
        "        cnt += 5\n",
        "    elif i == i == 'j' or i == 'k' or i =='l':\n",
        "        cnt += 6\n",
        "    elif i == i =='m' or i =='n' or i =='o':\n",
        "        cnt += 7\n",
        "    elif i == 'p' or i =='q' or i =='r' or i =='s':\n",
        "        cnt += 8\n",
        "    elif i == 't' or i =='u' or i =='v':\n",
        "        cnt += 9\n",
        "    elif i == 'w' or i =='x' or i =='y' or i =='z':\n",
        "        cnt += 10\n",
        "    else:\n",
        "        cnt += 0\n",
        "print(cnt)"
      ],
      "metadata": {
        "id": "ptUiF32esECa"
      },
      "execution_count": null,
      "outputs": []
    },
    {
      "cell_type": "code",
      "source": [
        "def dial(telephone_number):\n",
        "    dial_dict = {\"A\": 3, \"B\": 3, \"C\": 3, \"D\": 4, \"E\": 4, \"F\": 4, \n",
        "                 \"G\": 5, \"H\": 5, \"I\": 5, \"J\": 6, \"K\": 6, \"L\": 6, \n",
        "                 \"M\": 7, \"N\": 7, \"O\": 7, \"P\": 8, \"Q\": 8, \"R\": 8, \"S\": 8, \n",
        "                 \"T\": 9, \"U\": 9, \"V\": 9, \"W\": 10, \"X\": 10, \"Y\": 10, \"Z\": 10}\n",
        "    time = 0\n",
        "    \n",
        "    for dial_num in list(telephone_number):\n",
        "        time += dial_dict[dial_num]\n",
        "        \n",
        "    return time\n",
        "\n",
        "if __name__ == \"__main__\":\n",
        "    telephone_number = input()\n",
        "    \n",
        "    print(dial(telephone_number))"
      ],
      "metadata": {
        "id": "A45Y5ComsJ5F"
      },
      "execution_count": null,
      "outputs": []
    },
    {
      "cell_type": "markdown",
      "source": [
        "#### 🔍 참고사이트\n",
        "- [Python에서 Match String, 일치하는 문자열 찾는 방법](https://webisfree.com/2017-08-23/python%EC%97%90%EC%84%9C-match-string-%EC%9D%BC%EC%B9%98%ED%95%98%EB%8A%94-%EB%AC%B8%EC%9E%90%EC%97%B4-%EC%B0%BE%EB%8A%94-%EB%B0%A9%EB%B2%95)\n",
        "- [딕셔너리 자료형](https://wikidocs.net/16)\n",
        "- [#문자열 내에 원하는 문자열 포함여부 체크하는 방법](https://supersett-diary.tistory.com/m/159)\n",
        "- [5622 문제 풀이 1](https://j-remind.tistory.com/76)\n",
        "- [5622 문제 풀이 2](https://ooyoung.tistory.com/73)\n",
        "- [5622 문제 풀이 3](https://one-hour.tistory.com/24)\n",
        "- [5622 문제 풀이 4](https://somjang.tistory.com/entry/BaekJoon-5622%EB%B2%88-%EB%8B%A4%EC%9D%B4%EC%96%BC-Python)\n",
        "---\n",
        "- [How do i get index of list in list?](https://stackoverflow.com/questions/15233767/how-do-i-get-index-of-list-in-list)\n",
        "![image.png](data:image/png;base64,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)"
      ],
      "metadata": {
        "id": "X6qeTCkjVpLJ"
      }
    }
  ]
}