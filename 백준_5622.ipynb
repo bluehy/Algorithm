{
  "nbformat": 4,
  "nbformat_minor": 0,
  "metadata": {
    "colab": {
      "provenance": [],
      "authorship_tag": "ABX9TyNRK4o89ONYBBDxlvX4O6cz",
      "include_colab_link": true
    },
    "kernelspec": {
      "name": "python3",
      "display_name": "Python 3"
    },
    "language_info": {
      "name": "python"
    }
  },
  "cells": [
    {
      "cell_type": "markdown",
      "metadata": {
        "id": "view-in-github",
        "colab_type": "text"
      },
      "source": [
        "<a href=\"https://colab.research.google.com/github/bluehy/Algorithm/blob/main/%EB%B0%B1%EC%A4%80_5622.ipynb\" target=\"_parent\"><img src=\"https://colab.research.google.com/assets/colab-badge.svg\" alt=\"Open In Colab\"/></a>"
      ]
    },
    {
      "cell_type": "markdown",
      "source": [
        "# 알고리즘\n",
        "2022.11.28\n",
        "\n",
        "#### 📌백준 5622 파이썬"
      ],
      "metadata": {
        "id": "INO7zA_SUvBA"
      }
    },
    {
      "cell_type": "markdown",
      "source": [
        "상근이의 할머니는 아래 그림과 같이 오래된 다이얼 전화기를 사용한다.\n",
        "![image.png](https://upload.acmicpc.net/9c88dd24-3a4c-4a09-bc50-e6496958214d/-/preview/)\n",
        "\n",
        "전화를 걸고 싶은 번호가 있다면, 숫자를 하나를 누른 다음에 금속 핀이 있는 곳 까지 시계방향으로 돌려야 한다. 숫자를 하나 누르면 다이얼이 처음 위치로 돌아가고, 다음 숫자를 누르려면 다이얼을 처음 위치에서 다시 돌려야 한다.\n",
        "\n",
        "숫자 1을 걸려면 총 2초가 필요하다. 1보다 큰 수를 거는데 걸리는 시간은 이보다 더 걸리며, 한 칸 옆에 있는 숫자를 걸기 위해선 1초씩 더 걸린다.\n",
        "\n",
        "상근이의 할머니는 전화 번호를 각 숫자에 해당하는 문자로 외운다. 즉, 어떤 단어를 걸 때, 각 알파벳에 해당하는 숫자를 걸면 된다. 예를 들어, UNUCIC는 868242와 같다.\n",
        "\n",
        "할머니가 외운 단어가 주어졌을 때, 이 전화를 걸기 위해서 필요한 최소 시간을 구하는 프로그램을 작성하시오."
      ],
      "metadata": {
        "id": "GvZ-nUtMU2Gi"
      }
    },
    {
      "cell_type": "markdown",
      "source": [
        "#### <입력>\n",
        "첫째 줄에 알파벳 대문자로 이루어진 단어가 주어진다. 단어의 길이는 2보다 크거나 같고, 15보다 작거나 같다.\n",
        "```\n",
        "WA\n",
        "```\n",
        "\n",
        "---\n",
        "#### <출력>\n",
        "첫째 줄에 다이얼을 걸기 위해서 필요한 최소 시간을 출력한다.\n",
        "```\n",
        "13\n",
        "```"
      ],
      "metadata": {
        "id": "jey61NaqVTW5"
      }
    },
    {
      "cell_type": "markdown",
      "source": [
        "### 🐣 내 풀이"
      ],
      "metadata": {
        "id": "UNXlkzWYViOp"
      }
    },
    {
      "cell_type": "code",
      "execution_count": 32,
      "metadata": {
        "id": "Pw9pOQuiUuTO",
        "colab": {
          "base_uri": "https://localhost:8080/"
        },
        "outputId": "52088e1b-b114-4c91-a269-0accc0390346"
      },
      "outputs": [
        {
          "output_type": "stream",
          "name": "stdout",
          "text": [
            "wa\n",
            "13\n"
          ]
        }
      ],
      "source": [
        "call = {3:\"ABC\",4:\"DEF\",5:\"GHI\",6:\"JKL\",7:\"MNO\",8:\"PQRS\",9:\"TUV\",10:\"WXYZ\"}\n",
        "word = input()\n",
        "sum = 0\n",
        "\n",
        "for i in word:\n",
        "  i = i.upper()                    # print(i)\n",
        "  for j in call:                   # call의 key값이 j로 호출됨.\n",
        "    if call[j].find(i) != -1:      # call[j]는 value값을 호출하므로 안에서 문자열 포함 여부를 확인한다\n",
        "      sum += j                     # 문자열이 포함될 경우 key, 즉 j가 소요되는 시간으로 계산된다.\n",
        "print(sum)"
      ]
    },
    {
      "cell_type": "markdown",
      "source": [
        "### 👩‍💻 다른 풀이"
      ],
      "metadata": {
        "id": "l4tdzTXjVley"
      }
    },
    {
      "cell_type": "code",
      "source": [
        "dial = ['ABC', 'DEF', 'GHI', 'JKL', 'MNO', 'PQRS', 'TUV', 'WXYZ']\n",
        "a = input()\n",
        "ret = 0\n",
        "for j in range(len(a)):\n",
        "    for i in dial:\n",
        "        if a[j] in i:\n",
        "            ret += dial.index(i)+3\n",
        "print(ret)"
      ],
      "metadata": {
        "id": "kd12OEibVo17"
      },
      "execution_count": null,
      "outputs": []
    },
    {
      "cell_type": "code",
      "source": [
        "alpabet_list = ['ABC','DEF','GHI','JKL','MNO','PQRS','TUV','WXYZ']\n",
        "word = input()\n",
        "\n",
        "time = 0\n",
        "for unit in alpabet_list :  \n",
        "    for i in unit:                # alpabet 리스트에서 각 요소를 꺼내서 한글자씩 분리\n",
        "        for x in word :           # 입력받은 문자를 하나씩 분리\n",
        "            if i == x :           # 두 알파벳이 같으면\n",
        "                time += alpabet_list.index(unit) +3  # time = time + index +3\n",
        "print(time)"
      ],
      "metadata": {
        "id": "c4GuYymgrh84"
      },
      "execution_count": null,
      "outputs": []
    },
    {
      "cell_type": "code",
      "source": [
        "x = input().lower()\n",
        "cnt = 0\n",
        "for i in x:\n",
        "    if i == 'a' or i == 'b' or i == 'c':\n",
        "        cnt += 3\n",
        "    elif i == 'd' or i == 'e' or i == 'f':\n",
        "        cnt += 4\n",
        "    elif i == 'g' or i == 'h' or i == 'i':\n",
        "        cnt += 5\n",
        "    elif i == i == 'j' or i == 'k' or i =='l':\n",
        "        cnt += 6\n",
        "    elif i == i =='m' or i =='n' or i =='o':\n",
        "        cnt += 7\n",
        "    elif i == 'p' or i =='q' or i =='r' or i =='s':\n",
        "        cnt += 8\n",
        "    elif i == 't' or i =='u' or i =='v':\n",
        "        cnt += 9\n",
        "    elif i == 'w' or i =='x' or i =='y' or i =='z':\n",
        "        cnt += 10\n",
        "    else:\n",
        "        cnt += 0\n",
        "print(cnt)"
      ],
      "metadata": {
        "id": "ptUiF32esECa"
      },
      "execution_count": null,
      "outputs": []
    },
    {
      "cell_type": "code",
      "source": [
        "def dial(telephone_number):\n",
        "    dial_dict = {\"A\": 3, \"B\": 3, \"C\": 3, \"D\": 4, \"E\": 4, \"F\": 4, \n",
        "                 \"G\": 5, \"H\": 5, \"I\": 5, \"J\": 6, \"K\": 6, \"L\": 6, \n",
        "                 \"M\": 7, \"N\": 7, \"O\": 7, \"P\": 8, \"Q\": 8, \"R\": 8, \"S\": 8, \n",
        "                 \"T\": 9, \"U\": 9, \"V\": 9, \"W\": 10, \"X\": 10, \"Y\": 10, \"Z\": 10}\n",
        "    time = 0\n",
        "    \n",
        "    for dial_num in list(telephone_number):\n",
        "        time += dial_dict[dial_num]\n",
        "        \n",
        "    return time\n",
        "\n",
        "if __name__ == \"__main__\":\n",
        "    telephone_number = input()\n",
        "    \n",
        "    print(dial(telephone_number))"
      ],
      "metadata": {
        "id": "A45Y5ComsJ5F"
      },
      "execution_count": null,
      "outputs": []
    },
    {
      "cell_type": "markdown",
      "source": [
        "#### 🔍 참고사이트\n",
        "- [Python에서 Match String, 일치하는 문자열 찾는 방법](https://webisfree.com/2017-08-23/python%EC%97%90%EC%84%9C-match-string-%EC%9D%BC%EC%B9%98%ED%95%98%EB%8A%94-%EB%AC%B8%EC%9E%90%EC%97%B4-%EC%B0%BE%EB%8A%94-%EB%B0%A9%EB%B2%95)\n",
        "- [딕셔너리 자료형](https://wikidocs.net/16)\n",
        "- [#문자열 내에 원하는 문자열 포함여부 체크하는 방법](https://supersett-diary.tistory.com/m/159)\n",
        "- [5622 문제 풀이 1](https://j-remind.tistory.com/76)\n",
        "- [5622 문제 풀이 2](https://ooyoung.tistory.com/73)\n",
        "- [5622 문제 풀이 3](https://one-hour.tistory.com/24)\n",
        "- [5622 문제 풀이 4](https://somjang.tistory.com/entry/BaekJoon-5622%EB%B2%88-%EB%8B%A4%EC%9D%B4%EC%96%BC-Python)"
      ],
      "metadata": {
        "id": "X6qeTCkjVpLJ"
      }
    }
  ]
}