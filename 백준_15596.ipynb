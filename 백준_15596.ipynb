{
  "nbformat": 4,
  "nbformat_minor": 0,
  "metadata": {
    "colab": {
      "provenance": [],
      "collapsed_sections": [],
      "authorship_tag": "ABX9TyN79+0lQnK71STLQH91e5aJ",
      "include_colab_link": true
    },
    "kernelspec": {
      "name": "python3",
      "display_name": "Python 3"
    },
    "language_info": {
      "name": "python"
    }
  },
  "cells": [
    {
      "cell_type": "markdown",
      "metadata": {
        "id": "view-in-github",
        "colab_type": "text"
      },
      "source": [
        "<a href=\"https://colab.research.google.com/github/bluehy/Algorithm/blob/main/%EB%B0%B1%EC%A4%80_15596.ipynb\" target=\"_parent\"><img src=\"https://colab.research.google.com/assets/colab-badge.svg\" alt=\"Open In Colab\"/></a>"
      ]
    },
    {
      "cell_type": "markdown",
      "source": [
        "# 알고리즘\n",
        "2022.11.03\n",
        "\n",
        "#### 📌백준 15596 파이썬"
      ],
      "metadata": {
        "id": "INO7zA_SUvBA"
      }
    },
    {
      "cell_type": "markdown",
      "source": [
        "정수 n개가 주어졌을 때, n개의 합을 구하는 함수를 작성하시오.\n",
        "\n",
        "작성해야 하는 함수는 다음과 같다.\n",
        "\n",
        "- C, C11, C (Clang), C11 (Clang): long long sum(int *a, int n);\n",
        "  - a: 합을 구해야 하는 정수 n개가 저장되어 있는 배열 (0 ≤ a[i] ≤ 1,000,000, 1 ≤ n ≤ 3,000,000)\n",
        "  - n: 합을 구해야 하는 정수의 개수\n",
        "  - 리턴값: a에 포함되어 있는 정수 n개의 합\n",
        "- C++, C++11, C++14, C++17, C++ (Clang), C++11 (Clang), C++14 (Clang), C++17 (Clang): long long sum(std::vector<int> &a);\n",
        "  - a: 합을 구해야 하는 정수 n개가 저장되어 있는 배열 (0 ≤ a[i] ≤ 1,000,000, 1 ≤ n ≤ 3,000,000)\n",
        "  - 리턴값: a에 포함되어 있는 정수 n개의 합\n",
        "- Python 2, Python 3, PyPy, PyPy3: def solve(a: list) -> int\n",
        "  - a: 합을 구해야 하는 정수 n개가 저장되어 있는 리스트 (0 ≤ a[i] ≤ 1,000,000, 1 ≤ n ≤ 3,000,000)\n",
        "  - 리턴값: a에 포함되어 있는 정수 n개의 합 (정수)\n",
        "- Java: long sum(int[] a); (클래스 이름: Test)\n",
        "  - a: 합을 구해야 하는 정수 n개가 저장되어 있는 배열 (0 ≤ a[i] ≤ 1,000,000, 1 ≤ n ≤ 3,000,000)\n",
        "  - 리턴값: a에 포함되어 있는 정수 n개의 합\n",
        "- Go: sum(a []int) int\n",
        "  - a: 합을 구해야 하는 정수 n개가 저장되어 있는 배열 (0 ≤ a[i] ≤ 1,000,000, 1 ≤ n ≤ 3,000,000)\n",
        "  - 리턴값: a에 포함되어 있는 정수 n개의 합"
      ],
      "metadata": {
        "id": "GvZ-nUtMU2Gi"
      }
    },
    {
      "cell_type": "markdown",
      "source": [
        "### 🐣 내 풀이"
      ],
      "metadata": {
        "id": "UNXlkzWYViOp"
      }
    },
    {
      "cell_type": "code",
      "execution_count": null,
      "metadata": {
        "id": "Pw9pOQuiUuTO"
      },
      "outputs": [],
      "source": [
        "def solve(a:list):\n",
        "  sum = 0\n",
        "  for i in a:\n",
        "    sum += a\n",
        "    # sum = sum + a\n",
        "  return sum"
      ]
    },
    {
      "cell_type": "markdown",
      "source": [
        "### 👩‍💻 다른 풀이"
      ],
      "metadata": {
        "id": "l4tdzTXjVley"
      }
    },
    {
      "cell_type": "code",
      "source": [
        "def solve(a):\n",
        "  return sum(a)"
      ],
      "metadata": {
        "id": "kd12OEibVo17"
      },
      "execution_count": null,
      "outputs": []
    },
    {
      "cell_type": "code",
      "source": [
        "def solve(a):\n",
        "    ans = sum(a)\n",
        "    return ans"
      ],
      "metadata": {
        "id": "INzp646B4GhU"
      },
      "execution_count": null,
      "outputs": []
    },
    {
      "cell_type": "markdown",
      "source": [
        "#### 🔍 참고사이트\n",
        "- [파이썬 함수](https://wikidocs.net/24)\n",
        "- [for in 반복문](https://wikidocs.net/16045)\n",
        "- [NameError](https://thebook.io/006888/partxt/xa/03/)\n",
        "- [15596 문제 풀이 1](https://doinge-coding.tistory.com/51)\n",
        "- [15596 문제 풀이 2](https://sunning-10.tistory.com/9)"
      ],
      "metadata": {
        "id": "X6qeTCkjVpLJ"
      }
    }
  ]
}