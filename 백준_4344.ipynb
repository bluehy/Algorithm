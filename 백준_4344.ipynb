{
  "nbformat": 4,
  "nbformat_minor": 0,
  "metadata": {
    "colab": {
      "provenance": [],
      "collapsed_sections": [],
      "authorship_tag": "ABX9TyM6QvJT6NV7yrqIZ/3ixZ9k",
      "include_colab_link": true
    },
    "kernelspec": {
      "name": "python3",
      "display_name": "Python 3"
    },
    "language_info": {
      "name": "python"
    }
  },
  "cells": [
    {
      "cell_type": "markdown",
      "metadata": {
        "id": "view-in-github",
        "colab_type": "text"
      },
      "source": [
        "<a href=\"https://colab.research.google.com/github/bluehy/Algorithm/blob/main/%EB%B0%B1%EC%A4%80_4344.ipynb\" target=\"_parent\"><img src=\"https://colab.research.google.com/assets/colab-badge.svg\" alt=\"Open In Colab\"/></a>"
      ]
    },
    {
      "cell_type": "markdown",
      "source": [
        "# 알고리즘\n",
        "2022.10.13\n",
        "\n",
        "#### 📌백준 4344 파이썬"
      ],
      "metadata": {
        "id": "INO7zA_SUvBA"
      }
    },
    {
      "cell_type": "markdown",
      "source": [
        "대학생 새내기들의 90%는 자신이 반에서 평균은 넘는다고 생각한다. 당신은 그들에게 슬픈 진실을 알려줘야 한다."
      ],
      "metadata": {
        "id": "GvZ-nUtMU2Gi"
      }
    },
    {
      "cell_type": "markdown",
      "source": [
        "#### <입력>\n",
        "첫째 줄에는 테스트 케이스의 개수 C가 주어진다.\n",
        "\n",
        "둘째 줄부터 각 테스트 케이스마다 학생의 수 N(1 ≤ N ≤ 1000, N은 정수)이 첫 수로 주어지고, 이어서 N명의 점수가 주어진다. 점수는 0보다 크거나 같고, 100보다 작거나 같은 정수이다.\n",
        "```\n",
        "5\n",
        "5 50 50 70 80 100\n",
        "7 100 95 90 80 70 60 50\n",
        "3 70 90 80\n",
        "3 70 90 81\n",
        "9 100 99 98 97 96 95 94 93 91\n",
        "```\n",
        "\n",
        "---\n",
        "#### <출력>\n",
        "각 케이스마다 한 줄씩 평균을 넘는 학생들의 비율을 반올림하여 소수점 셋째 자리까지 출력한다.\n",
        "```\n",
        "40.000%\n",
        "57.143%\n",
        "33.333%\n",
        "66.667%\n",
        "55.556%\n",
        "```"
      ],
      "metadata": {
        "id": "jey61NaqVTW5"
      }
    },
    {
      "cell_type": "markdown",
      "source": [
        "### 🐣 내 풀이"
      ],
      "metadata": {
        "id": "UNXlkzWYViOp"
      }
    },
    {
      "cell_type": "code",
      "execution_count": 24,
      "metadata": {
        "id": "Pw9pOQuiUuTO",
        "colab": {
          "base_uri": "https://localhost:8080/"
        },
        "outputId": "2feb294d-4ce2-4276-8c28-aadd4ae34b06"
      },
      "outputs": [
        {
          "output_type": "stream",
          "name": "stdout",
          "text": [
            "5\n",
            "5 50 50 70 80 100\n",
            "40.000%\n",
            "7 100 95 90 80 70 60 50\n",
            "57.143%\n",
            "3 70 90 80\n",
            "33.333%\n",
            "3 70 90 81\n",
            "66.667%\n",
            "9 100 99 98 97 96 95 94 93 91\n",
            "55.556%\n"
          ]
        }
      ],
      "source": [
        "c = int(input())\n",
        "for i in range(c):\n",
        "  score_list = list(map(int,input().split()))\n",
        "  N = score_list[0]\n",
        "  del score_list[0]\n",
        "\n",
        "  sum_list = sum(score_list)\n",
        "  avg_list = sum_list / N\n",
        "  M = 0\n",
        "\n",
        "  for i in score_list:\n",
        "    if i > avg_list:\n",
        "      M += 1\n",
        "  print(\"{0:.3f}%\".format(M/N * 100))"
      ]
    },
    {
      "cell_type": "markdown",
      "source": [
        "### 👩‍💻 다른 풀이"
      ],
      "metadata": {
        "id": "l4tdzTXjVley"
      }
    },
    {
      "cell_type": "code",
      "source": [],
      "metadata": {
        "id": "kd12OEibVo17"
      },
      "execution_count": null,
      "outputs": []
    },
    {
      "cell_type": "markdown",
      "source": [
        "#### 🔍 참고사이트\n",
        "- [리스트에서 요소 제거하기](https://devpouch.tistory.com/69)\n",
        "- [문자열 포매팅](https://blockdmask.tistory.com/429)\n",
        "- [문자열 포매팅: format(), {index.3f}](https://dogsavestheworld.tistory.com/147)"
      ],
      "metadata": {
        "id": "X6qeTCkjVpLJ"
      }
    }
  ]
}